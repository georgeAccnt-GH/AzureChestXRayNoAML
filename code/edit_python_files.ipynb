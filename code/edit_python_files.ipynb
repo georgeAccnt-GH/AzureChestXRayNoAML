{
 "cells": [
  {
   "cell_type": "markdown",
   "metadata": {},
   "source": [
    "### Leverage Notebook GUI to edit .py files on disk\n",
    "\n",
    "Copyright (C) Microsoft Corporation.  \n",
    "see license file for details   "
   ]
  },
  {
   "cell_type": "code",
   "execution_count": 7,
   "metadata": {},
   "outputs": [],
   "source": [
    "# Allow multiple displays per cell\n",
    "\n",
    "from IPython.core.interactiveshell import InteractiveShell\n",
    "InteractiveShell.ast_node_interactivity = \"all\""
   ]
  },
  {
   "cell_type": "code",
   "execution_count": 8,
   "metadata": {},
   "outputs": [
    {
     "name": "stdout",
     "output_type": "stream",
     "text": [
      "/datadrive01/prj/AzureChestXRayNoAML/code\n",
      "total 4176\n",
      "-rwxrwxr-x 1 loginvm022 loginvm022  363746 Nov 15 06:44 00_create_docker_image.html\n",
      "-rwxrwxr-x 1 loginvm022 loginvm022 3619490 Nov 15 06:46 00_create_docker_image.ipynb\n",
      "-rw-rw-r-- 1 loginvm022 loginvm022    5915 Nov 15 06:35 00_setup_azure_sa.ipynb\n",
      "drwxrwxr-x 4 loginvm022 loginvm022    4096 Nov 16 04:17 01_DataPrep\n",
      "drwxrwxr-x 2 loginvm022 loginvm022    4096 Nov 14 11:30 02_Model\n",
      "drwxrwxr-x 2 loginvm022 loginvm022    4096 Nov 14 11:53 docker_history\n",
      "-rwxrwxr-x 1 loginvm022 loginvm022  256521 Nov 16 04:16 edit_python_files.html\n",
      "-rwxrwxr-x 1 loginvm022 loginvm022    7151 Nov 16 04:29 edit_python_files.ipynb\n",
      "drwxrwxr-x 3 loginvm022 loginvm022    4096 Nov 15 04:58 src\n"
     ]
    }
   ],
   "source": [
    "!pwd\n",
    "!ls -l"
   ]
  },
  {
   "cell_type": "code",
   "execution_count": 9,
   "metadata": {},
   "outputs": [
    {
     "name": "stdout",
     "output_type": "stream",
     "text": [
      "Overwriting ./src/azure_chestxray_utils.py\n"
     ]
    }
   ],
   "source": [
    "%%writefile ./src/azure_chestxray_utils.py\n",
    "\n",
    "### Copyright (C) Microsoft Corporation.  \n",
    "\n",
    "import os\n",
    "import numpy as np\n",
    "import pandas as pd \n",
    "\n",
    "class chestxray_consts(object):\n",
    "    DISEASE_list = ['Atelectasis', 'Cardiomegaly', 'Effusion', 'Infiltration', 'Mass', 'Nodule', 'Pneumonia',\n",
    "                'Pneumothorax',\n",
    "                'Consolidation', 'Edema', 'Emphysema', 'Fibrosis', 'Pleural Thickening', 'Hernia']\n",
    "    \n",
    "    PRETRAINED_DENSENET201_IMAGENET_CHESTXRAY_MODEL_FILE_NAME =  'chexnet_14_weights_multigpu_contribmodel_121layer_712split_epoch_011_val_loss_153.9783.hdf5'\n",
    "    FULLY_PRETRAINED_MODEL_DIR_list = [ 'fully_trained_models']\n",
    "\n",
    "\n",
    "    CHESTXRAY_MODEL_EXPECTED_IMAGE_HEIGHT  = 224\n",
    "    CHESTXRAY_MODEL_EXPECTED_IMAGE_WIDTH = 224\n",
    "\n",
    "    BASE_INPUT_DIR_list = ['data_dir', 'chestxray', 'ChestX-ray8']\n",
    "    BASE_OUTPUT_DIR_list = ['data_dir', 'chestxray', 'output']\n",
    "    CREDENTIALS_DIR_list = [ 'notShared']\n",
    "\n",
    "    SRC_DIR_list = [ 'src']\n",
    "    ChestXray_IMAGES_DIR_list = ['ChestXray-NIHCC']\n",
    "    ChestXray_OTHER_DATA_DIR_list = ['ChestXray-NIHCC_other']\n",
    "    PROCESSED_IMAGES_DIR_list = ['processed_npy14']\n",
    "    DATA_PARTITIONS_DIR_list = ['data_partitions']\n",
    "    MODEL_WEIGHTS_DIR_list = [ 'weights_tmpdir']\n",
    "\n",
    "    def __setattr__(self, *_):\n",
    "        raise TypeError\n",
    "\n",
    "\n",
    "# os agnostic 'ls' function\n",
    "def get_files_in_dir(crt_dir):\n",
    "        return( [f for f in os.listdir(crt_dir) if os.path.isfile(os.path.join(crt_dir, f))])\n",
    "        \n",
    "       \n",
    "    \n",
    "def normalize_nd_array(crt_array):\n",
    "    # Normalised [0,1]\n",
    "    crt_array = crt_array - np.min(crt_array)\n",
    "    return(crt_array/np.ptp(crt_array))\n",
    "\n",
    "def print_image_stats_by_channel(crt_image):\n",
    "    print('min:')\n",
    "    print(np.amin(crt_image[:,:,0]), \n",
    "          np.amin(crt_image[:,:,1]),\n",
    "          np.amin(crt_image[:,:,2]))\n",
    "    print('max:')\n",
    "    print(np.amax(crt_image[:,:,0]), \n",
    "          np.amax(crt_image[:,:,1]),\n",
    "          np.amax(crt_image[:,:,2]))        \n",
    "\n",
    "class bbox_NIH_data():\n",
    "    def __init__(self, bbox_data_file_dir, bbox_data_file = 'BBox_List_2017.csv'):\n",
    "        all_bbox_data = pd.read_csv(os.path.join(bbox_data_file_dir, bbox_data_file))\n",
    "\n",
    "        # show some stats\n",
    "        # for tallying, collections lib is faster than list comprehension\n",
    "        from collections import Counter\n",
    "        pathologies_distribution = Counter(list(all_bbox_data['Finding Label']))\n",
    "        pathologies_distribution = sorted(pathologies_distribution.items(), key=lambda x: x[1], reverse=True)\n",
    "\n",
    "        print('Pathologies distribution:')\n",
    "        print(pathologies_distribution)\n",
    "        \n",
    "        self.all_bbox_data = all_bbox_data\n",
    "         \n",
    "        print(\"Loaded {} bbox records\".format(self.all_bbox_data.shape))\n",
    "    \n",
    "    def get_patologies_images(self, crt_pathology_name_list):\n",
    "        \n",
    "        #  more complex code needed if bbox data has multiple labels per record \n",
    "        # something like (intersect = set.intersection(*crt_pathology_name_list)) per row\n",
    "        return self.all_bbox_data[self.all_bbox_data['Finding Label'].isin(crt_pathology_name_list)][['Image Index', 'Finding Label']]\n",
    "\n",
    "        \n",
    "        \n",
    "if __name__==\"__main__\":        \n",
    "    prj_consts = chestxray_consts()\n",
    "    print('model_expected_image_height = ', prj_consts.CHESTXRAY_MODEL_EXPECTED_IMAGE_HEIGHT)\n",
    "    print('model_expected_image_width = ', prj_consts.CHESTXRAY_MODEL_EXPECTED_IMAGE_WIDTH)\n",
    "    \n",
    "    # crt_bbox_data = bbox_NIH_data(other_data_dir, 'BBox_List_2017.csv')\n",
    "    # crt_pathology_image_file_names = crt_bbox_data.get_patologies_images(list([ 'Nodule'])) # ['Cardiomegaly', 'Infiltrate']\n",
    "    # print(crt_pathology_image_file_names[:5])\n",
    "    # print(crt_pathology_image_file_names.shape)\n",
    "\n"
   ]
  },
  {
   "cell_type": "code",
   "execution_count": 10,
   "metadata": {},
   "outputs": [
    {
     "name": "stdout",
     "output_type": "stream",
     "text": [
      "[NbConvertApp] Converting notebook edit_python_files.ipynb to html\n",
      "[NbConvertApp] Writing 256521 bytes to edit_python_files.html\n"
     ]
    }
   ],
   "source": [
    "!jupyter nbconvert --to html edit_python_files.ipynb"
   ]
  }
 ],
 "metadata": {
  "kernelspec": {
   "display_name": "Python [default]",
   "language": "python",
   "name": "python3"
  },
  "language_info": {
   "codemirror_mode": {
    "name": "ipython",
    "version": 3
   },
   "file_extension": ".py",
   "mimetype": "text/x-python",
   "name": "python",
   "nbconvert_exporter": "python",
   "pygments_lexer": "ipython3",
   "version": "3.5.5"
  }
 },
 "nbformat": 4,
 "nbformat_minor": 2
}
