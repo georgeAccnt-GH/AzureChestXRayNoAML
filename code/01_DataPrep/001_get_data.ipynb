{
 "cells": [
  {
   "cell_type": "markdown",
   "metadata": {},
   "source": [
    "## Copies data from blob to local host\n",
    "\n",
    "##### Copyright (C) Microsoft Corporation.  \n",
    "see license file for details "
   ]
  },
  {
   "cell_type": "code",
   "execution_count": 1,
   "metadata": {},
   "outputs": [],
   "source": [
    "# Allow multiple displays per cell\n",
    "\n",
    "from IPython.core.interactiveshell import InteractiveShell\n",
    "InteractiveShell.ast_node_interactivity = \"all\" "
   ]
  },
  {
   "cell_type": "code",
   "execution_count": 2,
   "metadata": {},
   "outputs": [],
   "source": [
    "%load_ext autoreload\n",
    "%autoreload 2"
   ]
  },
  {
   "cell_type": "code",
   "execution_count": 3,
   "metadata": {},
   "outputs": [],
   "source": [
    "%reload_ext dotenv\n",
    "dotenv_file_path='./../not_shared/general.env'"
   ]
  },
  {
   "cell_type": "code",
   "execution_count": 13,
   "metadata": {},
   "outputs": [],
   "source": [
    "import os, platform\n",
    "import sys\n",
    "import urllib.request"
   ]
  },
  {
   "cell_type": "code",
   "execution_count": 5,
   "metadata": {},
   "outputs": [
    {
     "data": {
      "text/plain": [
       "'Linux-4.15.0-1063-azure-x86_64-with-debian-stretch-sid'"
      ]
     },
     "execution_count": 5,
     "metadata": {},
     "output_type": "execute_result"
    },
    {
     "data": {
      "text/plain": [
       "'/datadrive01/prj/AzureChestXRayNoAML/code/01_DataPrep'"
      ]
     },
     "execution_count": 5,
     "metadata": {},
     "output_type": "execute_result"
    }
   ],
   "source": [
    "platform.platform()\n",
    "os.getcwd()"
   ]
  },
  {
   "cell_type": "code",
   "execution_count": 6,
   "metadata": {},
   "outputs": [
    {
     "data": {
      "text/plain": [
       "['/datadrive01/prj/AzureChestXRayNoAML/code/01_DataPrep/../src']"
      ]
     },
     "execution_count": 6,
     "metadata": {},
     "output_type": "execute_result"
    },
    {
     "data": {
      "text/plain": [
       "[None]"
      ]
     },
     "execution_count": 6,
     "metadata": {},
     "output_type": "execute_result"
    },
    {
     "name": "stderr",
     "output_type": "stream",
     "text": [
      "/data/anaconda/envs/py35/lib/python3.5/importlib/_bootstrap.py:222: RuntimeWarning: numpy.dtype size changed, may indicate binary incompatibility. Expected 96, got 88\n",
      "  return f(*args, **kwds)\n",
      "/data/anaconda/envs/py35/lib/python3.5/importlib/_bootstrap.py:222: RuntimeWarning: numpy.dtype size changed, may indicate binary incompatibility. Expected 96, got 88\n",
      "  return f(*args, **kwds)\n"
     ]
    }
   ],
   "source": [
    "# import utlity functions\n",
    "\n",
    "paths_to_append = [os.path.join(os.getcwd(), os.path.join(*(['..','src'])))]\n",
    "paths_to_append\n",
    "def add_path_to_sys_path(path_to_append):\n",
    "    if not (any(path_to_append in paths for paths in sys.path)):\n",
    "        sys.path.append(path_to_append)\n",
    "[add_path_to_sys_path(crt_path) for crt_path in paths_to_append]\n",
    "\n",
    "import azure_chestxray_utils"
   ]
  },
  {
   "cell_type": "code",
   "execution_count": 7,
   "metadata": {},
   "outputs": [
    {
     "data": {
      "text/plain": [
       "'/data_dir/chestxray/ChestX-ray8/ChestXray-NIHCC'"
      ]
     },
     "execution_count": 7,
     "metadata": {},
     "output_type": "execute_result"
    },
    {
     "name": "stdout",
     "output_type": "stream",
     "text": [
      "total 4\r\n",
      "drwxr-xr-x 2 root root 4096 Nov 16 05:48 tmp\r\n"
     ]
    }
   ],
   "source": [
    "# create the file path variables \n",
    "# create nih_chest_xray_data_dir (in container dir mapped to a host dir for data persistence), \n",
    "# where data will be copied from blob\n",
    "\n",
    "prj_consts = azure_chestxray_utils.chestxray_consts()\n",
    "\n",
    "nih_chest_xray_data_dir=os.path.join(os.path.join(*([os.sep]+prj_consts.BASE_INPUT_DIR_list)), \n",
    "                                     os.path.join(*(prj_consts.ChestXray_IMAGES_DIR_list)))\n",
    "os.makedirs(nih_chest_xray_data_dir, exist_ok=True)\n",
    "\n",
    "nih_chest_xray_data_dir\n",
    "!ls -l {nih_chest_xray_data_dir}"
   ]
  },
  {
   "cell_type": "code",
   "execution_count": 8,
   "metadata": {},
   "outputs": [],
   "source": [
    "%dotenv $dotenv_file_path\n",
    "\n",
    "crt_container = 'https://'+os.getenv('sa_name')+'.blob.core.windows.net/'+os.getenv('sa_container_name')\n",
    "crt_key = os.getenv('sa_key')\n",
    "\n",
    "# crt_container\n",
    "# crt_key"
   ]
  },
  {
   "cell_type": "code",
   "execution_count": 9,
   "metadata": {},
   "outputs": [
    {
     "data": {
      "text/plain": [
       "['azcopy 7.2.0-netcore Copyright (c) 2018 Microsoft Corp. All Rights Reserved.',\n",
       " '------------------------------------------------------------------------------',\n",
       " '# azcopy is designed for high-performance uploading, downloading, and copying',\n",
       " 'data to and from Microsoft Azure Blob, and File storage.',\n",
       " '',\n",
       " '# Command Line Usage:',\n",
       " '    azcopy --source <source> --destination <destination> [options]',\n",
       " '',\n",
       " '# Options:']"
      ]
     },
     "execution_count": 9,
     "metadata": {},
     "output_type": "execute_result"
    }
   ],
   "source": [
    "#check azcopy is available. Uncomment second line to print _response_ if needed\n",
    "\n",
    "response = !azcopy\n",
    "response[1:10]"
   ]
  },
  {
   "cell_type": "code",
   "execution_count": 10,
   "metadata": {},
   "outputs": [
    {
     "data": {
      "text/plain": [
       "'/data_dir/chestxray/ChestX-ray8/ChestXray-NIHCC/tmp'"
      ]
     },
     "execution_count": 10,
     "metadata": {},
     "output_type": "execute_result"
    }
   ],
   "source": [
    "tmp_dir = os.path.join(nih_chest_xray_data_dir, 'tmp')\n",
    "tmp_dir\n",
    "os.makedirs(tmp_dir, exist_ok=True)"
   ]
  },
  {
   "cell_type": "code",
   "execution_count": 11,
   "metadata": {},
   "outputs": [
    {
     "name": "stdout",
     "output_type": "stream",
     "text": [
      "downloading https://nihcc.box.com/shared/static/vfk49d74nhbxq3nqjg0900w5nvkorp5c.gz to /data_dir/chestxray/ChestX-ray8/ChestXray-NIHCC/tmp/images_01.tar.gz ...\n"
     ]
    },
    {
     "data": {
      "text/plain": [
       "('/data_dir/chestxray/ChestX-ray8/ChestXray-NIHCC/tmp/images_01.tar.gz',\n",
       " <http.client.HTTPMessage at 0x7fde57d3e320>)"
      ]
     },
     "execution_count": 11,
     "metadata": {},
     "output_type": "execute_result"
    },
    {
     "name": "stdout",
     "output_type": "stream",
     "text": [
      "downloading https://nihcc.box.com/shared/static/i28rlmbvmfjbl8p2n3ril0pptcmcu9d1.gz to /data_dir/chestxray/ChestX-ray8/ChestXray-NIHCC/tmp/images_02.tar.gz ...\n"
     ]
    },
    {
     "data": {
      "text/plain": [
       "('/data_dir/chestxray/ChestX-ray8/ChestXray-NIHCC/tmp/images_02.tar.gz',\n",
       " <http.client.HTTPMessage at 0x7fde57d3e710>)"
      ]
     },
     "execution_count": 11,
     "metadata": {},
     "output_type": "execute_result"
    },
    {
     "name": "stdout",
     "output_type": "stream",
     "text": [
      "downloading https://nihcc.box.com/shared/static/f1t00wrtdk94satdfb9olcolqx20z2jp.gz to /data_dir/chestxray/ChestX-ray8/ChestXray-NIHCC/tmp/images_03.tar.gz ...\n"
     ]
    },
    {
     "data": {
      "text/plain": [
       "('/data_dir/chestxray/ChestX-ray8/ChestXray-NIHCC/tmp/images_03.tar.gz',\n",
       " <http.client.HTTPMessage at 0x7fde57d3e358>)"
      ]
     },
     "execution_count": 11,
     "metadata": {},
     "output_type": "execute_result"
    },
    {
     "name": "stdout",
     "output_type": "stream",
     "text": [
      "downloading https://nihcc.box.com/shared/static/0aowwzs5lhjrceb3qp67ahp0rd1l1etg.gz to /data_dir/chestxray/ChestX-ray8/ChestXray-NIHCC/tmp/images_04.tar.gz ...\n"
     ]
    },
    {
     "data": {
      "text/plain": [
       "('/data_dir/chestxray/ChestX-ray8/ChestXray-NIHCC/tmp/images_04.tar.gz',\n",
       " <http.client.HTTPMessage at 0x7fde57d3e9e8>)"
      ]
     },
     "execution_count": 11,
     "metadata": {},
     "output_type": "execute_result"
    },
    {
     "name": "stdout",
     "output_type": "stream",
     "text": [
      "downloading https://nihcc.box.com/shared/static/v5e3goj22zr6h8tzualxfsqlqaygfbsn.gz to /data_dir/chestxray/ChestX-ray8/ChestXray-NIHCC/tmp/images_05.tar.gz ...\n"
     ]
    },
    {
     "data": {
      "text/plain": [
       "('/data_dir/chestxray/ChestX-ray8/ChestXray-NIHCC/tmp/images_05.tar.gz',\n",
       " <http.client.HTTPMessage at 0x7fde57d3e0b8>)"
      ]
     },
     "execution_count": 11,
     "metadata": {},
     "output_type": "execute_result"
    },
    {
     "name": "stdout",
     "output_type": "stream",
     "text": [
      "downloading https://nihcc.box.com/shared/static/asi7ikud9jwnkrnkj99jnpfkjdes7l6l.gz to /data_dir/chestxray/ChestX-ray8/ChestXray-NIHCC/tmp/images_06.tar.gz ...\n"
     ]
    },
    {
     "data": {
      "text/plain": [
       "('/data_dir/chestxray/ChestX-ray8/ChestXray-NIHCC/tmp/images_06.tar.gz',\n",
       " <http.client.HTTPMessage at 0x7fde57d3e320>)"
      ]
     },
     "execution_count": 11,
     "metadata": {},
     "output_type": "execute_result"
    },
    {
     "name": "stdout",
     "output_type": "stream",
     "text": [
      "downloading https://nihcc.box.com/shared/static/jn1b4mw4n6lnh74ovmcjb8y48h8xj07n.gz to /data_dir/chestxray/ChestX-ray8/ChestXray-NIHCC/tmp/images_07.tar.gz ...\n"
     ]
    },
    {
     "data": {
      "text/plain": [
       "('/data_dir/chestxray/ChestX-ray8/ChestXray-NIHCC/tmp/images_07.tar.gz',\n",
       " <http.client.HTTPMessage at 0x7fde57d3e5c0>)"
      ]
     },
     "execution_count": 11,
     "metadata": {},
     "output_type": "execute_result"
    },
    {
     "name": "stdout",
     "output_type": "stream",
     "text": [
      "downloading https://nihcc.box.com/shared/static/tvpxmn7qyrgl0w8wfh9kqfjskv6nmm1j.gz to /data_dir/chestxray/ChestX-ray8/ChestXray-NIHCC/tmp/images_08.tar.gz ...\n"
     ]
    },
    {
     "data": {
      "text/plain": [
       "('/data_dir/chestxray/ChestX-ray8/ChestXray-NIHCC/tmp/images_08.tar.gz',\n",
       " <http.client.HTTPMessage at 0x7fde57d3e278>)"
      ]
     },
     "execution_count": 11,
     "metadata": {},
     "output_type": "execute_result"
    },
    {
     "name": "stdout",
     "output_type": "stream",
     "text": [
      "downloading https://nihcc.box.com/shared/static/upyy3ml7qdumlgk2rfcvlb9k6gvqq2pj.gz to /data_dir/chestxray/ChestX-ray8/ChestXray-NIHCC/tmp/images_09.tar.gz ...\n"
     ]
    },
    {
     "data": {
      "text/plain": [
       "('/data_dir/chestxray/ChestX-ray8/ChestXray-NIHCC/tmp/images_09.tar.gz',\n",
       " <http.client.HTTPMessage at 0x7fde57d3e2b0>)"
      ]
     },
     "execution_count": 11,
     "metadata": {},
     "output_type": "execute_result"
    },
    {
     "name": "stdout",
     "output_type": "stream",
     "text": [
      "downloading https://nihcc.box.com/shared/static/l6nilvfa9cg3s28tqv1qc1olm3gnz54p.gz to /data_dir/chestxray/ChestX-ray8/ChestXray-NIHCC/tmp/images_10.tar.gz ...\n"
     ]
    },
    {
     "data": {
      "text/plain": [
       "('/data_dir/chestxray/ChestX-ray8/ChestXray-NIHCC/tmp/images_10.tar.gz',\n",
       " <http.client.HTTPMessage at 0x7fde57d3e400>)"
      ]
     },
     "execution_count": 11,
     "metadata": {},
     "output_type": "execute_result"
    },
    {
     "name": "stdout",
     "output_type": "stream",
     "text": [
      "downloading https://nihcc.box.com/shared/static/hhq8fkdgvcari67vfhs7ppg2w6ni4jze.gz to /data_dir/chestxray/ChestX-ray8/ChestXray-NIHCC/tmp/images_11.tar.gz ...\n"
     ]
    },
    {
     "data": {
      "text/plain": [
       "('/data_dir/chestxray/ChestX-ray8/ChestXray-NIHCC/tmp/images_11.tar.gz',\n",
       " <http.client.HTTPMessage at 0x7fde57d3e320>)"
      ]
     },
     "execution_count": 11,
     "metadata": {},
     "output_type": "execute_result"
    },
    {
     "name": "stdout",
     "output_type": "stream",
     "text": [
      "downloading https://nihcc.box.com/shared/static/ioqwiy20ihqwyr8pf4c24eazhh281pbu.gz to /data_dir/chestxray/ChestX-ray8/ChestXray-NIHCC/tmp/images_12.tar.gz ...\n"
     ]
    },
    {
     "data": {
      "text/plain": [
       "('/data_dir/chestxray/ChestX-ray8/ChestXray-NIHCC/tmp/images_12.tar.gz',\n",
       " <http.client.HTTPMessage at 0x7fde57d3e898>)"
      ]
     },
     "execution_count": 11,
     "metadata": {},
     "output_type": "execute_result"
    },
    {
     "name": "stdout",
     "output_type": "stream",
     "text": [
      "Download complete. Please check the checksums\n"
     ]
    }
   ],
   "source": [
    "# https://nihcc.app.box.com/v/ChestXray-NIHCC/file/371647823217\n",
    "# batch_download_zips.py\n",
    "\n",
    "# Download the 56 zip files in Images_png in batches\n",
    "\n",
    "# URLs for the zip files\n",
    "links = [\n",
    "    'https://nihcc.box.com/shared/static/vfk49d74nhbxq3nqjg0900w5nvkorp5c.gz',\n",
    "    'https://nihcc.box.com/shared/static/i28rlmbvmfjbl8p2n3ril0pptcmcu9d1.gz',\n",
    "    'https://nihcc.box.com/shared/static/f1t00wrtdk94satdfb9olcolqx20z2jp.gz',\n",
    "\t'https://nihcc.box.com/shared/static/0aowwzs5lhjrceb3qp67ahp0rd1l1etg.gz',\n",
    "    'https://nihcc.box.com/shared/static/v5e3goj22zr6h8tzualxfsqlqaygfbsn.gz',\n",
    "\t\n",
    "\t'https://nihcc.box.com/shared/static/asi7ikud9jwnkrnkj99jnpfkjdes7l6l.gz',\n",
    "\t'https://nihcc.box.com/shared/static/jn1b4mw4n6lnh74ovmcjb8y48h8xj07n.gz',\n",
    "    'https://nihcc.box.com/shared/static/tvpxmn7qyrgl0w8wfh9kqfjskv6nmm1j.gz',\n",
    "\t'https://nihcc.box.com/shared/static/upyy3ml7qdumlgk2rfcvlb9k6gvqq2pj.gz',\n",
    "\t'https://nihcc.box.com/shared/static/l6nilvfa9cg3s28tqv1qc1olm3gnz54p.gz',\n",
    "\t'https://nihcc.box.com/shared/static/hhq8fkdgvcari67vfhs7ppg2w6ni4jze.gz',\n",
    "\t'https://nihcc.box.com/shared/static/ioqwiy20ihqwyr8pf4c24eazhh281pbu.gz'\n",
    "]\n",
    "\n",
    "for idx, link in enumerate(links):\n",
    "    fn = 'images_%02d.tar.gz' % (idx+1)\n",
    "    fn = os.path.join(tmp_dir, fn)\n",
    "    print( 'downloading {} to {} ...'.format(link, fn))\n",
    "    urllib.request.urlretrieve(link, fn)  \n",
    "print (\"Download complete. Please check the checksums\")"
   ]
  },
  {
   "cell_type": "code",
   "execution_count": 16,
   "metadata": {},
   "outputs": [
    {
     "name": "stdout",
     "output_type": "stream",
     "text": [
      "downloading https://nihcc.app.box.com/v/ChestXray-NIHCC/file/219760887468 to /data_dir/chestxray/ChestX-ray8/ChestXray-NIHCC/../Data_Entry_2017.csv ...\n"
     ]
    },
    {
     "data": {
      "text/plain": [
       "('/data_dir/chestxray/ChestX-ray8/ChestXray-NIHCC/../Data_Entry_2017.csv',\n",
       " <http.client.HTTPMessage at 0x7fbf28c18a20>)"
      ]
     },
     "execution_count": 16,
     "metadata": {},
     "output_type": "execute_result"
    },
    {
     "name": "stdout",
     "output_type": "stream",
     "text": [
      "downloading https://nihcc.app.box.com/v/ChestXray-NIHCC/file/219760940956 to /data_dir/chestxray/ChestX-ray8/ChestXray-NIHCC/../BBox_List_2017.csv ...\n"
     ]
    },
    {
     "data": {
      "text/plain": [
       "('/data_dir/chestxray/ChestX-ray8/ChestXray-NIHCC/../BBox_List_2017.csv',\n",
       " <http.client.HTTPMessage at 0x7fbf28c18c18>)"
      ]
     },
     "execution_count": 16,
     "metadata": {},
     "output_type": "execute_result"
    }
   ],
   "source": [
    "#NIH ChestXray data at app.box.com\n",
    "# https://nihcc.app.box.com/v/ChestXray-NIHCC/folder/36938765345\n",
    "#click on Data_Entry_2017.csv and 'BBox_List_2017.csv' to see their links\n",
    "tmp_dir1 = os.path.join(nih_chest_xray_data_dir, '..')\n",
    "link = 'https://nihcc.app.box.com/v/ChestXray-NIHCC/file/219760887468'\n",
    "fn = 'Data_Entry_2017.csv'\n",
    "fn = os.path.join(tmp_dir1, fn)\n",
    "print( 'downloading {} to {} ...'.format(link, fn))\n",
    "urllib.request.urlretrieve(link, fn)\n",
    "\n",
    "\n",
    "link = 'https://nihcc.app.box.com/v/ChestXray-NIHCC/file/219760940956'\n",
    "fn = 'BBox_List_2017.csv'\n",
    "fn = os.path.join(tmp_dir1, fn)\n",
    "print( 'downloading {} to {} ...'.format(link, fn))\n",
    "urllib.request.urlretrieve(link, fn)\n"
   ]
  },
  {
   "cell_type": "code",
   "execution_count": 11,
   "metadata": {},
   "outputs": [
    {
     "name": "stdout",
     "output_type": "stream",
     "text": [
      "total 44023372\r\n",
      "-rw-r--r-- 1 root root 2008470987 Nov 16 05:15 images_01.tar.gz\r\n",
      "-rw-r--r-- 1 root root 3952623504 Nov 16 05:19 images_02.tar.gz\r\n",
      "-rw-r--r-- 1 root root 3929234850 Nov 16 05:21 images_03.tar.gz\r\n",
      "-rw-r--r-- 1 root root 3838903983 Nov 16 05:25 images_04.tar.gz\r\n",
      "-rw-r--r-- 1 root root 3935496531 Nov 16 05:29 images_05.tar.gz\r\n",
      "-rw-r--r-- 1 root root 3986301172 Nov 16 05:32 images_06.tar.gz\r\n",
      "-rw-r--r-- 1 root root 4016328426 Nov 16 05:35 images_07.tar.gz\r\n",
      "-rw-r--r-- 1 root root 4018347353 Nov 16 05:39 images_08.tar.gz\r\n",
      "-rw-r--r-- 1 root root 4111327929 Nov 16 05:42 images_09.tar.gz\r\n",
      "-rw-r--r-- 1 root root 4181556296 Nov 16 05:45 images_10.tar.gz\r\n",
      "-rw-r--r-- 1 root root 4187084020 Nov 16 05:48 images_11.tar.gz\r\n",
      "-rw-r--r-- 1 root root 2914187733 Nov 16 05:51 images_12.tar.gz\r\n"
     ]
    }
   ],
   "source": [
    "!ls -l  $tmp_dir\n"
   ]
  },
  {
   "cell_type": "code",
   "execution_count": 14,
   "metadata": {},
   "outputs": [
    {
     "name": "stdout",
     "output_type": "stream",
     "text": [
      "Error: unknown command \"https://ghiordanazrchestxraysa.blob.core.windows.net/nihchestxraydata\" for \"azcopy\"\n",
      "Run 'azcopy --help' for usage.\n",
      "\n",
      "unknown command \"https://ghiordanazrchestxraysa.blob.core.windows.net/nihchestxraydata\" for \"azcopy\"\n",
      "Error: unknown command \"https://ghiordanazrchestxraysa.blob.core.windows.net/nihchestxraydata\" for \"azcopy\"\n",
      "Run 'azcopy --help' for usage.\n",
      "\n",
      "unknown command \"https://ghiordanazrchestxraysa.blob.core.windows.net/nihchestxraydata\" for \"azcopy\"\n",
      "Error: unknown command \"https://ghiordanazrchestxraysa.blob.core.windows.net/nihchestxraydata\" for \"azcopy\"\n",
      "Run 'azcopy --help' for usage.\n",
      "\n",
      "unknown command \"https://ghiordanazrchestxraysa.blob.core.windows.net/nihchestxraydata\" for \"azcopy\"\n"
     ]
    }
   ],
   "source": [
    "# copy data to local host dir\n",
    "# add {  --source-key {crt_key}  } if needed\n",
    "\n",
    "tmp_dir1 = os.path.join(nih_chest_xray_data_dir, '..')\n",
    "\n",
    "!azcopy --quiet \\\n",
    "    --source {crt_container}  \\\n",
    "    --destination {tmp_dir1} \\\n",
    "    --source-key {crt_key} \\\n",
    "    --verbose \\\n",
    "    --include \"BBox_List_2017.csv\"\n",
    "\n",
    "!azcopy --quiet \\\n",
    "    --source {crt_container}  \\\n",
    "    --destination {tmp_dir1} \\\n",
    "    --source-key {crt_key} \\\n",
    "    --verbose \\\n",
    "    --include \"Data_Entry_2017.csv\"\n",
    "\n",
    "!azcopy --quiet \\\n",
    "    --source {crt_container}  \\\n",
    "    --destination {tmp_dir1} \\\n",
    "    --source-key {crt_key} \\\n",
    "    --verbose \\\n",
    "    --include \"blacklist.csv\""
   ]
  },
  {
   "cell_type": "code",
   "execution_count": 13,
   "metadata": {},
   "outputs": [
    {
     "data": {
      "text/plain": [
       "'/local_dir/prj/AzureChestXRayNoAML/code/01_DataPrep/../../../../data/chestxray/ChestX-ray8/ChestXray-NIHCC/tmp'"
      ]
     },
     "execution_count": 13,
     "metadata": {},
     "output_type": "execute_result"
    }
   ],
   "source": [
    "tmp_dir = os.path.join(nih_chest_xray_data_dir, 'tmp')\n",
    "tmp_dir\n",
    "os.makedirs(tmp_dir, exist_ok=True)\n",
    "compressed_data_location = crt_container +'/compresseddata'"
   ]
  },
  {
   "cell_type": "code",
   "execution_count": 14,
   "metadata": {},
   "outputs": [],
   "source": [
    "answer = !azcopy --quiet \\\n",
    "    --source {compressed_data_location}  \\\n",
    "    --destination {tmp_dir} \\\n",
    "    --source-key {crt_key} \\\n",
    "    --recursive \\\n",
    "    --verbose \\\n",
    "    --include \"images_\""
   ]
  },
  {
   "cell_type": "code",
   "execution_count": 15,
   "metadata": {},
   "outputs": [
    {
     "data": {
      "text/plain": [
       "['[2019/05/24 05:17:27] Transfer summary:',\n",
       " '-----------------',\n",
       " 'Total files transferred: 12',\n",
       " 'Transfer successfully:   12',\n",
       " 'Transfer skipped:        0',\n",
       " 'Transfer failed:         0',\n",
       " 'Elapsed time:            00.00:00:50']"
      ]
     },
     "execution_count": 15,
     "metadata": {},
     "output_type": "execute_result"
    }
   ],
   "source": [
    "answer[-7:]"
   ]
  },
  {
   "cell_type": "markdown",
   "metadata": {},
   "source": [
    "The azcopy download process above will run for several minutes. \n",
    "\n",
    "Make sure you have these file sizes when it finishes:  \n",
    "total __44023372__  \n",
    "-rw-r--r-- 1 1000 users __2008470987__ Sep 26 17:19 images_001.tar.gz  \n",
    "-rw-r--r-- 1 1000 users __3952623504__ Sep 26 19:05 images_002.tar.gz  \n",
    "-rw-r--r-- 1 1000 users __3929234850__ Sep 26 17:22 images_003.tar.gz  \n",
    "-rw-r--r-- 1 1000 users __3838903983__ Sep 26 17:25 images_004.tar.gz  \n",
    "-rw-r--r-- 1 1000 users __3935496531__ Sep 26 17:22 images_005.tar.gz  \n",
    "-rw-r--r-- 1 1000 users __3986301172__ Sep 26 17:25 images_006.tar.gz  \n",
    "-rw-r--r-- 1 1000 users __4016328426__ Sep 26 19:05 images_007.tar.gz  \n",
    "-rw-r--r-- 1 1000 users __4018347353__ Sep 26 19:05 images_008.tar.gz  \n",
    "-rw-r--r-- 1 1000 users __4111327929__ Sep 26 19:05 images_009.tar.gz  \n",
    "-rw-r--r-- 1 1000 users __4181556296__ Sep 26 19:05 images_010.tar.gz  \n",
    "-rw-r--r-- 1 1000 users __4187084020__ Sep 26 19:05 images_011.tar.gz  \n",
    "-rw-r--r-- 1 1000 users __2914187733__ Sep 26 17:21 images_012.tar.gz  \n",
    "  \n",
    "If the unzipping process below does not end up with __112120__ .png images, you may need to repeat the download process for the above 12 .tar.gz files."
   ]
  },
  {
   "cell_type": "code",
   "execution_count": 16,
   "metadata": {},
   "outputs": [
    {
     "data": {
      "text/plain": [
       "'/local_dir/prj/AzureChestXRayNoAML/code/01_DataPrep/../../../../data/chestxray/ChestX-ray8/ChestXray-NIHCC'"
      ]
     },
     "execution_count": 16,
     "metadata": {},
     "output_type": "execute_result"
    },
    {
     "data": {
      "text/plain": [
       "'/local_dir/prj/AzureChestXRayNoAML/code/01_DataPrep/../../../../data/chestxray/ChestX-ray8/ChestXray-NIHCC/tmp'"
      ]
     },
     "execution_count": 16,
     "metadata": {},
     "output_type": "execute_result"
    },
    {
     "name": "stdout",
     "output_type": "stream",
     "text": [
      "total 44023372\r\n",
      "-rw-r--r-- 1 root root 2008470987 May 24 05:17 images_01.tar.gz\r\n",
      "-rw-r--r-- 1 root root 3952623504 May 24 05:17 images_02.tar.gz\r\n",
      "-rw-r--r-- 1 root root 3929234850 May 24 05:17 images_03.tar.gz\r\n",
      "-rw-r--r-- 1 root root 3838903983 May 24 05:17 images_04.tar.gz\r\n",
      "-rw-r--r-- 1 root root 3935496531 May 24 05:17 images_05.tar.gz\r\n",
      "-rw-r--r-- 1 root root 3986301172 May 24 05:17 images_06.tar.gz\r\n",
      "-rw-r--r-- 1 root root 4016328426 May 24 05:17 images_07.tar.gz\r\n",
      "-rw-r--r-- 1 root root 4018347353 May 24 05:17 images_08.tar.gz\r\n",
      "-rw-r--r-- 1 root root 4111327929 May 24 05:17 images_09.tar.gz\r\n",
      "-rw-r--r-- 1 root root 4181556296 May 24 05:17 images_10.tar.gz\r\n",
      "-rw-r--r-- 1 root root 4187084020 May 24 05:17 images_11.tar.gz\r\n",
      "-rw-r--r-- 1 root root 2914187733 May 24 05:17 images_12.tar.gz\r\n"
     ]
    }
   ],
   "source": [
    "nih_chest_xray_data_dir\n",
    "tmp_dir\n",
    "!ls -l $tmp_dir\n",
    "# !find $nih_chest_xray_data_dir -type f | wc -l"
   ]
  },
  {
   "cell_type": "markdown",
   "metadata": {},
   "source": [
    "The unzipping process below will run for several minutes.\n",
    "\n",
    "While it runs, you can monitor the progress by ssh-ing \n",
    "into your compute context machine and running:   \n",
    "find /datadrive01/data/chestxray/ChestX-ray8/ChestXray-NIHCC/images/  -type f | wc -l  \n",
    "\n",
    "The final number of images is:  \n",
    "__112120__  \n",
    "\n"
   ]
  },
  {
   "cell_type": "code",
   "execution_count": 17,
   "metadata": {},
   "outputs": [
    {
     "data": {
      "text/plain": [
       "'/local_dir/prj/AzureChestXRayNoAML/code/01_DataPrep/../../../../data/chestxray/ChestX-ray8/ChestXray-NIHCC'"
      ]
     },
     "execution_count": 17,
     "metadata": {},
     "output_type": "execute_result"
    },
    {
     "name": "stdout",
     "output_type": "stream",
     "text": [
      "total 8\n",
      "drwxrwxrwx  3 root root 4096 May 24 02:33 data\n",
      "drwxrwxrwx 10 root root 4096 May 24 05:01 prj\n",
      "/local_dir/data/chestxray/ChestX-ray8/ChestXray-NIHCC\n",
      "-rw-r--r-- 1 root root 2008470987 May 24 05:17 /local_dir/prj/AzureChestXRayNoAML/code/01_DataPrep/../../../../data/chestxray/ChestX-ray8/ChestXray-NIHCC/tmp/images_01.tar.gz\n",
      "-rw-r--r-- 1 root root 3952623504 May 24 05:17 /local_dir/prj/AzureChestXRayNoAML/code/01_DataPrep/../../../../data/chestxray/ChestX-ray8/ChestXray-NIHCC/tmp/images_02.tar.gz\n",
      "-rw-r--r-- 1 root root 3929234850 May 24 05:17 /local_dir/prj/AzureChestXRayNoAML/code/01_DataPrep/../../../../data/chestxray/ChestX-ray8/ChestXray-NIHCC/tmp/images_03.tar.gz\n",
      "-rw-r--r-- 1 root root 3838903983 May 24 05:17 /local_dir/prj/AzureChestXRayNoAML/code/01_DataPrep/../../../../data/chestxray/ChestX-ray8/ChestXray-NIHCC/tmp/images_04.tar.gz\n",
      "-rw-r--r-- 1 root root 3935496531 May 24 05:17 /local_dir/prj/AzureChestXRayNoAML/code/01_DataPrep/../../../../data/chestxray/ChestX-ray8/ChestXray-NIHCC/tmp/images_05.tar.gz\n",
      "-rw-r--r-- 1 root root 3986301172 May 24 05:17 /local_dir/prj/AzureChestXRayNoAML/code/01_DataPrep/../../../../data/chestxray/ChestX-ray8/ChestXray-NIHCC/tmp/images_06.tar.gz\n",
      "-rw-r--r-- 1 root root 4016328426 May 24 05:17 /local_dir/prj/AzureChestXRayNoAML/code/01_DataPrep/../../../../data/chestxray/ChestX-ray8/ChestXray-NIHCC/tmp/images_07.tar.gz\n",
      "-rw-r--r-- 1 root root 4018347353 May 24 05:17 /local_dir/prj/AzureChestXRayNoAML/code/01_DataPrep/../../../../data/chestxray/ChestX-ray8/ChestXray-NIHCC/tmp/images_08.tar.gz\n",
      "-rw-r--r-- 1 root root 4111327929 May 24 05:17 /local_dir/prj/AzureChestXRayNoAML/code/01_DataPrep/../../../../data/chestxray/ChestX-ray8/ChestXray-NIHCC/tmp/images_09.tar.gz\n",
      "-rw-r--r-- 1 root root 4181556296 May 24 05:17 /local_dir/prj/AzureChestXRayNoAML/code/01_DataPrep/../../../../data/chestxray/ChestX-ray8/ChestXray-NIHCC/tmp/images_10.tar.gz\n",
      "-rw-r--r-- 1 root root 4187084020 May 24 05:17 /local_dir/prj/AzureChestXRayNoAML/code/01_DataPrep/../../../../data/chestxray/ChestX-ray8/ChestXray-NIHCC/tmp/images_11.tar.gz\n",
      "-rw-r--r-- 1 root root 2914187733 May 24 05:17 /local_dir/prj/AzureChestXRayNoAML/code/01_DataPrep/../../../../data/chestxray/ChestX-ray8/ChestXray-NIHCC/tmp/images_12.tar.gz\n"
     ]
    }
   ],
   "source": [
    "nih_chest_xray_data_dir\n",
    "old_crt_dir = os.getcwd()\n",
    "!ls -l ./../01_DataPrep/../../../../\n",
    "os.chdir(nih_chest_xray_data_dir)\n",
    "!pwd\n",
    "!ls -l $tmp_dir/*.tar.gz \n",
    "allImages = ! cat $tmp_dir/*.tar.gz | tar -zxf - -i\n",
    "# !for file in $tmp_dir/*.tar.gz; do tar -zxf $file; done\n"
   ]
  },
  {
   "cell_type": "code",
   "execution_count": 18,
   "metadata": {},
   "outputs": [],
   "source": [
    "# os.chdir(nih_chest_xray_data_dir)\n",
    "# !pwd\n",
    "# !tar -zxvf $tmp_dir/images_001.tar.gz"
   ]
  },
  {
   "cell_type": "code",
   "execution_count": 19,
   "metadata": {},
   "outputs": [
    {
     "name": "stdout",
     "output_type": "stream",
     "text": [
      "[NbConvertApp] Converting notebook 001_get_data.ipynb to html\n",
      "[NbConvertApp] Writing 314567 bytes to 001_get_data.html\n"
     ]
    }
   ],
   "source": [
    "os.chdir(old_crt_dir) \n",
    "!jupyter nbconvert --to html 001_get_data.ipynb"
   ]
  },
  {
   "cell_type": "code",
   "execution_count": null,
   "metadata": {},
   "outputs": [],
   "source": []
  }
 ],
 "metadata": {
  "kernelspec": {
   "display_name": "Python [default]",
   "language": "python",
   "name": "python3"
  },
  "language_info": {
   "codemirror_mode": {
    "name": "ipython",
    "version": 3
   },
   "file_extension": ".py",
   "mimetype": "text/x-python",
   "name": "python",
   "nbconvert_exporter": "python",
   "pygments_lexer": "ipython3",
   "version": "3.5.5"
  }
 },
 "nbformat": 4,
 "nbformat_minor": 2
}
