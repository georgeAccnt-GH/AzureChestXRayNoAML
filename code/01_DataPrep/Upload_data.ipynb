{
 "cells": [
  {
   "cell_type": "markdown",
   "metadata": {},
   "source": [
    "### Upload local data to container\n",
    "\n",
    "Copyright (C) Microsoft Corporation.  \n",
    "see license file for details   "
   ]
  },
  {
   "cell_type": "code",
   "execution_count": 1,
   "metadata": {},
   "outputs": [],
   "source": [
    "# Allow multiple displays per cell\n",
    "\n",
    "from IPython.core.interactiveshell import InteractiveShell\n",
    "InteractiveShell.ast_node_interactivity = \"all\" "
   ]
  },
  {
   "cell_type": "code",
   "execution_count": 2,
   "metadata": {},
   "outputs": [],
   "source": [
    "import os "
   ]
  },
  {
   "cell_type": "code",
   "execution_count": 3,
   "metadata": {},
   "outputs": [],
   "source": [
    "%load_ext dotenv\n",
    "dotenv_file_path='./../../not_shared/general.env'"
   ]
  },
  {
   "cell_type": "code",
   "execution_count": 4,
   "metadata": {},
   "outputs": [
    {
     "data": {
      "text/plain": [
       "'https://ghiordanazrchestxraysa.blob.core.windows.net/nihchestxraydatacompressed'"
      ]
     },
     "execution_count": 4,
     "metadata": {},
     "output_type": "execute_result"
    }
   ],
   "source": [
    "%dotenv $dotenv_file_path -o\n",
    "\n",
    "crt_container = 'https://'+os.getenv('sa_name')+'.blob.core.windows.net/'+os.getenv('sa_container_name_compressed_data')\n",
    "crt_container"
   ]
  },
  {
   "cell_type": "code",
   "execution_count": 6,
   "metadata": {},
   "outputs": [
    {
     "data": {
      "text/plain": [
       "['------------------------------------------------------------------------------',\n",
       " 'azcopy 7.2.0-netcore Copyright (c) 2018 Microsoft Corp. All Rights Reserved.',\n",
       " '------------------------------------------------------------------------------']"
      ]
     },
     "execution_count": 6,
     "metadata": {},
     "output_type": "execute_result"
    }
   ],
   "source": [
    "az_copy_version = !azcopy --help\n",
    "az_copy_version[:3]"
   ]
  },
  {
   "cell_type": "code",
   "execution_count": 9,
   "metadata": {},
   "outputs": [
    {
     "name": "stdout",
     "output_type": "stream",
     "text": [
      "azcopy --source /data_dir/chestxray/ChestX-ray8 --destination https://ghiordanazrchestxraysa.blob.core.windows.net/nihchestxraydata --include Data_Entry_2017.csv\n",
      "\u001b[?1h\u001b=[2019/11/16 23:34:44] Transfer summary:\n",
      "-----------------\n",
      "Total files transferred: 1\n",
      "Transfer successfully:   1\n",
      "Transfer skipped:        0\n",
      "Transfer failed:         0\n",
      "Elapsed time:            00.00:00:00\n",
      "azcopy --source /data_dir/chestxray/ChestX-ray8 --destination https://ghiordanazrchestxraysa.blob.core.windows.net/nihchestxraydata --include BBox_List_2017.csv\n",
      "\u001b[?1h\u001b=[2019/11/16 23:34:45] Transfer summary:\n",
      "-----------------\n",
      "Total files transferred: 1\n",
      "Transfer successfully:   1\n",
      "Transfer skipped:        0\n",
      "Transfer failed:         0\n",
      "Elapsed time:            00.00:00:00\n"
     ]
    }
   ],
   "source": [
    "def upload_folder_using_azcopy(local_folder, to_container=crt_container):\n",
    "    image_files = [f for f in os.listdir(local_folder) if os.path.isfile(os.path.join(local_folder, f))]\n",
    "\n",
    "    def upload_file(file_to_upload, crt_local_folder=local_folder, to_container=to_container):\n",
    "        cli_command = 'azcopy ' +\\\n",
    "        '--source ' + crt_local_folder + ' ' + \\\n",
    "        '--destination ' + to_container + ' ' + \\\n",
    "        '--include ' + file_to_upload + ' '\n",
    "        ! echo $cli_command\n",
    "        cli_command = cli_command + ' --dest-key ' + os.getenv('sa_key')\n",
    "        !echo Yes | $cli_command\n",
    "    [upload_file(x) for x in image_files]\n",
    "\n",
    "# upload_folder_using_azcopy('/prj_data/chestxray/ChestX-ray8/ChestXray-NIHCC/tmp')\n",
    "upload_folder_using_azcopy('/data_dir/chestxray/ChestX-ray8', \n",
    "                          to_container = \\\n",
    "                        'https://'+os.getenv('sa_name')+'.blob.core.windows.net/'+os.getenv('sa_container_name'))"
   ]
  },
  {
   "cell_type": "code",
   "execution_count": null,
   "metadata": {},
   "outputs": [],
   "source": []
  }
 ],
 "metadata": {
  "kernelspec": {
   "display_name": "Python [default]",
   "language": "python",
   "name": "python3"
  },
  "language_info": {
   "codemirror_mode": {
    "name": "ipython",
    "version": 3
   },
   "file_extension": ".py",
   "mimetype": "text/x-python",
   "name": "python",
   "nbconvert_exporter": "python",
   "pygments_lexer": "ipython3",
   "version": "3.5.5"
  }
 },
 "nbformat": 4,
 "nbformat_minor": 2
}
