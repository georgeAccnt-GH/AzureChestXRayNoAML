{
 "cells": [
  {
   "cell_type": "markdown",
   "metadata": {},
   "source": [
    "Copyright (C) Microsoft Corporation.  \n",
    "see license file for details\n",
    "\n",
    "### Download all data from https://nihcc.app.box.com/v/ChestXray-NIHCC \n",
    " - Download 12 compressed (.tar.gz) files, plus two meta info files (Data_Entry_2017.csv and BBox_List_2017.csv). \n",
    " - Uncompress the 12 .tar.gz files to generate 112120 .png images (e.g. 00000001_000.png)  \n",
    " - uploads local data to Azure Data Storage containers (see in cell below the local and Azure storage containers structure)\n",
    "\n",
    " \n",
    "\n",
    "   "
   ]
  },
  {
   "cell_type": "code",
   "execution_count": null,
   "metadata": {},
   "outputs": [],
   "source": [
    "# Local data structure:\n",
    "#     /data_dir/chestxray/ChestX-ray8/  \n",
    "#         BBox_List_2017.csv         \n",
    "#         Data_Entry_2017.csv  \n",
    "#         blacklist.csv\n",
    "#         ChestXray-NIHCC/  \n",
    "#             /tmp/  \n",
    "#                 images_01.tar.gz    \n",
    "#                 images_03.tar.gz    \n",
    "#                 images_05.tar.gz   \n",
    "#                 images_07.tar.gz   \n",
    "#                 images_09.tar.gz   \n",
    "#                 images_11.tar.gz  \n",
    "#                 images_02.tar.gz   \n",
    "#                 images_04.tar.gz   \n",
    "#                 images_06.tar.gz   \n",
    "#                 images_08.tar.gz   \n",
    "#                 images_10.tar.gz   \n",
    "#                 images_12.tar.gz\n",
    "#             /images/\n",
    "#                   00000001_000.png\n",
    "#                   00000001_001.png\n",
    "#                   ... 112120 png images\n",
    "# \n",
    "#    Azure Data Storage container structure:\n",
    "#       container nihchestxrayimages\n",
    "#                   00000001_000.png\n",
    "#                   00000001_001.png\n",
    "#                   ... 112120 png image files, total 41.96 GiB\n",
    "#       container nihchestxraydatacompressed:\n",
    "#                   images_01.tar.gz\n",
    "#                   ... 12 files, total 41.98 GiB\n",
    "#       container nihchestxraydata\n",
    "#                   BBox_List_2017.csv\n",
    "#                   blacklist.csv\n",
    "#                   Data_Entry_2017.csv"
   ]
  },
  {
   "cell_type": "code",
   "execution_count": 1,
   "metadata": {},
   "outputs": [],
   "source": [
    "# Allow multiple displays per cell\n",
    "\n",
    "from IPython.core.interactiveshell import InteractiveShell\n",
    "InteractiveShell.ast_node_interactivity = \"all\" "
   ]
  },
  {
   "cell_type": "code",
   "execution_count": 2,
   "metadata": {},
   "outputs": [],
   "source": [
    "do_compressed_data_FLAG = True"
   ]
  },
  {
   "cell_type": "code",
   "execution_count": 3,
   "metadata": {},
   "outputs": [],
   "source": [
    "import os, platform\n",
    "import sys\n",
    "import urllib.request\n",
    "import shutil"
   ]
  },
  {
   "cell_type": "code",
   "execution_count": 4,
   "metadata": {},
   "outputs": [],
   "source": [
    "%load_ext dotenv\n",
    "dotenv_file_path='./../../not_shared/general.env'"
   ]
  },
  {
   "cell_type": "code",
   "execution_count": 5,
   "metadata": {},
   "outputs": [
    {
     "data": {
      "text/plain": [
       "'Linux-4.15.0-1063-azure-x86_64-with-debian-stretch-sid'"
      ]
     },
     "execution_count": 5,
     "metadata": {},
     "output_type": "execute_result"
    },
    {
     "data": {
      "text/plain": [
       "'/datadrive01/prj/AzureChestXRayNoAML/code/01_DataPrep'"
      ]
     },
     "execution_count": 5,
     "metadata": {},
     "output_type": "execute_result"
    }
   ],
   "source": [
    "platform.platform()\n",
    "os.getcwd()"
   ]
  },
  {
   "cell_type": "code",
   "execution_count": 6,
   "metadata": {},
   "outputs": [
    {
     "data": {
      "text/plain": [
       "['/datadrive01/prj/AzureChestXRayNoAML/code/01_DataPrep/../src']"
      ]
     },
     "execution_count": 6,
     "metadata": {},
     "output_type": "execute_result"
    },
    {
     "data": {
      "text/plain": [
       "[None]"
      ]
     },
     "execution_count": 6,
     "metadata": {},
     "output_type": "execute_result"
    },
    {
     "name": "stderr",
     "output_type": "stream",
     "text": [
      "/data/anaconda/envs/py35/lib/python3.5/importlib/_bootstrap.py:222: RuntimeWarning: numpy.dtype size changed, may indicate binary incompatibility. Expected 96, got 88\n",
      "  return f(*args, **kwds)\n",
      "/data/anaconda/envs/py35/lib/python3.5/importlib/_bootstrap.py:222: RuntimeWarning: numpy.dtype size changed, may indicate binary incompatibility. Expected 96, got 88\n",
      "  return f(*args, **kwds)\n"
     ]
    }
   ],
   "source": [
    "# import utlity functions\n",
    "\n",
    "paths_to_append = [os.path.join(os.getcwd(), os.path.join(*(['..','src'])))]\n",
    "paths_to_append\n",
    "def add_path_to_sys_path(path_to_append):\n",
    "    if not (any(path_to_append in paths for paths in sys.path)):\n",
    "        sys.path.append(path_to_append)\n",
    "[add_path_to_sys_path(crt_path) for crt_path in paths_to_append]\n",
    "\n",
    "import azure_chestxray_utils"
   ]
  },
  {
   "cell_type": "code",
   "execution_count": 7,
   "metadata": {},
   "outputs": [
    {
     "data": {
      "text/plain": [
       "'/data_dir/chestxray/ChestX-ray8/ChestXray-NIHCC'"
      ]
     },
     "execution_count": 7,
     "metadata": {},
     "output_type": "execute_result"
    },
    {
     "name": "stdout",
     "output_type": "stream",
     "text": [
      "total 4\r\n",
      "drwxrwxrwx 2 root root 4096 Nov 16 05:48 tmp\r\n"
     ]
    }
   ],
   "source": [
    "# create the file path variables \n",
    "# create nih_chest_xray_data_dir (in container dir mapped to a host dir for data persistence), \n",
    "# where data will be copied from blob\n",
    "\n",
    "prj_consts = azure_chestxray_utils.chestxray_consts()\n",
    "\n",
    "nih_chest_xray_data_dir=os.path.join(os.path.join(*([os.sep]+prj_consts.BASE_INPUT_DIR_list)), \n",
    "                                     os.path.join(*(prj_consts.ChestXray_IMAGES_DIR_list)))\n",
    "os.makedirs(nih_chest_xray_data_dir, exist_ok=True)\n",
    "\n",
    "nih_chest_xray_data_dir\n",
    "!ls -l {nih_chest_xray_data_dir}"
   ]
  },
  {
   "cell_type": "markdown",
   "metadata": {},
   "source": [
    "###### Download NIH data from https://nihcc.app.box.com/v/ChestXray-NIHCC"
   ]
  },
  {
   "cell_type": "code",
   "execution_count": 8,
   "metadata": {},
   "outputs": [
    {
     "data": {
      "text/plain": [
       "'/data_dir/chestxray/ChestX-ray8/ChestXray-NIHCC/tmp'"
      ]
     },
     "execution_count": 8,
     "metadata": {},
     "output_type": "execute_result"
    }
   ],
   "source": [
    "tmp_dir = os.path.join(nih_chest_xray_data_dir, 'tmp')\n",
    "tmp_dir\n",
    "os.makedirs(tmp_dir, exist_ok=True)"
   ]
  },
  {
   "cell_type": "code",
   "execution_count": 9,
   "metadata": {},
   "outputs": [
    {
     "name": "stdout",
     "output_type": "stream",
     "text": [
      "downloading https://nihcc.box.com/shared/static/vfk49d74nhbxq3nqjg0900w5nvkorp5c.gz to /data_dir/chestxray/ChestX-ray8/ChestXray-NIHCC/tmp/images_01.tar.gz ...\n"
     ]
    },
    {
     "data": {
      "text/plain": [
       "('/data_dir/chestxray/ChestX-ray8/ChestXray-NIHCC/tmp/images_01.tar.gz',\n",
       " <http.client.HTTPMessage at 0x7fdcfd0ba160>)"
      ]
     },
     "execution_count": 9,
     "metadata": {},
     "output_type": "execute_result"
    },
    {
     "name": "stdout",
     "output_type": "stream",
     "text": [
      "downloading https://nihcc.box.com/shared/static/i28rlmbvmfjbl8p2n3ril0pptcmcu9d1.gz to /data_dir/chestxray/ChestX-ray8/ChestXray-NIHCC/tmp/images_02.tar.gz ...\n"
     ]
    },
    {
     "data": {
      "text/plain": [
       "('/data_dir/chestxray/ChestX-ray8/ChestXray-NIHCC/tmp/images_02.tar.gz',\n",
       " <http.client.HTTPMessage at 0x7fdcfd0ba550>)"
      ]
     },
     "execution_count": 9,
     "metadata": {},
     "output_type": "execute_result"
    },
    {
     "name": "stdout",
     "output_type": "stream",
     "text": [
      "downloading https://nihcc.box.com/shared/static/f1t00wrtdk94satdfb9olcolqx20z2jp.gz to /data_dir/chestxray/ChestX-ray8/ChestXray-NIHCC/tmp/images_03.tar.gz ...\n"
     ]
    },
    {
     "data": {
      "text/plain": [
       "('/data_dir/chestxray/ChestX-ray8/ChestXray-NIHCC/tmp/images_03.tar.gz',\n",
       " <http.client.HTTPMessage at 0x7fdcfd0ba198>)"
      ]
     },
     "execution_count": 9,
     "metadata": {},
     "output_type": "execute_result"
    },
    {
     "name": "stdout",
     "output_type": "stream",
     "text": [
      "downloading https://nihcc.box.com/shared/static/0aowwzs5lhjrceb3qp67ahp0rd1l1etg.gz to /data_dir/chestxray/ChestX-ray8/ChestXray-NIHCC/tmp/images_04.tar.gz ...\n"
     ]
    },
    {
     "data": {
      "text/plain": [
       "('/data_dir/chestxray/ChestX-ray8/ChestXray-NIHCC/tmp/images_04.tar.gz',\n",
       " <http.client.HTTPMessage at 0x7fdcfd0ba828>)"
      ]
     },
     "execution_count": 9,
     "metadata": {},
     "output_type": "execute_result"
    },
    {
     "name": "stdout",
     "output_type": "stream",
     "text": [
      "downloading https://nihcc.box.com/shared/static/v5e3goj22zr6h8tzualxfsqlqaygfbsn.gz to /data_dir/chestxray/ChestX-ray8/ChestXray-NIHCC/tmp/images_05.tar.gz ...\n"
     ]
    },
    {
     "data": {
      "text/plain": [
       "('/data_dir/chestxray/ChestX-ray8/ChestXray-NIHCC/tmp/images_05.tar.gz',\n",
       " <http.client.HTTPMessage at 0x7fdcfd0ba2e8>)"
      ]
     },
     "execution_count": 9,
     "metadata": {},
     "output_type": "execute_result"
    },
    {
     "name": "stdout",
     "output_type": "stream",
     "text": [
      "downloading https://nihcc.box.com/shared/static/asi7ikud9jwnkrnkj99jnpfkjdes7l6l.gz to /data_dir/chestxray/ChestX-ray8/ChestXray-NIHCC/tmp/images_06.tar.gz ...\n"
     ]
    },
    {
     "data": {
      "text/plain": [
       "('/data_dir/chestxray/ChestX-ray8/ChestXray-NIHCC/tmp/images_06.tar.gz',\n",
       " <http.client.HTTPMessage at 0x7fdcfd0ba0b8>)"
      ]
     },
     "execution_count": 9,
     "metadata": {},
     "output_type": "execute_result"
    },
    {
     "name": "stdout",
     "output_type": "stream",
     "text": [
      "downloading https://nihcc.box.com/shared/static/jn1b4mw4n6lnh74ovmcjb8y48h8xj07n.gz to /data_dir/chestxray/ChestX-ray8/ChestXray-NIHCC/tmp/images_07.tar.gz ...\n"
     ]
    },
    {
     "data": {
      "text/plain": [
       "('/data_dir/chestxray/ChestX-ray8/ChestXray-NIHCC/tmp/images_07.tar.gz',\n",
       " <http.client.HTTPMessage at 0x7fdcfd0ba0f0>)"
      ]
     },
     "execution_count": 9,
     "metadata": {},
     "output_type": "execute_result"
    },
    {
     "name": "stdout",
     "output_type": "stream",
     "text": [
      "downloading https://nihcc.box.com/shared/static/tvpxmn7qyrgl0w8wfh9kqfjskv6nmm1j.gz to /data_dir/chestxray/ChestX-ray8/ChestXray-NIHCC/tmp/images_08.tar.gz ...\n"
     ]
    },
    {
     "data": {
      "text/plain": [
       "('/data_dir/chestxray/ChestX-ray8/ChestXray-NIHCC/tmp/images_08.tar.gz',\n",
       " <http.client.HTTPMessage at 0x7fdcfd0ba588>)"
      ]
     },
     "execution_count": 9,
     "metadata": {},
     "output_type": "execute_result"
    },
    {
     "name": "stdout",
     "output_type": "stream",
     "text": [
      "downloading https://nihcc.box.com/shared/static/upyy3ml7qdumlgk2rfcvlb9k6gvqq2pj.gz to /data_dir/chestxray/ChestX-ray8/ChestXray-NIHCC/tmp/images_09.tar.gz ...\n"
     ]
    },
    {
     "data": {
      "text/plain": [
       "('/data_dir/chestxray/ChestX-ray8/ChestXray-NIHCC/tmp/images_09.tar.gz',\n",
       " <http.client.HTTPMessage at 0x7fdcfd0ba198>)"
      ]
     },
     "execution_count": 9,
     "metadata": {},
     "output_type": "execute_result"
    },
    {
     "name": "stdout",
     "output_type": "stream",
     "text": [
      "downloading https://nihcc.box.com/shared/static/l6nilvfa9cg3s28tqv1qc1olm3gnz54p.gz to /data_dir/chestxray/ChestX-ray8/ChestXray-NIHCC/tmp/images_10.tar.gz ...\n"
     ]
    },
    {
     "data": {
      "text/plain": [
       "('/data_dir/chestxray/ChestX-ray8/ChestXray-NIHCC/tmp/images_10.tar.gz',\n",
       " <http.client.HTTPMessage at 0x7fdcfd0ba208>)"
      ]
     },
     "execution_count": 9,
     "metadata": {},
     "output_type": "execute_result"
    },
    {
     "name": "stdout",
     "output_type": "stream",
     "text": [
      "downloading https://nihcc.box.com/shared/static/hhq8fkdgvcari67vfhs7ppg2w6ni4jze.gz to /data_dir/chestxray/ChestX-ray8/ChestXray-NIHCC/tmp/images_11.tar.gz ...\n"
     ]
    },
    {
     "data": {
      "text/plain": [
       "('/data_dir/chestxray/ChestX-ray8/ChestXray-NIHCC/tmp/images_11.tar.gz',\n",
       " <http.client.HTTPMessage at 0x7fdcfd0ba2e8>)"
      ]
     },
     "execution_count": 9,
     "metadata": {},
     "output_type": "execute_result"
    },
    {
     "name": "stdout",
     "output_type": "stream",
     "text": [
      "downloading https://nihcc.box.com/shared/static/ioqwiy20ihqwyr8pf4c24eazhh281pbu.gz to /data_dir/chestxray/ChestX-ray8/ChestXray-NIHCC/tmp/images_12.tar.gz ...\n"
     ]
    },
    {
     "data": {
      "text/plain": [
       "('/data_dir/chestxray/ChestX-ray8/ChestXray-NIHCC/tmp/images_12.tar.gz',\n",
       " <http.client.HTTPMessage at 0x7fdcfd0ba908>)"
      ]
     },
     "execution_count": 9,
     "metadata": {},
     "output_type": "execute_result"
    },
    {
     "name": "stdout",
     "output_type": "stream",
     "text": [
      "Download complete. Please check the checksums\n"
     ]
    }
   ],
   "source": [
    "# https://nihcc.app.box.com/v/ChestXray-NIHCC/file/371647823217\n",
    "# batch_download_zips.py\n",
    "\n",
    "# Download the 56 zip files in Images_png in batches\n",
    "\n",
    "# URLs for the zip files\n",
    "links = [\n",
    "    'https://nihcc.box.com/shared/static/vfk49d74nhbxq3nqjg0900w5nvkorp5c.gz',\n",
    "    'https://nihcc.box.com/shared/static/i28rlmbvmfjbl8p2n3ril0pptcmcu9d1.gz',\n",
    "    'https://nihcc.box.com/shared/static/f1t00wrtdk94satdfb9olcolqx20z2jp.gz',\n",
    "\t'https://nihcc.box.com/shared/static/0aowwzs5lhjrceb3qp67ahp0rd1l1etg.gz',\n",
    "    'https://nihcc.box.com/shared/static/v5e3goj22zr6h8tzualxfsqlqaygfbsn.gz',\n",
    "\t'https://nihcc.box.com/shared/static/asi7ikud9jwnkrnkj99jnpfkjdes7l6l.gz',\n",
    "\t'https://nihcc.box.com/shared/static/jn1b4mw4n6lnh74ovmcjb8y48h8xj07n.gz',\n",
    "    'https://nihcc.box.com/shared/static/tvpxmn7qyrgl0w8wfh9kqfjskv6nmm1j.gz',\n",
    "\t'https://nihcc.box.com/shared/static/upyy3ml7qdumlgk2rfcvlb9k6gvqq2pj.gz',\n",
    "\t'https://nihcc.box.com/shared/static/l6nilvfa9cg3s28tqv1qc1olm3gnz54p.gz',\n",
    "\t'https://nihcc.box.com/shared/static/hhq8fkdgvcari67vfhs7ppg2w6ni4jze.gz',\n",
    "\t'https://nihcc.box.com/shared/static/ioqwiy20ihqwyr8pf4c24eazhh281pbu.gz'\n",
    "]\n",
    "\n",
    "for idx, link in enumerate(links):\n",
    "    fn = 'images_%02d.tar.gz' % (idx+1)\n",
    "    fn = os.path.join(tmp_dir, fn)\n",
    "    print( 'downloading {} to {} ...'.format(link, fn))\n",
    "    if do_compressed_data_FLAG:\n",
    "        urllib.request.urlretrieve(link, fn)  \n",
    "print (\"Download complete. Please check the checksums\")"
   ]
  },
  {
   "cell_type": "markdown",
   "metadata": {},
   "source": [
    "###### Cell below (Commented) should __not__ be run\n",
    "Instead manually click on corresponding files at app.box.com and download them manually"
   ]
  },
  {
   "cell_type": "code",
   "execution_count": 10,
   "metadata": {},
   "outputs": [
    {
     "name": "stdout",
     "output_type": "stream",
     "text": [
      "downloading https://nihcc.app.box.com/v/ChestXray-NIHCC/file/219760887468 to /data_dir/chestxray/ChestX-ray8/ChestXray-NIHCC/../Data_Entry_2017.csv ...\n"
     ]
    },
    {
     "data": {
      "text/plain": [
       "('/data_dir/chestxray/ChestX-ray8/ChestXray-NIHCC/../Data_Entry_2017.csv',\n",
       " <http.client.HTTPMessage at 0x7fdcfd0ba198>)"
      ]
     },
     "execution_count": 10,
     "metadata": {},
     "output_type": "execute_result"
    },
    {
     "name": "stdout",
     "output_type": "stream",
     "text": [
      "downloading https://nihcc.app.box.com/v/ChestXray-NIHCC/file/219760940956 to /data_dir/chestxray/ChestX-ray8/ChestXray-NIHCC/../BBox_List_2017.csv ...\n"
     ]
    },
    {
     "data": {
      "text/plain": [
       "('/data_dir/chestxray/ChestX-ray8/ChestXray-NIHCC/../BBox_List_2017.csv',\n",
       " <http.client.HTTPMessage at 0x7fdcfd0ba438>)"
      ]
     },
     "execution_count": 10,
     "metadata": {},
     "output_type": "execute_result"
    }
   ],
   "source": [
    "# #NIH ChestXray data at app.box.com\n",
    "# # https://nihcc.app.box.com/v/ChestXray-NIHCC/folder/36938765345\n",
    "# #click on Data_Entry_2017.csv and 'BBox_List_2017.csv' to see their links\n",
    "# tmp_dir1 = os.path.join(nih_chest_xray_data_dir, '..')\n",
    "# link = 'https://nihcc.app.box.com/v/ChestXray-NIHCC/file/219760887468'\n",
    "# fn = 'Data_Entry_2017.csv'\n",
    "# fn = os.path.join(tmp_dir1, fn)\n",
    "# print( 'downloading {} to {} ...'.format(link, fn))\n",
    "# urllib.request.urlretrieve(link, fn)\n",
    "\n",
    "\n",
    "# link = 'https://nihcc.app.box.com/v/ChestXray-NIHCC/file/219760940956'\n",
    "# fn = 'BBox_List_2017.csv'\n",
    "# fn = os.path.join(tmp_dir1, fn)\n",
    "# print( 'downloading {} to {} ...'.format(link, fn))\n",
    "# urllib.request.urlretrieve(link, fn)"
   ]
  },
  {
   "cell_type": "code",
   "execution_count": 11,
   "metadata": {},
   "outputs": [
    {
     "name": "stdout",
     "output_type": "stream",
     "text": [
      "/datadrive01/prj/AzureChestXRayNoAML/code/01_DataPrep\n",
      "-rw-rw-r-- 1 loginvm022 loginvm022 20808 Nov 16 23:57 ./data/blacklist.csv\n"
     ]
    },
    {
     "data": {
      "text/plain": [
       "'/data_dir/chestxray/ChestX-ray8/ChestXray-NIHCC/../blacklist.csv'"
      ]
     },
     "execution_count": 11,
     "metadata": {},
     "output_type": "execute_result"
    }
   ],
   "source": [
    "!pwd\n",
    "! ls -l ./data/blacklist.csv\n",
    "# finally copy Azure chest Xray blacklist.csv to the same location\n",
    "shutil.copy('./data/blacklist.csv', tmp_dir1)"
   ]
  },
  {
   "cell_type": "code",
   "execution_count": 12,
   "metadata": {},
   "outputs": [
    {
     "data": {
      "text/plain": [
       "'/data_dir/chestxray/ChestX-ray8/ChestXray-NIHCC/tmp'"
      ]
     },
     "execution_count": 12,
     "metadata": {},
     "output_type": "execute_result"
    },
    {
     "data": {
      "text/plain": [
       "[]"
      ]
     },
     "execution_count": 12,
     "metadata": {},
     "output_type": "execute_result"
    },
    {
     "data": {
      "text/plain": [
       "'/data_dir/chestxray/ChestX-ray8/ChestXray-NIHCC/..'"
      ]
     },
     "execution_count": 12,
     "metadata": {},
     "output_type": "execute_result"
    },
    {
     "data": {
      "text/plain": [
       "['Data_Entry_2017.csv', 'blacklist.csv', 'BBox_List_2017.csv']"
      ]
     },
     "execution_count": 12,
     "metadata": {},
     "output_type": "execute_result"
    }
   ],
   "source": [
    "tmp_dir\n",
    "[f for f in os.listdir(tmp_dir1) if os.path.isfile(os.path.join(tmp_dir, f))]\n",
    "tmp_dir1\n",
    "[f for f in os.listdir(tmp_dir1) if os.path.isfile(os.path.join(tmp_dir1, f))]\n"
   ]
  },
  {
   "cell_type": "markdown",
   "metadata": {},
   "source": [
    "###### Upload Downloaded NIH data to Azure blob storage, in two containers:\n",
    " - one for compressed data (__nihchestxraydatacompressed__ i.e. os.getenv('sa_container_name_compressed_data')) \n",
    " - one for regular data (__nihchestxraydata__ i.e. os.getenv('sa_container_name'))"
   ]
  },
  {
   "cell_type": "code",
   "execution_count": 13,
   "metadata": {},
   "outputs": [
    {
     "data": {
      "text/plain": [
       "['------------------------------------------------------------------------------',\n",
       " 'azcopy 7.2.0-netcore Copyright (c) 2018 Microsoft Corp. All Rights Reserved.',\n",
       " '------------------------------------------------------------------------------']"
      ]
     },
     "execution_count": 13,
     "metadata": {},
     "output_type": "execute_result"
    }
   ],
   "source": [
    "az_copy_version = !azcopy --help\n",
    "az_copy_version[:3]"
   ]
  },
  {
   "cell_type": "code",
   "execution_count": 14,
   "metadata": {},
   "outputs": [
    {
     "data": {
      "text/plain": [
       "'https://ghiordanazrchestxraysa.blob.core.windows.net/nihchestxraydatacompressed'"
      ]
     },
     "execution_count": 14,
     "metadata": {},
     "output_type": "execute_result"
    }
   ],
   "source": [
    "%dotenv $dotenv_file_path -o\n",
    "\n",
    "crt_container = 'https://'+os.getenv('sa_name')+'.blob.core.windows.net/'+os.getenv('sa_container_name_compressed_data')\n",
    "crt_container"
   ]
  },
  {
   "cell_type": "code",
   "execution_count": 15,
   "metadata": {},
   "outputs": [
    {
     "name": "stdout",
     "output_type": "stream",
     "text": [
      "azcopy --source /data_dir/chestxray/ChestX-ray8/ChestXray-NIHCC/tmp --destination https://ghiordanazrchestxraysa.blob.core.windows.net/nihchestxraydatacompressed --include images_08.tar.gz\n",
      "\u001b[?1h\u001b=Overwrite https://ghiordanazrchestxraysa.blob.core.windows.net/nihchestxraydatacompressed/images_08.tar.gz with /data_dir/chestxray/ChestX-ray8/ChestXray-NIHCC/tmp/images_08.tar.gz? (Yes/No/All) Y\n",
      "[2019/11/17 20:09:39] Transfer summary:\n",
      "-----------------\n",
      "Total files transferred: 1\n",
      "Transfer successfully:   1\n",
      "Transfer skipped:        0\n",
      "Transfer failed:         0\n",
      "Elapsed time:            00.00:00:15\n",
      "azcopy --source /data_dir/chestxray/ChestX-ray8/ChestXray-NIHCC/tmp --destination https://ghiordanazrchestxraysa.blob.core.windows.net/nihchestxraydatacompressed --include images_04.tar.gz\n",
      "\u001b[?1h\u001b=Overwrite https://ghiordanazrchestxraysa.blob.core.windows.net/nihchestxraydatacompressed/images_04.tar.gz with /data_dir/chestxray/ChestX-ray8/ChestXray-NIHCC/tmp/images_04.tar.gz? (Yes/No/All) Y\n",
      "[2019/11/17 20:09:51] Transfer summary:\n",
      "-----------------\n",
      "Total files transferred: 1\n",
      "Transfer successfully:   1\n",
      "Transfer skipped:        0\n",
      "Transfer failed:         0\n",
      "Elapsed time:            00.00:00:11\n",
      "azcopy --source /data_dir/chestxray/ChestX-ray8/ChestXray-NIHCC/tmp --destination https://ghiordanazrchestxraysa.blob.core.windows.net/nihchestxraydatacompressed --include images_07.tar.gz\n",
      "\u001b[?1h\u001b=Overwrite https://ghiordanazrchestxraysa.blob.core.windows.net/nihchestxraydatacompressed/images_07.tar.gz with /data_dir/chestxray/ChestX-ray8/ChestXray-NIHCC/tmp/images_07.tar.gz? (Yes/No/All) Y\n",
      "[2019/11/17 20:10:09] Transfer summary:\n",
      "-----------------\n",
      "Total files transferred: 1\n",
      "Transfer successfully:   1\n",
      "Transfer skipped:        0\n",
      "Transfer failed:         0\n",
      "Elapsed time:            00.00:00:17\n",
      "azcopy --source /data_dir/chestxray/ChestX-ray8/ChestXray-NIHCC/tmp --destination https://ghiordanazrchestxraysa.blob.core.windows.net/nihchestxraydatacompressed --include images_06.tar.gz\n",
      "\u001b[?1h\u001b=Overwrite https://ghiordanazrchestxraysa.blob.core.windows.net/nihchestxraydatacompressed/images_06.tar.gz with /data_dir/chestxray/ChestX-ray8/ChestXray-NIHCC/tmp/images_06.tar.gz? (Yes/No/All) Y\n",
      "[2019/11/17 20:10:35] Transfer summary:\n",
      "-----------------\n",
      "Total files transferred: 1\n",
      "Transfer successfully:   1\n",
      "Transfer skipped:        0\n",
      "Transfer failed:         0\n",
      "Elapsed time:            00.00:00:26\n",
      "azcopy --source /data_dir/chestxray/ChestX-ray8/ChestXray-NIHCC/tmp --destination https://ghiordanazrchestxraysa.blob.core.windows.net/nihchestxraydatacompressed --include images_10.tar.gz\n",
      "\u001b[?1h\u001b=Overwrite https://ghiordanazrchestxraysa.blob.core.windows.net/nihchestxraydatacompressed/images_10.tar.gz with /data_dir/chestxray/ChestX-ray8/ChestXray-NIHCC/tmp/images_10.tar.gz? (Yes/No/All) Y\n",
      "[2019/11/17 20:10:51] Transfer summary:\n",
      "-----------------\n",
      "Total files transferred: 1\n",
      "Transfer successfully:   1\n",
      "Transfer skipped:        0\n",
      "Transfer failed:         0\n",
      "Elapsed time:            00.00:00:15\n",
      "azcopy --source /data_dir/chestxray/ChestX-ray8/ChestXray-NIHCC/tmp --destination https://ghiordanazrchestxraysa.blob.core.windows.net/nihchestxraydatacompressed --include images_03.tar.gz\n",
      "\u001b[?1h\u001b=Overwrite https://ghiordanazrchestxraysa.blob.core.windows.net/nihchestxraydatacompressed/images_03.tar.gz with /data_dir/chestxray/ChestX-ray8/ChestXray-NIHCC/tmp/images_03.tar.gz? (Yes/No/All) Y\n",
      "[2019/11/17 20:11:05] Transfer summary:\n",
      "-----------------\n",
      "Total files transferred: 1\n",
      "Transfer successfully:   1\n",
      "Transfer skipped:        0\n",
      "Transfer failed:         0\n",
      "Elapsed time:            00.00:00:13\n",
      "azcopy --source /data_dir/chestxray/ChestX-ray8/ChestXray-NIHCC/tmp --destination https://ghiordanazrchestxraysa.blob.core.windows.net/nihchestxraydatacompressed --include images_11.tar.gz\n",
      "\u001b[?1h\u001b=Overwrite https://ghiordanazrchestxraysa.blob.core.windows.net/nihchestxraydatacompressed/images_11.tar.gz with /data_dir/chestxray/ChestX-ray8/ChestXray-NIHCC/tmp/images_11.tar.gz? (Yes/No/All) Y\n",
      "[2019/11/17 20:11:26] Transfer summary:\n",
      "-----------------\n",
      "Total files transferred: 1\n",
      "Transfer successfully:   1\n",
      "Transfer skipped:        0\n",
      "Transfer failed:         0\n",
      "Elapsed time:            00.00:00:20\n",
      "azcopy --source /data_dir/chestxray/ChestX-ray8/ChestXray-NIHCC/tmp --destination https://ghiordanazrchestxraysa.blob.core.windows.net/nihchestxraydatacompressed --include images_05.tar.gz\n",
      "\u001b[?1h\u001b=Overwrite https://ghiordanazrchestxraysa.blob.core.windows.net/nihchestxraydatacompressed/images_05.tar.gz with /data_dir/chestxray/ChestX-ray8/ChestXray-NIHCC/tmp/images_05.tar.gz? (Yes/No/All) Y\n",
      "[2019/11/17 20:11:41] Transfer summary:\n",
      "-----------------\n",
      "Total files transferred: 1\n",
      "Transfer successfully:   1\n",
      "Transfer skipped:        0\n",
      "Transfer failed:         0\n",
      "Elapsed time:            00.00:00:14\n",
      "azcopy --source /data_dir/chestxray/ChestX-ray8/ChestXray-NIHCC/tmp --destination https://ghiordanazrchestxraysa.blob.core.windows.net/nihchestxraydatacompressed --include images_01.tar.gz\n",
      "\u001b[?1h\u001b=Overwrite https://ghiordanazrchestxraysa.blob.core.windows.net/nihchestxraydatacompressed/images_01.tar.gz with /data_dir/chestxray/ChestX-ray8/ChestXray-NIHCC/tmp/images_01.tar.gz? (Yes/No/All) Y\n",
      "[2019/11/17 20:11:48] Transfer summary:\n",
      "-----------------\n",
      "Total files transferred: 1\n",
      "Transfer successfully:   1\n",
      "Transfer skipped:        0\n",
      "Transfer failed:         0\n",
      "Elapsed time:            00.00:00:07\n",
      "azcopy --source /data_dir/chestxray/ChestX-ray8/ChestXray-NIHCC/tmp --destination https://ghiordanazrchestxraysa.blob.core.windows.net/nihchestxraydatacompressed --include images_09.tar.gz\n",
      "\u001b[?1h\u001b=Overwrite https://ghiordanazrchestxraysa.blob.core.windows.net/nihchestxraydatacompressed/images_09.tar.gz with /data_dir/chestxray/ChestX-ray8/ChestXray-NIHCC/tmp/images_09.tar.gz? (Yes/No/All) Y\n",
      "[2019/11/17 20:12:03] Transfer summary:\n",
      "-----------------\n",
      "Total files transferred: 1\n",
      "Transfer successfully:   1\n",
      "Transfer skipped:        0\n",
      "Transfer failed:         0\n",
      "Elapsed time:            00.00:00:13\n",
      "azcopy --source /data_dir/chestxray/ChestX-ray8/ChestXray-NIHCC/tmp --destination https://ghiordanazrchestxraysa.blob.core.windows.net/nihchestxraydatacompressed --include images_02.tar.gz\n",
      "\u001b[?1h\u001b=Overwrite https://ghiordanazrchestxraysa.blob.core.windows.net/nihchestxraydatacompressed/images_02.tar.gz with /data_dir/chestxray/ChestX-ray8/ChestXray-NIHCC/tmp/images_02.tar.gz? (Yes/No/All) Y\n",
      "[2019/11/17 20:12:21] Transfer summary:\n",
      "-----------------\n",
      "Total files transferred: 1\n",
      "Transfer successfully:   1\n",
      "Transfer skipped:        0\n",
      "Transfer failed:         0\n",
      "Elapsed time:            00.00:00:18\n",
      "azcopy --source /data_dir/chestxray/ChestX-ray8/ChestXray-NIHCC/tmp --destination https://ghiordanazrchestxraysa.blob.core.windows.net/nihchestxraydatacompressed --include images_12.tar.gz\n",
      "\u001b[?1h\u001b=Overwrite https://ghiordanazrchestxraysa.blob.core.windows.net/nihchestxraydatacompressed/images_12.tar.gz with /data_dir/chestxray/ChestX-ray8/ChestXray-NIHCC/tmp/images_12.tar.gz? (Yes/No/All) Y\n",
      "[2019/11/17 20:12:36] Transfer summary:\n",
      "-----------------\n",
      "Total files transferred: 1\n",
      "Transfer successfully:   1\n",
      "Transfer skipped:        0\n",
      "Transfer failed:         0\n",
      "Elapsed time:            00.00:00:14\n",
      "azcopy --source /data_dir/chestxray/ChestX-ray8 --destination https://ghiordanazrchestxraysa.blob.core.windows.net/nihchestxraydata --include Data_Entry_2017.csv\n",
      "\u001b[?1h\u001b=Overwrite https://ghiordanazrchestxraysa.blob.core.windows.net/nihchestxraydata/Data_Entry_2017.csv with /data_dir/chestxray/ChestX-ray8/Data_Entry_2017.csv? (Yes/No/All) Y\n",
      "[2019/11/17 20:12:37] Transfer summary:\n",
      "-----------------\n",
      "Total files transferred: 1\n",
      "Transfer successfully:   1\n",
      "Transfer skipped:        0\n",
      "Transfer failed:         0\n",
      "Elapsed time:            00.00:00:00\n",
      "azcopy --source /data_dir/chestxray/ChestX-ray8 --destination https://ghiordanazrchestxraysa.blob.core.windows.net/nihchestxraydata --include blacklist.csv\n",
      "\u001b[?1h\u001b=Overwrite https://ghiordanazrchestxraysa.blob.core.windows.net/nihchestxraydata/blacklist.csv with /data_dir/chestxray/ChestX-ray8/blacklist.csv? (Yes/No/All) Y\n",
      "[2019/11/17 20:12:39] Transfer summary:\n",
      "-----------------\n",
      "Total files transferred: 1\n",
      "Transfer successfully:   1\n",
      "Transfer skipped:        0\n",
      "Transfer failed:         0\n",
      "Elapsed time:            00.00:00:00\n"
     ]
    },
    {
     "name": "stdout",
     "output_type": "stream",
     "text": [
      "azcopy --source /data_dir/chestxray/ChestX-ray8 --destination https://ghiordanazrchestxraysa.blob.core.windows.net/nihchestxraydata --include BBox_List_2017.csv\n",
      "\u001b[?1h\u001b=Overwrite https://ghiordanazrchestxraysa.blob.core.windows.net/nihchestxraydata/BBox_List_2017.csv with /data_dir/chestxray/ChestX-ray8/BBox_List_2017.csv? (Yes/No/All) Y\n",
      "[2019/11/17 20:12:40] Transfer summary:\n",
      "-----------------\n",
      "Total files transferred: 1\n",
      "Transfer successfully:   1\n",
      "Transfer skipped:        0\n",
      "Transfer failed:         0\n",
      "Elapsed time:            00.00:00:00\n"
     ]
    }
   ],
   "source": [
    "def upload_folder_using_azcopy(local_folder, to_container=crt_container):\n",
    "    image_files = [f for f in os.listdir(local_folder) if os.path.isfile(os.path.join(local_folder, f))]\n",
    "\n",
    "    def upload_file(file_to_upload, crt_local_folder=local_folder, to_container=to_container):\n",
    "        cli_command = 'azcopy ' +\\\n",
    "        '--source ' + crt_local_folder + ' ' + \\\n",
    "        '--destination ' + to_container + ' ' + \\\n",
    "        '--include ' + file_to_upload + ' '\n",
    "        ! echo $cli_command\n",
    "        cli_command = cli_command + ' --dest-key ' + os.getenv('sa_key')\n",
    "        !echo Yes | $cli_command\n",
    "    [upload_file(x) for x in image_files]\n",
    "\n",
    "if do_compressed_data_FLAG:\n",
    "    upload_folder_using_azcopy('/data_dir/chestxray/ChestX-ray8/ChestXray-NIHCC/tmp')\n",
    "    \n",
    "upload_folder_using_azcopy('/data_dir/chestxray/ChestX-ray8', \n",
    "                          to_container = \\\n",
    "                        'https://'+os.getenv('sa_name')+'.blob.core.windows.net/'+os.getenv('sa_container_name'))"
   ]
  },
  {
   "cell_type": "code",
   "execution_count": 16,
   "metadata": {},
   "outputs": [
    {
     "data": {
      "text/plain": [
       "'/data_dir/chestxray/ChestX-ray8/ChestXray-NIHCC'"
      ]
     },
     "execution_count": 16,
     "metadata": {},
     "output_type": "execute_result"
    },
    {
     "data": {
      "text/plain": [
       "'/data_dir/chestxray/ChestX-ray8/ChestXray-NIHCC/tmp'"
      ]
     },
     "execution_count": 16,
     "metadata": {},
     "output_type": "execute_result"
    },
    {
     "name": "stdout",
     "output_type": "stream",
     "text": [
      "total 44023372\r\n",
      "-rwxrwxrwx 1 root root 2008470987 Nov 17 19:32 images_01.tar.gz\r\n",
      "-rwxrwxrwx 1 root root 3952623504 Nov 17 19:36 images_02.tar.gz\r\n",
      "-rwxrwxrwx 1 root root 3929234850 Nov 17 19:39 images_03.tar.gz\r\n",
      "-rwxrwxrwx 1 root root 3838903983 Nov 17 19:42 images_04.tar.gz\r\n",
      "-rwxrwxrwx 1 root root 3935496531 Nov 17 19:45 images_05.tar.gz\r\n",
      "-rwxrwxrwx 1 root root 3986301172 Nov 17 19:48 images_06.tar.gz\r\n",
      "-rwxrwxrwx 1 root root 4016328426 Nov 17 19:52 images_07.tar.gz\r\n",
      "-rwxrwxrwx 1 root root 4018347353 Nov 17 19:56 images_08.tar.gz\r\n",
      "-rwxrwxrwx 1 root root 4111327929 Nov 17 19:59 images_09.tar.gz\r\n",
      "-rwxrwxrwx 1 root root 4181556296 Nov 17 20:02 images_10.tar.gz\r\n",
      "-rwxrwxrwx 1 root root 4187084020 Nov 17 20:07 images_11.tar.gz\r\n",
      "-rwxrwxrwx 1 root root 2914187733 Nov 17 20:09 images_12.tar.gz\r\n"
     ]
    }
   ],
   "source": [
    "nih_chest_xray_data_dir\n",
    "tmp_dir\n",
    "!ls -l $tmp_dir"
   ]
  },
  {
   "cell_type": "markdown",
   "metadata": {},
   "source": [
    "The unzipping process below will run for several minutes.\n",
    "\n",
    "While it runs, you can monitor the progress by ssh-ing \n",
    "into your compute context machine and running:   \n",
    "find /data_dir/chestxray/ChestX-ray8/ChestXray-NIHCC/images  -type f | wc -l  \n",
    "\n",
    "The final number of images is:  \n",
    "__112120__   \n",
    "\n"
   ]
  },
  {
   "cell_type": "code",
   "execution_count": 17,
   "metadata": {},
   "outputs": [
    {
     "data": {
      "text/plain": [
       "'/data_dir/chestxray/ChestX-ray8/ChestXray-NIHCC'"
      ]
     },
     "execution_count": 17,
     "metadata": {},
     "output_type": "execute_result"
    },
    {
     "data": {
      "text/plain": [
       "'/datadrive01/prj/AzureChestXRayNoAML/code/01_DataPrep'"
      ]
     },
     "execution_count": 17,
     "metadata": {},
     "output_type": "execute_result"
    }
   ],
   "source": [
    "nih_chest_xray_data_dir\n",
    "old_crt_dir = os.getcwd()\n",
    "old_crt_dir"
   ]
  },
  {
   "cell_type": "code",
   "execution_count": 18,
   "metadata": {},
   "outputs": [
    {
     "name": "stdout",
     "output_type": "stream",
     "text": [
      "/data_dir/chestxray/ChestX-ray8/ChestXray-NIHCC\r\n"
     ]
    }
   ],
   "source": [
    "os.chdir(nih_chest_xray_data_dir)\n",
    "!pwd"
   ]
  },
  {
   "cell_type": "code",
   "execution_count": 19,
   "metadata": {},
   "outputs": [],
   "source": [
    "allImages = ! cat $tmp_dir/*.tar.gz | tar -zxf - -i"
   ]
  },
  {
   "cell_type": "code",
   "execution_count": 20,
   "metadata": {},
   "outputs": [
    {
     "data": {
      "text/plain": [
       "'azcopy --quiet  --source /data_dir/chestxray/ChestX-ray8/ChestXray-NIHCC/images  --destination https://ghiordanazrchestxraysa.blob.core.windows.net/nihchestxrayimages  --recursive '"
      ]
     },
     "execution_count": 20,
     "metadata": {},
     "output_type": "execute_result"
    },
    {
     "name": "stdout",
     "output_type": "stream",
     "text": [
      "\u001b[?1h\u001b=\u001b[6nFinished: 0 file(s), 0 B; Average Speed:0 B/s.                                 \u001b[6n\u001b[1;1H\u001b[6nFinished: 0 file(s), 0 B; Average Speed:0 B/s.                                 \u001b[6n\u001b[1;1H\u001b[6nFinished: 0 file(s), 0 B; Average Speed:0 B/s.                                 \u001b[6n\u001b[1;1H\u001b[6nFinished: 0 file(s), 0 B; Average Speed:0 B/s.                                 \u001b[6n\u001b[1;1H\u001b[6nFinished: 0 file(s), 369.002 KB; Average Speed:39.19 KB/s.                     \u001b[6n\u001b[1;1H\u001b[6nFinished: 816 file(s), 312.251 MB; Average Speed:27.25 MB/s.                   \u001b[6n\u001b[1;1H\u001b[6nFinished: 1297 file(s), 498.155 MB; Average Speed:36.88 MB/s.                  \u001b[6n\u001b[1;1H\u001b[6nFinished: 1992 file(s), 762.677 MB; Average Speed:49.03 MB/s.                  \u001b[6n\u001b[1;1H\u001b[6nFinished: 1993 file(s), 762.677 MB; Average Speed:43.33 MB/s.                  \u001b[6n\u001b[1;1H\u001b[6nFinished: 1994 file(s), 762.677 MB; Average Speed:38.81 MB/s.                  \u001b[6n\u001b[1;1H\u001b[6nFinished: 1994 file(s), 763.056 MB; Average Speed:28.76 MB/s.                  \u001b[6n\u001b[1;1H\u001b[6nFinished: 2841 file(s), 1.063 GB; Average Speed:38.07 MB/s.                    \u001b[6n\u001b[1;1H\u001b[6nFinished: 3087 file(s), 1.155 GB; Average Speed:38.6 MB/s.                     \u001b[6n\u001b[1;1H\u001b[6nFinished: 3088 file(s), 1.155 GB; Average Speed:36.18 MB/s.                    \u001b[6n\u001b[1;1H\u001b[6nFinished: 3673 file(s), 1.374 GB; Average Speed:40.51 MB/s.                    \u001b[6n\u001b[1;1H\u001b[6nFinished: 4486 file(s), 1.677 GB; Average Speed:46.69 MB/s.                    \u001b[6n\u001b[1;1H\u001b[6nFinished: 5275 file(s), 1.973 GB; Average Speed:52.04 MB/s.                    \u001b[6n\u001b[1;1H\u001b[6nFinished: 5976 file(s), 2.236 GB; Average Speed:56.02 MB/s.                    \u001b[6n\u001b[1;1H\u001b[6nFinished: 6568 file(s), 2.458 GB; Average Speed:58.65 MB/s.                    \u001b[6n\u001b[1;1H\u001b[6nFinished: 7370 file(s), 2.756 GB; Average Speed:62.77 MB/s.                    \u001b[6n\u001b[1;1H\u001b[6nFinished: 8568 file(s), 3.204 GB; Average Speed:69.79 MB/s.                    \u001b[6n\u001b[1;1H\u001b[6nFinished: 8892 file(s), 3.323 GB; Average Speed:69.37 MB/s.                    \u001b[6n\u001b[1;1H\u001b[6nFinished: 8893 file(s), 3.323 GB; Average Speed:66.59 MB/s.                    \u001b[6n\u001b[1;1H\u001b[6nFinished: 8893 file(s), 3.324 GB; Average Speed:57.9 MB/s.                     \u001b[6n\u001b[1;1H\u001b[6nFinished: 9890 file(s), 3.696 GB; Average Speed:62.25 MB/s.                    \u001b[6n\u001b[1;1H\u001b[6nFinished: 10343 file(s), 3.867 GB; Average Speed:63.01 MB/s.                   \u001b[6n\u001b[1;1H\u001b[6nFinished: 10429 file(s), 3.898 GB; Average Speed:61.5 MB/s.                    \u001b[6n\u001b[1;1H\u001b[6nFinished: 10430 file(s), 3.898 GB; Average Speed:59.61 MB/s.                   \u001b[6n\u001b[1;1H\u001b[6nFinished: 10430 file(s), 3.898 GB; Average Speed:54.41 MB/s.                   \u001b[6n\u001b[1;1H\u001b[6nFinished: 11535 file(s), 4.313 GB; Average Speed:58.57 MB/s.                   \u001b[6n\u001b[1;1H\u001b[6nFinished: 12061 file(s), 4.513 GB; Average Speed:59.67 MB/s.                   \u001b[6n\u001b[1;1H\u001b[6nFinished: 12761 file(s), 4.772 GB; Average Speed:61.47 MB/s.                   \u001b[6n\u001b[1;1H\u001b[6nFinished: 12944 file(s), 4.84 GB; Average Speed:60.78 MB/s.                    \u001b[6n\u001b[1;1H\u001b[6nFinished: 13623 file(s), 5.095 GB; Average Speed:62.42 MB/s.                   \u001b[6n\u001b[1;1H\u001b[6nFinished: 14560 file(s), 5.445 GB; Average Speed:65.11 MB/s.                   \u001b[6n\u001b[1;1H\u001b[6nFinished: 15239 file(s), 5.697 GB; Average Speed:66.53 MB/s.                   \u001b[6n\u001b[1;1H\u001b[6nFinished: 15781 file(s), 5.899 GB; Average Speed:67.31 MB/s.                   \u001b[6n\u001b[1;1H\u001b[6nFinished: 16260 file(s), 6.079 GB; Average Speed:67.83 MB/s.                   \u001b[6n\u001b[1;1H\u001b[6nFinished: 16340 file(s), 6.109 GB; Average Speed:66.67 MB/s.                   \u001b[6n\u001b[1;1H\u001b[6nFinished: 16341 file(s), 6.109 GB; Average Speed:65.25 MB/s.                   \u001b[6n\u001b[1;1H\u001b[6nFinished: 16342 file(s), 6.109 GB; Average Speed:63.88 MB/s.                   \u001b[6n\u001b[1;1H\u001b[6nFinished: 16342 file(s), 6.11 GB; Average Speed:61.75 MB/s.                    \u001b[6n\u001b[1;1H\u001b[6nFinished: 17372 file(s), 6.495 GB; Average Speed:64.35 MB/s.                   \u001b[6n\u001b[1;1H\u001b[6nFinished: 17466 file(s), 6.53 GB; Average Speed:63.43 MB/s.                    \u001b[6n\u001b[1;1H\u001b[6nFinished: 17467 file(s), 6.53 GB; Average Speed:62.22 MB/s.                    \u001b[6n\u001b[1;1H\u001b[6nFinished: 17468 file(s), 6.53 GB; Average Speed:61.06 MB/s.                    \u001b[6n\u001b[1;1H\u001b[6nFinished: 17468 file(s), 6.53 GB; Average Speed:58.94 MB/s.                    \u001b[6n\u001b[1;1H\u001b[6nFinished: 18434 file(s), 6.89 GB; Average Speed:61.09 MB/s.                    \u001b[6n\u001b[1;1H\u001b[6nFinished: 19533 file(s), 7.301 GB; Average Speed:63.61 MB/s.                   \u001b[6n\u001b[1;1H\u001b[6nFinished: 20389 file(s), 7.621 GB; Average Speed:65.26 MB/s.                   \u001b[6n\u001b[1;1H\u001b[6nFinished: 21348 file(s), 7.979 GB; Average Speed:67.18 MB/s.                   \u001b[6n\u001b[1;1H\u001b[6nFinished: 21723 file(s), 8.12 GB; Average Speed:67.23 MB/s.                    \u001b[6n\u001b[1;1H\u001b[6nFinished: 22579 file(s), 8.439 GB; Average Speed:68.73 MB/s.                   \u001b[6n\u001b[1;1H\u001b[6nFinished: 22584 file(s), 8.441 GB; Average Speed:67.65 MB/s.                   \u001b[6n\u001b[1;1H\u001b[6nFinished: 23486 file(s), 8.778 GB; Average Speed:69.24 MB/s.                   \u001b[6n\u001b[1;1H\u001b[6nFinished: 23782 file(s), 8.889 GB; Average Speed:69.02 MB/s.                   \u001b[6n\u001b[1;1H\u001b[6nFinished: 25069 file(s), 9.369 GB; Average Speed:71.64 MB/s.                   \u001b[6n\u001b[1;1H\u001b[6nFinished: 25925 file(s), 9.691 GB; Average Speed:72.98 MB/s.                   \u001b[6n\u001b[1;1H\u001b[6nFinished: 26000 file(s), 9.718 GB; Average Speed:72.1 MB/s.                    \u001b[6n\u001b[1;1H\u001b[6nFinished: 26432 file(s), 9.88 GB; Average Speed:72.23 MB/s.                    \u001b[6n\u001b[1;1H\u001b[6nFinished: 27667 file(s), 10.34 GB; Average Speed:74.5 MB/s.                    \u001b[6n\u001b[1;1H\u001b[6nFinished: 28800 file(s), 10.763 GB; Average Speed:76.45 MB/s.                  \u001b[6n\u001b[1;1H\u001b[6nFinished: 29905 file(s), 11.178 GB; Average Speed:78.28 MB/s.                  \u001b[6n\u001b[1;1H\u001b[6nFinished: 30487 file(s), 11.396 GB; Average Speed:78.71 MB/s.                  \u001b[6n\u001b[1;1H\u001b[6nFinished: 31570 file(s), 11.801 GB; Average Speed:80.4 MB/s.                   \u001b[6n\u001b[1;1H\u001b[6nFinished: 32409 file(s), 12.115 GB; Average Speed:81.42 MB/s.                  \u001b[6n\u001b[1;1H\u001b[6nFinished: 32410 file(s), 12.115 GB; Average Speed:80.34 MB/s.                  \u001b[6n\u001b[1;1H\u001b[6nFinished: 33490 file(s), 12.52 GB; Average Speed:81.94 MB/s.                   \u001b[6n\u001b[1;1H\u001b[6nFinished: 34692 file(s), 12.971 GB; Average Speed:83.8 MB/s.                   \u001b[6n\u001b[1;1H\u001b[6nFinished: 34863 file(s), 13.035 GB; Average Speed:83.14 MB/s.                  \u001b[6n\u001b[1;1H\u001b[6nFinished: 35486 file(s), 13.267 GB; Average Speed:83.56 MB/s.                  \u001b[6n\u001b[1;1H\u001b[6nFinished: 36869 file(s), 13.787 GB; Average Speed:85.75 MB/s.                  \u001b[6n\u001b[1;1H\u001b[6nFinished: 38122 file(s), 14.259 GB; Average Speed:87.59 MB/s.                  \u001b[6n\u001b[1;1H\u001b[6nFinished: 38838 file(s), 14.526 GB; Average Speed:88.15 MB/s.                  \u001b[6n\u001b[1;1H\u001b[6nFinished: 40025 file(s), 14.971 GB; Average Speed:89.76 MB/s.                  \u001b[6n\u001b[1;1H\u001b[6nFinished: 41047 file(s), 15.351 GB; Average Speed:90.94 MB/s.                  \u001b[6n\u001b[1;1H\u001b[6nFinished: 41994 file(s), 15.709 GB; Average Speed:91.97 MB/s.                  \u001b[6n\u001b[1;1H\u001b[6nFinished: 43071 file(s), 16.114 GB; Average Speed:93.25 MB/s.                  \u001b[6n\u001b[1;1H\u001b[6nFinished: 43857 file(s), 16.408 GB; Average Speed:93.86 MB/s.                  \u001b[6n\u001b[1;1H\u001b[6nFinished: 44867 file(s), 16.787 GB; Average Speed:94.94 MB/s.                  \u001b[6n\u001b[1;1H\u001b[6nFinished: 45869 file(s), 17.162 GB; Average Speed:95.98 MB/s.                  \u001b[6n\u001b[1;1H\u001b[6nFinished: 47062 file(s), 17.611 GB; Average Speed:97.4 MB/s.                   \u001b[6n\u001b[1;1H\u001b[6nFinished: 47879 file(s), 17.915 GB; Average Speed:98 MB/s.                     \u001b[6n\u001b[1;1H\u001b[6nFinished: 48938 file(s), 18.312 GB; Average Speed:99.08 MB/s.                  \u001b[6n\u001b[1;1H\u001b[6nFinished: 49456 file(s), 18.507 GB; Average Speed:99.07 MB/s.                  \u001b[6n\u001b[1;1H\u001b[6nFinished: 50337 file(s), 18.837 GB; Average Speed:99.76 MB/s.                  \u001b[6n\u001b[1;1H\u001b[6nFinished: 51643 file(s), 19.325 GB; Average Speed:101.28 MB/s.                 \u001b[6n\u001b[1;1H\u001b[6nFinished: 51729 file(s), 19.358 GB; Average Speed:100.39 MB/s.                 \u001b[6n\u001b[1;1H\u001b[6n"
     ]
    },
    {
     "name": "stdout",
     "output_type": "stream",
     "text": [
      "Finished: 52410 file(s), 19.613 GB; Average Speed:100.67 MB/s.                 \u001b[6n\u001b[1;1H\u001b[6nFinished: 53394 file(s), 19.982 GB; Average Speed:101.52 MB/s.                 \u001b[6n\u001b[1;1H\u001b[6nFinished: 54092 file(s), 20.244 GB; Average Speed:101.81 MB/s.                 \u001b[6n\u001b[1;1H\u001b[6nFinished: 55274 file(s), 20.687 GB; Average Speed:102.99 MB/s.                 \u001b[6n\u001b[1;1H\u001b[6nFinished: 56540 file(s), 21.159 GB; Average Speed:104.31 MB/s.                 \u001b[6n\u001b[1;1H\u001b[6nFinished: 57680 file(s), 21.588 GB; Average Speed:105.39 MB/s.                 \u001b[6n\u001b[1;1H\u001b[6nFinished: 58772 file(s), 21.997 GB; Average Speed:106.34 MB/s.                 \u001b[6n\u001b[1;1H\u001b[6nFinished: 58896 file(s), 22.043 GB; Average Speed:105.55 MB/s.                 \u001b[6n\u001b[1;1H\u001b[6nFinished: 59197 file(s), 22.155 GB; Average Speed:105.08 MB/s.                 \u001b[6n\u001b[1;1H\u001b[6nFinished: 60201 file(s), 22.532 GB; Average Speed:105.86 MB/s.                 \u001b[6n\u001b[1;1H\u001b[6nFinished: 60881 file(s), 22.787 GB; Average Speed:106.03 MB/s.                 \u001b[6n\u001b[1;1H\u001b[6nFinished: 62260 file(s), 23.304 GB; Average Speed:107.44 MB/s.                 \u001b[6n\u001b[1;1H\u001b[6nFinished: 62985 file(s), 23.576 GB; Average Speed:107.7 MB/s.                  \u001b[6n\u001b[1;1H\u001b[6nFinished: 63003 file(s), 23.583 GB; Average Speed:106.75 MB/s.                 \u001b[6n\u001b[1;1H\u001b[6nFinished: 63751 file(s), 23.864 GB; Average Speed:107.05 MB/s.                 \u001b[6n\u001b[1;1H\u001b[6nFinished: 64953 file(s), 24.312 GB; Average Speed:108.1 MB/s.                  \u001b[6n\u001b[1;1H\u001b[6nFinished: 65246 file(s), 24.421 GB; Average Speed:107.63 MB/s.                 \u001b[6n\u001b[1;1H\u001b[6nFinished: 65756 file(s), 24.613 GB; Average Speed:107.52 MB/s.                 \u001b[6n\u001b[1;1H\u001b[6nFinished: 66862 file(s), 25.026 GB; Average Speed:108.38 MB/s.                 \u001b[6n\u001b[1;1H\u001b[6nFinished: 67618 file(s), 25.311 GB; Average Speed:108.67 MB/s.                 \u001b[6n\u001b[1;1H\u001b[6nFinished: 67800 file(s), 25.379 GB; Average Speed:108.04 MB/s.                 \u001b[6n\u001b[1;1H\u001b[6nFinished: 68399 file(s), 25.604 GB; Average Speed:108.07 MB/s.                 \u001b[6n\u001b[1;1H\u001b[6nFinished: 69637 file(s), 26.068 GB; Average Speed:109.11 MB/s.                 \u001b[6n\u001b[1;1H\u001b[6nFinished: 70315 file(s), 26.321 GB; Average Speed:109.25 MB/s.                 \u001b[6n\u001b[1;1H\u001b[6nFinished: 70316 file(s), 26.321 GB; Average Speed:108.36 MB/s.                 \u001b[6n\u001b[1;1H\u001b[6nFinished: 71448 file(s), 26.745 GB; Average Speed:109.2 MB/s.                  \u001b[6n\u001b[1;1H\u001b[6nFinished: 72833 file(s), 27.262 GB; Average Speed:110.41 MB/s.                 \u001b[6n\u001b[1;1H\u001b[6nFinished: 73918 file(s), 27.667 GB; Average Speed:111.15 MB/s.                 \u001b[6n\u001b[1;1H\u001b[6nFinished: 74120 file(s), 27.743 GB; Average Speed:110.57 MB/s.                 \u001b[6n\u001b[1;1H\u001b[6nFinished: 74415 file(s), 27.853 GB; Average Speed:110.13 MB/s.                 \u001b[6n\u001b[1;1H\u001b[6nFinished: 75733 file(s), 28.345 GB; Average Speed:111.2 MB/s.                  \u001b[6n\u001b[1;1H\u001b[6nFinished: 77016 file(s), 28.825 GB; Average Speed:112.2 MB/s.                  \u001b[6n\u001b[1;1H\u001b[6nFinished: 78080 file(s), 29.223 GB; Average Speed:112.87 MB/s.                 \u001b[6n\u001b[1;1H\u001b[6nFinished: 79165 file(s), 29.632 GB; Average Speed:113.57 MB/s.                 \u001b[6n\u001b[1;1H\u001b[6nFinished: 80291 file(s), 30.051 GB; Average Speed:114.3 MB/s.                  \u001b[6n\u001b[1;1H\u001b[6nFinished: 81413 file(s), 30.474 GB; Average Speed:115.04 MB/s.                 \u001b[6n\u001b[1;1H\u001b[6nFinished: 82505 file(s), 30.882 GB; Average Speed:115.7 MB/s.                  \u001b[6n\u001b[1;1H\u001b[6nFinished: 82506 file(s), 30.882 GB; Average Speed:114.84 MB/s.                 \u001b[6n\u001b[1;1H\u001b[6nFinished: 83136 file(s), 31.117 GB; Average Speed:114.86 MB/s.                 \u001b[6n\u001b[1;1H\u001b[6nFinished: 84073 file(s), 31.468 GB; Average Speed:115.3 MB/s.                  \u001b[6n\u001b[1;1H\u001b[6nFinished: 85184 file(s), 31.884 GB; Average Speed:115.98 MB/s.                 \u001b[6n\u001b[1;1H\u001b[6nFinished: 86052 file(s), 32.209 GB; Average Speed:116.32 MB/s.                 \u001b[6n\u001b[1;1H\u001b[6nFinished: 86052 file(s), 32.21 GB; Average Speed:115.14 MB/s.                  \u001b[6n\u001b[1;1H\u001b[6nFinished: 86807 file(s), 32.493 GB; Average Speed:115.34 MB/s.                 \u001b[6n\u001b[1;1H\u001b[6nFinished: 87483 file(s), 32.746 GB; Average Speed:115.42 MB/s.                 \u001b[6n\u001b[1;1H\u001b[6nFinished: 87885 file(s), 32.896 GB; Average Speed:115.13 MB/s.                 \u001b[6n\u001b[1;1H\u001b[6nFinished: 88340 file(s), 33.066 GB; Average Speed:114.92 MB/s.                 \u001b[6n\u001b[1;1H\u001b[6nFinished: 88558 file(s), 33.148 GB; Average Speed:114.41 MB/s.                 \u001b[6n\u001b[1;1H\u001b[6nFinished: 89493 file(s), 33.498 GB; Average Speed:114.83 MB/s.                 \u001b[6n\u001b[1;1H\u001b[6nFinished: 90356 file(s), 33.819 GB; Average Speed:115.14 MB/s.                 \u001b[6n\u001b[1;1H\u001b[6nFinished: 91359 file(s), 34.195 GB; Average Speed:115.63 MB/s.                 \u001b[6n\u001b[1;1H\u001b[6nFinished: 92393 file(s), 34.58 GB; Average Speed:116.15 MB/s.                  \u001b[6n\u001b[1;1H\u001b[6nFinished: 93524 file(s), 35.003 GB; Average Speed:116.79 MB/s.                 \u001b[6n\u001b[1;1H\u001b[6nFinished: 94544 file(s), 35.385 GB; Average Speed:117.28 MB/s.                 \u001b[6n\u001b[1;1H\u001b[6nFinished: 95479 file(s), 35.735 GB; Average Speed:117.66 MB/s.                 \u001b[6n\u001b[1;1H\u001b[6nFinished: 96406 file(s), 36.081 GB; Average Speed:118.02 MB/s.                 \u001b[6n\u001b[1;1H\u001b[6nFinished: 97219 file(s), 36.387 GB; Average Speed:118.25 MB/s.                 \u001b[6n\u001b[1;1H\u001b[6nFinished: 98116 file(s), 36.722 GB; Average Speed:118.56 MB/s.                 \u001b[6n\u001b[1;1H\u001b[6nFinished: 99182 file(s), 37.122 GB; Average Speed:119.09 MB/s.                 \u001b[6n\u001b[1;1H\u001b[6nFinished: 100003 file(s), 37.431 GB; Average Speed:119.31 MB/s.                \u001b[6n\u001b[1;1H\u001b[6nFinished: 101008 file(s), 37.806 GB; Average Speed:119.74 MB/s.                \u001b[6n\u001b[1;1H\u001b[6nFinished: 101805 file(s), 38.104 GB; Average Speed:119.93 MB/s.                \u001b[6n\u001b[1;1H\u001b[6nFinished: 101806 file(s), 38.104 GB; Average Speed:119.18 MB/s.                \u001b[6n\u001b[1;1H\u001b[6nFinished: 101806 file(s), 38.104 GB; Average Speed:118.44 MB/s.                \u001b[6n\u001b[1;1H\u001b[6nFinished: 103207 file(s), 38.631 GB; Average Speed:119.33 MB/s.                \u001b[6n\u001b[1;1H\u001b[6nFinished: 104982 file(s), 39.293 GB; Average Speed:120.63 MB/s.                \u001b[6n\u001b[1;1H\u001b[6nFinished: 105835 file(s), 39.612 GB; Average Speed:120.87 MB/s.                \u001b[6n\u001b[1;1H\u001b[6nFinished: 107807 file(s), 40.351 GB; Average Speed:122.38 MB/s.                \u001b[6n\u001b[1;1H\u001b[6nFinished: 108785 file(s), 40.718 GB; Average Speed:122.74 MB/s.                \u001b[6n\u001b[1;1H\u001b[6nFinished: 110150 file(s), 41.226 GB; Average Speed:123.53 MB/s.                \u001b[6n\u001b[1;1H\u001b[6nFinished: 111874 file(s), 41.87 GB; Average Speed:124.72 MB/s.                 \u001b[6n\u001b[1;1H\u001b[6nFinished: 112119 file(s), 41.963 GB; Average Speed:124.25 MB/s.                \u001b[6n\u001b[1;1H\u001b[6nFinished: 112120 file(s), 41.963 GB; Average Speed:123.52 MB/s.                \u001b[6n\u001b[1;1H\u001b[6n                                                                               \u001b[6n\u001b[1;1HFinished 112120 of total 112120 file(s).\n",
      "\u001b[6n                                                                               \u001b[6n\u001b[1;1H[2019/11/17 20:37:02] Transfer summary:\n",
      "-----------------\n",
      "Total files transferred: 112120\n",
      "Transfer successfully:   112120\n",
      "Transfer skipped:        0\n",
      "Transfer failed:         0\n",
      "Elapsed time:            00.00:05:51\n"
     ]
    }
   ],
   "source": [
    "# upload_folder_using_azcopy(nih_chest_xray_data_dir, \n",
    "#                           to_container = \\\n",
    "#                         'https://'+os.getenv('sa_name')+'.blob.core.windows.net/'+os.getenv('sa_container_name_images'))\n",
    "\n",
    "images_dir = os.path.join(nih_chest_xray_data_dir, 'images')\n",
    "cli_command = 'azcopy --quiet ' +\\\n",
    "    ' --source ' + images_dir + ' ' +\\\n",
    "    ' --destination ' + 'https://'+os.getenv('sa_name')+'.blob.core.windows.net/'+os.getenv('sa_container_name_images') + ' ' +\\\n",
    "    ' --recursive ' \n",
    "\n",
    "cli_command\n",
    "cli_command =cli_command+ ' --dest-key ' + os.getenv('sa_key') \n",
    "!$cli_command\n"
   ]
  },
  {
   "cell_type": "code",
   "execution_count": 21,
   "metadata": {},
   "outputs": [
    {
     "name": "stdout",
     "output_type": "stream",
     "text": [
      "/data_dir/chestxray/ChestX-ray8/ChestXray-NIHCC\n",
      "/datadrive01/prj/AzureChestXRayNoAML/code/01_DataPrep\n"
     ]
    }
   ],
   "source": [
    "!pwd\n",
    "os.chdir(old_crt_dir)\n",
    "!pwd"
   ]
  },
  {
   "cell_type": "code",
   "execution_count": null,
   "metadata": {},
   "outputs": [],
   "source": []
  }
 ],
 "metadata": {
  "kernelspec": {
   "display_name": "Python [default]",
   "language": "python",
   "name": "python3"
  },
  "language_info": {
   "codemirror_mode": {
    "name": "ipython",
    "version": 3
   },
   "file_extension": ".py",
   "mimetype": "text/x-python",
   "name": "python",
   "nbconvert_exporter": "python",
   "pygments_lexer": "ipython3",
   "version": "3.5.5"
  }
 },
 "nbformat": 4,
 "nbformat_minor": 2
}
