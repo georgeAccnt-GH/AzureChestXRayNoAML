{
 "cells": [
  {
   "cell_type": "markdown",
   "metadata": {},
   "source": [
    "##### Copyright (C) Microsoft Corporation.  \n",
    "see license file for details \n",
    "\n",
    "\n",
    "## Copies data from blob to local host\n",
    "\n",
    "\n",
    "downloads to local disk data from Azure Data Storage containers (see in cell below the local and Azure storage containers structure)"
   ]
  },
  {
   "cell_type": "code",
   "execution_count": null,
   "metadata": {},
   "outputs": [],
   "source": [
    "# Local data structure:\n",
    "#     /data_dir/chestxray/ChestX-ray8/  \n",
    "#         BBox_List_2017.csv         \n",
    "#         Data_Entry_2017.csv  \n",
    "#         blacklist.csv\n",
    "#         ChestXray-NIHCC/  \n",
    "#             /tmp/  \n",
    "#                 images_01.tar.gz    \n",
    "#                 images_03.tar.gz    \n",
    "#                 images_05.tar.gz   \n",
    "#                 images_07.tar.gz   \n",
    "#                 images_09.tar.gz   \n",
    "#                 images_11.tar.gz  \n",
    "#                 images_02.tar.gz   \n",
    "#                 images_04.tar.gz   \n",
    "#                 images_06.tar.gz   \n",
    "#                 images_08.tar.gz   \n",
    "#                 images_10.tar.gz   \n",
    "#                 images_12.tar.gz\n",
    "#             /images/\n",
    "#                   00000001_000.png\n",
    "#                   00000001_001.png\n",
    "#                   ... 112120 png images\n",
    "# \n",
    "#    Azure Data Storage container structure:\n",
    "#       container nihchestxrayimages\n",
    "#                   00000001_000.png\n",
    "#                   00000001_001.png\n",
    "#                   ... 112120 png image files, total 41.96 GiB\n",
    "#       container nihchestxraydatacompressed:\n",
    "#                   images_01.tar.gz\n",
    "#                   ... 12 files, total 41.98 GiB\n",
    "#       container nihchestxraydata\n",
    "#                   BBox_List_2017.csv\n",
    "#                   blacklist.csv\n",
    "#                   Data_Entry_2017.csv"
   ]
  },
  {
   "cell_type": "code",
   "execution_count": 1,
   "metadata": {},
   "outputs": [],
   "source": [
    "# Allow multiple displays per cell\n",
    "\n",
    "from IPython.core.interactiveshell import InteractiveShell\n",
    "InteractiveShell.ast_node_interactivity = \"all\" "
   ]
  },
  {
   "cell_type": "code",
   "execution_count": 2,
   "metadata": {},
   "outputs": [],
   "source": [
    "%load_ext autoreload\n",
    "%autoreload 2"
   ]
  },
  {
   "cell_type": "code",
   "execution_count": 3,
   "metadata": {},
   "outputs": [],
   "source": [
    "%reload_ext dotenv\n",
    "dotenv_file_path='./../not_shared/general.env'"
   ]
  },
  {
   "cell_type": "code",
   "execution_count": 4,
   "metadata": {},
   "outputs": [],
   "source": [
    "import os, platform\n",
    "import sys\n",
    "import urllib.request"
   ]
  },
  {
   "cell_type": "code",
   "execution_count": 5,
   "metadata": {},
   "outputs": [
    {
     "data": {
      "text/plain": [
       "'Linux-4.15.0-1063-azure-x86_64-with-debian-stretch-sid'"
      ]
     },
     "execution_count": 5,
     "metadata": {},
     "output_type": "execute_result"
    },
    {
     "data": {
      "text/plain": [
       "'/datadrive01/prj/AzureChestXRayNoAML/code/01_DataPrep'"
      ]
     },
     "execution_count": 5,
     "metadata": {},
     "output_type": "execute_result"
    }
   ],
   "source": [
    "platform.platform()\n",
    "os.getcwd()"
   ]
  },
  {
   "cell_type": "code",
   "execution_count": 6,
   "metadata": {},
   "outputs": [
    {
     "data": {
      "text/plain": [
       "['/datadrive01/prj/AzureChestXRayNoAML/code/01_DataPrep/../src']"
      ]
     },
     "execution_count": 6,
     "metadata": {},
     "output_type": "execute_result"
    },
    {
     "data": {
      "text/plain": [
       "[None]"
      ]
     },
     "execution_count": 6,
     "metadata": {},
     "output_type": "execute_result"
    },
    {
     "name": "stderr",
     "output_type": "stream",
     "text": [
      "/data/anaconda/envs/py35/lib/python3.5/importlib/_bootstrap.py:222: RuntimeWarning: numpy.dtype size changed, may indicate binary incompatibility. Expected 96, got 88\n",
      "  return f(*args, **kwds)\n",
      "/data/anaconda/envs/py35/lib/python3.5/importlib/_bootstrap.py:222: RuntimeWarning: numpy.dtype size changed, may indicate binary incompatibility. Expected 96, got 88\n",
      "  return f(*args, **kwds)\n"
     ]
    }
   ],
   "source": [
    "# import utlity functions\n",
    "\n",
    "paths_to_append = [os.path.join(os.getcwd(), os.path.join(*(['..','src'])))]\n",
    "paths_to_append\n",
    "def add_path_to_sys_path(path_to_append):\n",
    "    if not (any(path_to_append in paths for paths in sys.path)):\n",
    "        sys.path.append(path_to_append)\n",
    "[add_path_to_sys_path(crt_path) for crt_path in paths_to_append]\n",
    "\n",
    "import azure_chestxray_utils"
   ]
  },
  {
   "cell_type": "code",
   "execution_count": 7,
   "metadata": {},
   "outputs": [
    {
     "data": {
      "text/plain": [
       "'/data_dir/chestxray/ChestX-ray8/ChestXray-NIHCC'"
      ]
     },
     "execution_count": 7,
     "metadata": {},
     "output_type": "execute_result"
    },
    {
     "name": "stdout",
     "output_type": "stream",
     "text": [
      "total 3900\r\n",
      "drwxrwxr-x 2 loginvm022 loginvm022 3989504 Sep  4  2017 images\r\n",
      "drwxrwxrwx 2 root       root          4096 Nov 16 05:48 tmp\r\n"
     ]
    }
   ],
   "source": [
    "# create the file path variables \n",
    "# create nih_chest_xray_data_dir (in container dir mapped to a host dir for data persistence), \n",
    "# where data will be copied from blob\n",
    "\n",
    "prj_consts = azure_chestxray_utils.chestxray_consts()\n",
    "\n",
    "nih_chest_xray_data_dir=os.path.join(os.path.join(*([os.sep]+prj_consts.BASE_INPUT_DIR_list)), \n",
    "                                     os.path.join(*(prj_consts.ChestXray_IMAGES_DIR_list)))\n",
    "os.makedirs(nih_chest_xray_data_dir, exist_ok=True)\n",
    "\n",
    "nih_chest_xray_data_dir\n",
    "!ls -l {nih_chest_xray_data_dir}"
   ]
  },
  {
   "cell_type": "code",
   "execution_count": 8,
   "metadata": {},
   "outputs": [
    {
     "data": {
      "text/plain": [
       "['azcopy 7.2.0-netcore Copyright (c) 2018 Microsoft Corp. All Rights Reserved.',\n",
       " '------------------------------------------------------------------------------',\n",
       " '# azcopy is designed for high-performance uploading, downloading, and copying',\n",
       " 'data to and from Microsoft Azure Blob, and File storage.',\n",
       " '',\n",
       " '# Command Line Usage:',\n",
       " '    azcopy --source <source> --destination <destination> [options]',\n",
       " '',\n",
       " '# Options:']"
      ]
     },
     "execution_count": 8,
     "metadata": {},
     "output_type": "execute_result"
    }
   ],
   "source": [
    "#check azcopy is available. Uncomment second line to print _response_ if needed\n",
    "\n",
    "response = !azcopy\n",
    "response[1:10]"
   ]
  },
  {
   "cell_type": "code",
   "execution_count": 9,
   "metadata": {},
   "outputs": [],
   "source": [
    "%dotenv $dotenv_file_path\n",
    "\n",
    "storage_account_key = os.getenv('sa_key')"
   ]
  },
  {
   "cell_type": "markdown",
   "metadata": {},
   "source": [
    "###### Copy meta-data  \n",
    " - NIH Chest Xray: BBox_List_2017.csv, Data_Entry_2017.csv  \n",
    " - Azure Chest Xray: blacklist.csv   "
   ]
  },
  {
   "cell_type": "code",
   "execution_count": 10,
   "metadata": {},
   "outputs": [
    {
     "name": "stdout",
     "output_type": "stream",
     "text": [
      "\u001b[?1h\u001b=[2019/11/17 21:12:37.185+00:00] >>>>>>>>>>>>>>>>\n",
      "[2019/11/17 21:12:37.194+00:00][VERBOSE] Finished: 0 file(s), 0 B; Average Speed:0 B/s.\n",
      "[2019/11/17 21:12:37.197+00:00][VERBOSE] 7.2.0 : azcopy --quiet --source https://ghiordanazrchestxraysa.blob.core.windows.net/nihchestxraydata --destination /data_dir/chestxray/ChestX-ray8/ChestXray-NIHCC/.. --source-key ****** --verbose --include BBox_List_2017.csv\n",
      "[2019/11/17 21:12:37.271+00:00][VERBOSE] Attempt to parse address 'https://ghiordanazrchestxraysa.blob.core.windows.net/nihchestxraydata' to a directory as a candidate location succeeded.\n",
      "[2019/11/17 21:12:37.273+00:00][VERBOSE] Source is interpreted as a Cloud blob directory: https://ghiordanazrchestxraysa.blob.core.windows.net/nihchestxraydata.\n",
      "[2019/11/17 21:12:37.275+00:00][VERBOSE] Attempt to parse address '/data_dir/chestxray/ChestX-ray8/ChestXray-NIHCC/..' to a directory as a candidate location succeeded.\n",
      "[2019/11/17 21:12:37.277+00:00][VERBOSE] Destination is interpreted as a Local directory: /data_dir/chestxray/ChestX-ray8/.\n",
      "[2019/11/17 21:12:37.714+00:00][VERBOSE] Start transfer: https://ghiordanazrchestxraysa.blob.core.windows.net/nihchestxraydata/BBox_List_2017.csv => /data_dir/chestxray/ChestX-ray8/BBox_List_2017.csv\n",
      "[2019/11/17 21:12:37.908+00:00][VERBOSE] Finished transfer: https://ghiordanazrchestxraysa.blob.core.windows.net/nihchestxraydata/BBox_List_2017.csv => /data_dir/chestxray/ChestX-ray8/BBox_List_2017.csv\n",
      "\u001b[6n                                                                               \u001b[6n\u001b[1;1HFinished 1 of total 1 file(s).\n",
      "\u001b[6n                                                                               \u001b[6n\u001b[1;1H[2019/11/17 21:12:39] Transfer summary:\n",
      "-----------------\n",
      "Total files transferred: 1\n",
      "Transfer successfully:   1\n",
      "Transfer skipped:        0\n",
      "Transfer failed:         0\n",
      "Elapsed time:            00.00:00:02\n",
      "\u001b[?1h\u001b=[2019/11/17 21:12:42.305+00:00] >>>>>>>>>>>>>>>>\n",
      "[2019/11/17 21:12:42.314+00:00][VERBOSE] Finished: 0 file(s), 0 B; Average Speed:0 B/s.\n",
      "[2019/11/17 21:12:42.318+00:00][VERBOSE] 7.2.0 : azcopy --quiet --source https://ghiordanazrchestxraysa.blob.core.windows.net/nihchestxraydata --destination /data_dir/chestxray/ChestX-ray8/ChestXray-NIHCC/.. --source-key ****** --verbose --include Data_Entry_2017.csv\n",
      "[2019/11/17 21:12:42.392+00:00][VERBOSE] Attempt to parse address 'https://ghiordanazrchestxraysa.blob.core.windows.net/nihchestxraydata' to a directory as a candidate location succeeded.\n",
      "[2019/11/17 21:12:42.394+00:00][VERBOSE] Source is interpreted as a Cloud blob directory: https://ghiordanazrchestxraysa.blob.core.windows.net/nihchestxraydata.\n",
      "[2019/11/17 21:12:42.396+00:00][VERBOSE] Attempt to parse address '/data_dir/chestxray/ChestX-ray8/ChestXray-NIHCC/..' to a directory as a candidate location succeeded.\n",
      "[2019/11/17 21:12:42.398+00:00][VERBOSE] Destination is interpreted as a Local directory: /data_dir/chestxray/ChestX-ray8/.\n",
      "[2019/11/17 21:12:42.836+00:00][VERBOSE] Start transfer: https://ghiordanazrchestxraysa.blob.core.windows.net/nihchestxraydata/Data_Entry_2017.csv => /data_dir/chestxray/ChestX-ray8/Data_Entry_2017.csv\n",
      "[2019/11/17 21:12:43.044+00:00][VERBOSE] Finished transfer: https://ghiordanazrchestxraysa.blob.core.windows.net/nihchestxraydata/Data_Entry_2017.csv => /data_dir/chestxray/ChestX-ray8/Data_Entry_2017.csv\n",
      "\u001b[6n                                                                               \u001b[6n\u001b[1;1HFinished 1 of total 1 file(s).\n",
      "\u001b[6n                                                                               \u001b[6n\u001b[1;1H[2019/11/17 21:12:45] Transfer summary:\n",
      "-----------------\n",
      "Total files transferred: 1\n",
      "Transfer successfully:   1\n",
      "Transfer skipped:        0\n",
      "Transfer failed:         0\n",
      "Elapsed time:            00.00:00:02\n",
      "\u001b[?1h\u001b=[2019/11/17 21:12:47.480+00:00] >>>>>>>>>>>>>>>>\n",
      "[2019/11/17 21:12:47.488+00:00][VERBOSE] Finished: 0 file(s), 0 B; Average Speed:0 B/s.\n",
      "[2019/11/17 21:12:47.492+00:00][VERBOSE] 7.2.0 : azcopy --quiet --source https://ghiordanazrchestxraysa.blob.core.windows.net/nihchestxraydata --destination /data_dir/chestxray/ChestX-ray8/ChestXray-NIHCC/.. --source-key ****** --verbose --include blacklist.csv\n",
      "[2019/11/17 21:12:47.567+00:00][VERBOSE] Attempt to parse address 'https://ghiordanazrchestxraysa.blob.core.windows.net/nihchestxraydata' to a directory as a candidate location succeeded.\n",
      "[2019/11/17 21:12:47.568+00:00][VERBOSE] Source is interpreted as a Cloud blob directory: https://ghiordanazrchestxraysa.blob.core.windows.net/nihchestxraydata.\n",
      "[2019/11/17 21:12:47.570+00:00][VERBOSE] Attempt to parse address '/data_dir/chestxray/ChestX-ray8/ChestXray-NIHCC/..' to a directory as a candidate location succeeded.\n",
      "[2019/11/17 21:12:47.572+00:00][VERBOSE] Destination is interpreted as a Local directory: /data_dir/chestxray/ChestX-ray8/.\n",
      "[2019/11/17 21:12:48.009+00:00][VERBOSE] Start transfer: https://ghiordanazrchestxraysa.blob.core.windows.net/nihchestxraydata/blacklist.csv => /data_dir/chestxray/ChestX-ray8/blacklist.csv\n",
      "[2019/11/17 21:12:48.191+00:00][VERBOSE] Finished transfer: https://ghiordanazrchestxraysa.blob.core.windows.net/nihchestxraydata/blacklist.csv => /data_dir/chestxray/ChestX-ray8/blacklist.csv\n",
      "\u001b[6n                                                                               \u001b[6n\u001b[1;1HFinished 1 of total 1 file(s).\n",
      "\u001b[6n                                                                               \u001b[6n\u001b[1;1H[2019/11/17 21:12:50] Transfer summary:\n",
      "-----------------\n",
      "Total files transferred: 1\n",
      "Transfer successfully:   1\n",
      "Transfer skipped:        0\n",
      "Transfer failed:         0\n",
      "Elapsed time:            00.00:00:02\n"
     ]
    }
   ],
   "source": [
    "# copy data to local host dir\n",
    "source_container = 'https://'+os.getenv('sa_name')+'.blob.core.windows.net/'+os.getenv('sa_container_name')\n",
    "dest_local_dir = os.path.join(nih_chest_xray_data_dir, '..')\n",
    "\n",
    "!azcopy --quiet \\\n",
    "    --source {source_container}  \\\n",
    "    --destination {dest_local_dir} \\\n",
    "    --source-key {storage_account_key} \\\n",
    "    --verbose \\\n",
    "    --include \"BBox_List_2017.csv\"\n",
    "\n",
    "!azcopy --quiet \\\n",
    "    --source {source_container}  \\\n",
    "    --destination {dest_local_dir} \\\n",
    "    --source-key {storage_account_key} \\\n",
    "    --verbose \\\n",
    "    --include \"Data_Entry_2017.csv\"\n",
    "\n",
    "!azcopy --quiet \\\n",
    "    --source {source_container}  \\\n",
    "    --destination {dest_local_dir} \\\n",
    "    --source-key {storage_account_key} \\\n",
    "    --verbose \\\n",
    "    --include \"blacklist.csv\""
   ]
  },
  {
   "cell_type": "markdown",
   "metadata": {},
   "source": [
    "###### Copy NIH Chest Xray  compressed image data\n",
    "Make:\n",
    "```\n",
    "copy_NIH_compressed_data_FLAG = False\n",
    "``` \n",
    "to skip next 2 cells and use the following cells to download uncompressed images.\n",
    "\n",
    "Make:\n",
    "```\n",
    "copy_NIH_compressed_data_FLAG = True\n",
    "```\n",
    "if you want to download compressed data and uncompress locally in the next 2 cells. "
   ]
  },
  {
   "cell_type": "code",
   "execution_count": 11,
   "metadata": {},
   "outputs": [],
   "source": [
    "copy_NIH_compressed_data_FLAG = False\n",
    "\n",
    "if copy_NIH_compressed_data_FLAG:\n",
    "    tmp_dir = os.path.join(nih_chest_xray_data_dir, 'tmp')\n",
    "    tmp_dir\n",
    "    os.makedirs(tmp_dir, exist_ok=True)\n",
    "\n",
    "    compressed_data_container = 'https://'+os.getenv('sa_name')+'.blob.core.windows.net/'+os.getenv('sa_container_name_compressed_data')\n",
    "\n",
    "    answer = !azcopy --quiet \\\n",
    "    --source {compressed_data_container}  \\\n",
    "    --destination {tmp_dir} \\\n",
    "    --source-key {crt_key} \\\n",
    "    --recursive \\\n",
    "    --verbose \\\n",
    "    --include \"images_\"\n",
    "    \n",
    "    print(answer[-7:])\n",
    "    "
   ]
  },
  {
   "cell_type": "markdown",
   "metadata": {},
   "source": [
    "The azcopy download process above will run for several minutes. \n",
    "\n",
    "Make sure you have these file sizes when it finishes:  \n",
    "total __44023372__  \n",
    "-rw-r--r-- 1 1000 users __2008470987__ Sep 26 17:19 images_001.tar.gz  \n",
    "-rw-r--r-- 1 1000 users __3952623504__ Sep 26 19:05 images_002.tar.gz  \n",
    "-rw-r--r-- 1 1000 users __3929234850__ Sep 26 17:22 images_003.tar.gz  \n",
    "-rw-r--r-- 1 1000 users __3838903983__ Sep 26 17:25 images_004.tar.gz  \n",
    "-rw-r--r-- 1 1000 users __3935496531__ Sep 26 17:22 images_005.tar.gz  \n",
    "-rw-r--r-- 1 1000 users __3986301172__ Sep 26 17:25 images_006.tar.gz  \n",
    "-rw-r--r-- 1 1000 users __4016328426__ Sep 26 19:05 images_007.tar.gz  \n",
    "-rw-r--r-- 1 1000 users __4018347353__ Sep 26 19:05 images_008.tar.gz  \n",
    "-rw-r--r-- 1 1000 users __4111327929__ Sep 26 19:05 images_009.tar.gz  \n",
    "-rw-r--r-- 1 1000 users __4181556296__ Sep 26 19:05 images_010.tar.gz  \n",
    "-rw-r--r-- 1 1000 users __4187084020__ Sep 26 19:05 images_011.tar.gz  \n",
    "-rw-r--r-- 1 1000 users __2914187733__ Sep 26 17:21 images_012.tar.gz  \n",
    "  \n",
    "If the unzipping process below does not end up with __112120__ .png images, you may need to repeat the download process for the above 12 .tar.gz files."
   ]
  },
  {
   "cell_type": "markdown",
   "metadata": {},
   "source": [
    "The uncompressiing process below will run for several minutes.\n",
    "\n",
    "While it runs, you can monitor the progress by ssh-ing \n",
    "into your compute context machine and running:   \n",
    "find /data_dir/chestxray/ChestX-ray8/ChestXray-NIHCC/images  -type f | wc -l  \n",
    "\n",
    "The final number of images is:  \n",
    "__112120__  \n",
    "\n"
   ]
  },
  {
   "cell_type": "code",
   "execution_count": 12,
   "metadata": {},
   "outputs": [],
   "source": [
    "if copy_NIH_compressed_data_FLAG:\n",
    "    print(nih_chest_xray_data_dir)\n",
    "    print(tmp_dir)\n",
    "    !ls -l $tmp_dir\n",
    "    # !find $nih_chest_xray_data_dir -type f | wc -l\n",
    "\n",
    "    old_crt_dir = os.getcwd()\n",
    "    os.chdir(nih_chest_xray_data_dir)\n",
    "    !pwd    \n",
    "    !ls -l $tmp_dir/*.tar.gz \n",
    "    allImages = ! cat $tmp_dir/*.tar.gz | tar -zxf - -i\n",
    "    # !for file in $tmp_dir/*.tar.gz; do tar -zxf $file; done\n",
    "    os.chdir(old_crt_dir)\n",
    "    !pwd"
   ]
  },
  {
   "cell_type": "markdown",
   "metadata": {},
   "source": [
    "##### Download uncomressed data (112120 .png images like 00000001_000.png) to local host dir"
   ]
  },
  {
   "cell_type": "code",
   "execution_count": 13,
   "metadata": {},
   "outputs": [
    {
     "name": "stdout",
     "output_type": "stream",
     "text": [
      "\u001b[?1h\u001b=\u001b[6nFinished: 0 file(s), 0 B; Average Speed:0 B/s.                                 \u001b[6n\u001b[1;1H\u001b[6nFinished: 0 file(s), 0 B; Average Speed:0 B/s.                                 \u001b[6n\u001b[1;1H\u001b[6nFinished: 0 file(s), 0 B; Average Speed:0 B/s.                                 \u001b[6n\u001b[1;1H\u001b[6nFinished: 0 file(s), 0 B; Average Speed:0 B/s.                                 \u001b[6n\u001b[1;1H\u001b[6nFinished: 0 file(s), 361.92 KB; Average Speed:39.03 KB/s.                      \u001b[6n\u001b[1;1H\u001b[6nFinished: 1932 file(s), 748.54 MB; Average Speed:66.06 MB/s.                   \u001b[6n\u001b[1;1H\u001b[6nFinished: 3926 file(s), 1.476 GB; Average Speed:113 MB/s.                      \u001b[6n\u001b[1;1H\u001b[6nFinished: 5990 file(s), 2.239 GB; Average Speed:148.64 MB/s.                   \u001b[6n\u001b[1;1H\u001b[6nFinished: 8147 file(s), 3.027 GB; Average Speed:177.39 MB/s.                   \u001b[6n\u001b[1;1H\u001b[6nFinished: 10207 file(s), 3.788 GB; Average Speed:198.66 MB/s.                  \u001b[6n\u001b[1;1H\u001b[6nFinished: 12362 file(s), 4.585 GB; Average Speed:217.74 MB/s.                  \u001b[6n\u001b[1;1H\u001b[6nFinished: 14498 file(s), 5.365 GB; Average Speed:232.67 MB/s.                  \u001b[6n\u001b[1;1H\u001b[6nFinished: 16475 file(s), 6.086 GB; Average Speed:242.88 MB/s.                  \u001b[6n\u001b[1;1H\u001b[6nFinished: 18604 file(s), 6.871 GB; Average Speed:253.87 MB/s.                  \u001b[6n\u001b[1;1H\u001b[6nFinished: 20741 file(s), 7.655 GB; Average Speed:263.34 MB/s.                  \u001b[6n\u001b[1;1H\u001b[6nFinished: 22753 file(s), 8.393 GB; Average Speed:270.2 MB/s.                   \u001b[6n\u001b[1;1H\u001b[6nFinished: 24682 file(s), 9.094 GB; Average Speed:275.07 MB/s.                  \u001b[6n\u001b[1;1H\u001b[6nFinished: 26777 file(s), 9.85 GB; Average Speed:280.92 MB/s.                   \u001b[6n\u001b[1;1H\u001b[6nFinished: 28897 file(s), 10.617 GB; Average Speed:286.48 MB/s.                 \u001b[6n\u001b[1;1H\u001b[6nFinished: 30791 file(s), 11.293 GB; Average Speed:289.11 MB/s.                 \u001b[6n\u001b[1;1H\u001b[6nFinished: 32001 file(s), 11.721 GB; Average Speed:285.43 MB/s.                 \u001b[6n\u001b[1;1H\u001b[6nFinished: 32998 file(s), 12.073 GB; Average Speed:280.4 MB/s.                  \u001b[6n\u001b[1;1H\u001b[6nFinished: 33129 file(s), 12.122 GB; Average Speed:269.02 MB/s.                 \u001b[6n\u001b[1;1H\u001b[6nFinished: 34468 file(s), 12.595 GB; Average Speed:267.65 MB/s.                 \u001b[6n\u001b[1;1H\u001b[6nFinished: 35538 file(s), 12.972 GB; Average Speed:264.41 MB/s.                 \u001b[6n\u001b[1;1H\u001b[6nFinished: 36432 file(s), 13.29 GB; Average Speed:260.27 MB/s.                  \u001b[6n\u001b[1;1H\u001b[6nFinished: 37359 file(s), 13.624 GB; Average Speed:256.79 MB/s.                 \u001b[6n\u001b[1;1H\u001b[6nFinished: 38076 file(s), 13.884 GB; Average Speed:252.18 MB/s.                 \u001b[6n\u001b[1;1H\u001b[6nFinished: 39221 file(s), 14.302 GB; Average Speed:250.65 MB/s.                 \u001b[6n\u001b[1;1H\u001b[6nFinished: 40117 file(s), 14.632 GB; Average Speed:247.76 MB/s.                 \u001b[6n\u001b[1;1H\u001b[6nFinished: 41442 file(s), 15.133 GB; Average Speed:247.85 MB/s.                 \u001b[6n\u001b[1;1H\u001b[6nFinished: 43592 file(s), 15.93 GB; Average Speed:252.61 MB/s.                  \u001b[6n\u001b[1;1H\u001b[6nFinished: 44264 file(s), 16.177 GB; Average Speed:248.64 MB/s.                 \u001b[6n\u001b[1;1H\u001b[6nFinished: 44935 file(s), 16.427 GB; Average Speed:244.97 MB/s.                 \u001b[6n\u001b[1;1H\u001b[6nFinished: 45862 file(s), 16.764 GB; Average Speed:242.75 MB/s.                 \u001b[6n\u001b[1;1H\u001b[6nFinished: 46425 file(s), 16.979 GB; Average Speed:238.94 MB/s.                 \u001b[6n\u001b[1;1H\u001b[6nFinished: 47122 file(s), 17.234 GB; Average Speed:235.89 MB/s.                 \u001b[6n\u001b[1;1H\u001b[6nFinished: 48131 file(s), 17.609 GB; Average Speed:234.61 MB/s.                 \u001b[6n\u001b[1;1H\u001b[6nFinished: 49033 file(s), 17.948 GB; Average Speed:232.9 MB/s.                  \u001b[6n\u001b[1;1H\u001b[6nFinished: 49717 file(s), 18.205 GB; Average Speed:230.27 MB/s.                 \u001b[6n\u001b[1;1H\u001b[6nFinished: 50036 file(s), 18.321 GB; Average Speed:226.03 MB/s.                 \u001b[6n\u001b[1;1H\u001b[6nFinished: 50529 file(s), 18.508 GB; Average Speed:222.81 MB/s.                 \u001b[6n\u001b[1;1H\u001b[6nFinished: 51384 file(s), 18.826 GB; Average Speed:221.34 MB/s.                 \u001b[6n\u001b[1;1H\u001b[6nFinished: 52012 file(s), 19.06 GB; Average Speed:218.94 MB/s.                  \u001b[6n\u001b[1;1H\u001b[6nFinished: 52347 file(s), 19.187 GB; Average Speed:215.44 MB/s.                 \u001b[6n\u001b[1;1H\u001b[6nFinished: 52608 file(s), 19.279 GB; Average Speed:211.72 MB/s.                 \u001b[6n\u001b[1;1H\u001b[6nFinished: 53147 file(s), 19.479 GB; Average Speed:209.32 MB/s.                 \u001b[6n\u001b[1;1H\u001b[6nFinished: 54059 file(s), 19.812 GB; Average Speed:208.41 MB/s.                 \u001b[6n\u001b[1;1H\u001b[6nFinished: 54251 file(s), 19.882 GB; Average Speed:204.84 MB/s.                 \u001b[6n\u001b[1;1H\u001b[6nFinished: 54927 file(s), 20.13 GB; Average Speed:203.2 MB/s.                   \u001b[6n\u001b[1;1H\u001b[6nFinished: 55169 file(s), 20.219 GB; Average Speed:200.07 MB/s.                 \u001b[6n\u001b[1;1H\u001b[6nFinished: 55607 file(s), 20.384 GB; Average Speed:197.79 MB/s.                 \u001b[6n\u001b[1;1H\u001b[6nFinished: 55890 file(s), 20.491 GB; Average Speed:195.04 MB/s.                 \u001b[6n\u001b[1;1H\u001b[6nFinished: 56815 file(s), 20.832 GB; Average Speed:194.58 MB/s.                 \u001b[6n\u001b[1;1H\u001b[6nFinished: 57789 file(s), 21.195 GB; Average Speed:194.35 MB/s.                 \u001b[6n\u001b[1;1H\u001b[6nFinished: 58147 file(s), 21.328 GB; Average Speed:192.04 MB/s.                 \u001b[6n\u001b[1;1H\u001b[6nFinished: 58332 file(s), 21.398 GB; Average Speed:189.26 MB/s.                 \u001b[6n\u001b[1;1H\u001b[6nFinished: 58547 file(s), 21.48 GB; Average Speed:186.68 MB/s.                  \u001b[6n\u001b[1;1H\u001b[6nFinished: 58780 file(s), 21.569 GB; Average Speed:184.26 MB/s.                 \u001b[6n\u001b[1;1H\u001b[6nFinished: 59058 file(s), 21.674 GB; Average Speed:182.05 MB/s.                 \u001b[6n\u001b[1;1H\u001b[6nFinished: 59391 file(s), 21.799 GB; Average Speed:180.07 MB/s.                 \u001b[6n\u001b[1;1H\u001b[6nFinished: 59715 file(s), 21.923 GB; Average Speed:178.15 MB/s.                 \u001b[6n\u001b[1;1H\u001b[6nFinished: 60023 file(s), 22.039 GB; Average Speed:176.23 MB/s.                 \u001b[6n\u001b[1;1H\u001b[6nFinished: 60290 file(s), 22.138 GB; Average Speed:174.24 MB/s.                 \u001b[6n\u001b[1;1H\u001b[6nFinished: 60511 file(s), 22.222 GB; Average Speed:172.18 MB/s.                 \u001b[6n\u001b[1;1H\u001b[6nFinished: 60669 file(s), 22.281 GB; Average Speed:170.01 MB/s.                 \u001b[6n\u001b[1;1H\u001b[6nFinished: 60816 file(s), 22.335 GB; Average Speed:167.86 MB/s.                 \u001b[6n\u001b[1;1H\u001b[6nFinished: 60945 file(s), 22.382 GB; Average Speed:165.72 MB/s.                 \u001b[6n\u001b[1;1H\u001b[6nFinished: 61070 file(s), 22.429 GB; Average Speed:163.65 MB/s.                 \u001b[6n\u001b[1;1H\u001b[6nFinished: 61200 file(s), 22.478 GB; Average Speed:161.64 MB/s.                 \u001b[6n\u001b[1;1H\u001b[6nFinished: 61288 file(s), 22.512 GB; Average Speed:159.59 MB/s.                 \u001b[6n\u001b[1;1H\u001b[6nFinished: 61395 file(s), 22.551 GB; Average Speed:157.63 MB/s.                 \u001b[6n\u001b[1;1H\u001b[6nFinished: 61546 file(s), 22.607 GB; Average Speed:155.85 MB/s.                 \u001b[6n\u001b[1;1H\u001b[6nFinished: 61699 file(s), 22.665 GB; Average Speed:154.12 MB/s.                 \u001b[6n\u001b[1;1H\u001b[6nFinished: 61858 file(s), 22.731 GB; Average Speed:152.5 MB/s.                  \u001b[6n\u001b[1;1H\u001b[6nFinished: 62106 file(s), 22.818 GB; Average Speed:151.06 MB/s.                 \u001b[6n\u001b[1;1H\u001b[6nFinished: 62358 file(s), 22.911 GB; Average Speed:149.69 MB/s.                 \u001b[6n\u001b[1;1H\u001b[6nFinished: 62635 file(s), 23.014 GB; Average Speed:148.42 MB/s.                 \u001b[6n\u001b[1;1H\u001b[6nFinished: 63006 file(s), 23.159 GB; Average Speed:147.46 MB/s.                 \u001b[6n\u001b[1;1H\u001b[6nFinished: 63378 file(s), 23.29 GB; Average Speed:146.42 MB/s.                  \u001b[6n\u001b[1;1H\u001b[6nFinished: 63697 file(s), 23.412 GB; Average Speed:145.36 MB/s.                 \u001b[6n\u001b[1;1H\u001b[6nFinished: 64034 file(s), 23.532 GB; Average Speed:144.32 MB/s.                 \u001b[6n\u001b[1;1H\u001b[6nFinished: 64333 file(s), 23.645 GB; Average Speed:143.25 MB/s.                 \u001b[6n\u001b[1;1H\u001b[6nFinished: 64656 file(s), 23.764 GB; Average Speed:142.25 MB/s.                 \u001b[6n\u001b[1;1H\u001b[6nFinished: 65066 file(s), 23.92 GB; Average Speed:141.49 MB/s.                  \u001b[6n\u001b[1;1H\u001b[6nFinished: 65528 file(s), 24.094 GB; Average Speed:140.85 MB/s.                 \u001b[6n\u001b[1;1H\u001b[6nFinished: 65994 file(s), 24.269 GB; Average Speed:140.23 MB/s.                 \u001b[6n\u001b[1;1H\u001b[6nFinished: 66322 file(s), 24.392 GB; Average Speed:139.34 MB/s.                 \u001b[6n\u001b[1;1H\u001b[6n"
     ]
    },
    {
     "name": "stdout",
     "output_type": "stream",
     "text": [
      "Finished: 66719 file(s), 24.539 GB; Average Speed:138.59 MB/s.                 \u001b[6n\u001b[1;1H\u001b[6nFinished: 67350 file(s), 24.776 GB; Average Speed:138.37 MB/s.                 \u001b[6n\u001b[1;1H\u001b[6nFinished: 67920 file(s), 24.988 GB; Average Speed:138.01 MB/s.                 \u001b[6n\u001b[1;1H\u001b[6nFinished: 68276 file(s), 25.121 GB; Average Speed:137.23 MB/s.                 \u001b[6n\u001b[1;1H\u001b[6nFinished: 68609 file(s), 25.246 GB; Average Speed:136.42 MB/s.                 \u001b[6n\u001b[1;1H\u001b[6nFinished: 69037 file(s), 25.407 GB; Average Speed:135.83 MB/s.                 \u001b[6n\u001b[1;1H\u001b[6nFinished: 69286 file(s), 25.503 GB; Average Speed:134.89 MB/s.                 \u001b[6n\u001b[1;1H\u001b[6nFinished: 69819 file(s), 25.702 GB; Average Speed:134.52 MB/s.                 \u001b[6n\u001b[1;1H\u001b[6nFinished: 70318 file(s), 25.89 GB; Average Speed:134.1 MB/s.                   \u001b[6n\u001b[1;1H\u001b[6nFinished: 70690 file(s), 26.028 GB; Average Speed:133.43 MB/s.                 \u001b[6n\u001b[1;1H\u001b[6nFinished: 71106 file(s), 26.18 GB; Average Speed:132.85 MB/s.                  \u001b[6n\u001b[1;1H\u001b[6nFinished: 71430 file(s), 26.301 GB; Average Speed:132.13 MB/s.                 \u001b[6n\u001b[1;1H\u001b[6nFinished: 71813 file(s), 26.445 GB; Average Speed:131.53 MB/s.                 \u001b[6n\u001b[1;1H\u001b[6nFinished: 72165 file(s), 26.582 GB; Average Speed:130.9 MB/s.                  \u001b[6n\u001b[1;1H\u001b[6nFinished: 72585 file(s), 26.737 GB; Average Speed:130.39 MB/s.                 \u001b[6n\u001b[1;1H\u001b[6nFinished: 72889 file(s), 26.849 GB; Average Speed:129.67 MB/s.                 \u001b[6n\u001b[1;1H\u001b[6nFinished: 73424 file(s), 27.05 GB; Average Speed:129.39 MB/s.                  \u001b[6n\u001b[1;1H\u001b[6nFinished: 73985 file(s), 27.259 GB; Average Speed:129.15 MB/s.                 \u001b[6n\u001b[1;1H\u001b[6nFinished: 74232 file(s), 27.351 GB; Average Speed:128.37 MB/s.                 \u001b[6n\u001b[1;1H\u001b[6nFinished: 74948 file(s), 27.616 GB; Average Speed:128.41 MB/s.                 \u001b[6n\u001b[1;1H\u001b[6nFinished: 75577 file(s), 27.854 GB; Average Speed:128.33 MB/s.                 \u001b[6n\u001b[1;1H\u001b[6nFinished: 75822 file(s), 27.945 GB; Average Speed:127.57 MB/s.                 \u001b[6n\u001b[1;1H\u001b[6nFinished: 76262 file(s), 28.111 GB; Average Speed:127.17 MB/s.                 \u001b[6n\u001b[1;1H\u001b[6nFinished: 76684 file(s), 28.27 GB; Average Speed:126.74 MB/s.                  \u001b[6n\u001b[1;1H\u001b[6nFinished: 76888 file(s), 28.347 GB; Average Speed:125.95 MB/s.                 \u001b[6n\u001b[1;1H\u001b[6nFinished: 77367 file(s), 28.522 GB; Average Speed:125.62 MB/s.                 \u001b[6n\u001b[1;1H\u001b[6nFinished: 77790 file(s), 28.685 GB; Average Speed:125.23 MB/s.                 \u001b[6n\u001b[1;1H\u001b[6nFinished: 78225 file(s), 28.853 GB; Average Speed:124.88 MB/s.                 \u001b[6n\u001b[1;1H\u001b[6nFinished: 78645 file(s), 29.014 GB; Average Speed:124.49 MB/s.                 \u001b[6n\u001b[1;1H\u001b[6nFinished: 78911 file(s), 29.114 GB; Average Speed:123.86 MB/s.                 \u001b[6n\u001b[1;1H\u001b[6nFinished: 79474 file(s), 29.332 GB; Average Speed:123.73 MB/s.                 \u001b[6n\u001b[1;1H\u001b[6nFinished: 80014 file(s), 29.532 GB; Average Speed:123.54 MB/s.                 \u001b[6n\u001b[1;1H\u001b[6nFinished: 80500 file(s), 29.719 GB; Average Speed:123.28 MB/s.                 \u001b[6n\u001b[1;1H\u001b[6nFinished: 80769 file(s), 29.823 GB; Average Speed:122.7 MB/s.                  \u001b[6n\u001b[1;1H\u001b[6nFinished: 81241 file(s), 30.003 GB; Average Speed:122.43 MB/s.                 \u001b[6n\u001b[1;1H\u001b[6nFinished: 81503 file(s), 30.101 GB; Average Speed:121.84 MB/s.                 \u001b[6n\u001b[1;1H\u001b[6nFinished: 82042 file(s), 30.31 GB; Average Speed:121.69 MB/s.                  \u001b[6n\u001b[1;1H\u001b[6nFinished: 82187 file(s), 30.366 GB; Average Speed:120.95 MB/s.                 \u001b[6n\u001b[1;1H\u001b[6nFinished: 82567 file(s), 30.512 GB; Average Speed:120.57 MB/s.                 \u001b[6n\u001b[1;1H\u001b[6nFinished: 82887 file(s), 30.635 GB; Average Speed:120.11 MB/s.                 \u001b[6n\u001b[1;1H\u001b[6nFinished: 83164 file(s), 30.743 GB; Average Speed:119.59 MB/s.                 \u001b[6n\u001b[1;1H\u001b[6nFinished: 83433 file(s), 30.848 GB; Average Speed:119.08 MB/s.                 \u001b[6n\u001b[1;1H\u001b[6nFinished: 83780 file(s), 30.982 GB; Average Speed:118.68 MB/s.                 \u001b[6n\u001b[1;1H\u001b[6nFinished: 84154 file(s), 31.129 GB; Average Speed:118.33 MB/s.                 \u001b[6n\u001b[1;1H\u001b[6nFinished: 84619 file(s), 31.311 GB; Average Speed:118.13 MB/s.                 \u001b[6n\u001b[1;1H\u001b[6nFinished: 84908 file(s), 31.425 GB; Average Speed:117.67 MB/s.                 \u001b[6n\u001b[1;1H\u001b[6nFinished: 85192 file(s), 31.538 GB; Average Speed:117.21 MB/s.                 \u001b[6n\u001b[1;1H\u001b[6nFinished: 85710 file(s), 31.741 GB; Average Speed:117.1 MB/s.                  \u001b[6n\u001b[1;1H\u001b[6nFinished: 86307 file(s), 31.972 GB; Average Speed:117.09 MB/s.                 \u001b[6n\u001b[1;1H\u001b[6nFinished: 86801 file(s), 32.167 GB; Average Speed:116.95 MB/s.                 \u001b[6n\u001b[1;1H\u001b[6nFinished: 87058 file(s), 32.266 GB; Average Speed:116.46 MB/s.                 \u001b[6n\u001b[1;1H\u001b[6nFinished: 87438 file(s), 32.414 GB; Average Speed:116.16 MB/s.                 \u001b[6n\u001b[1;1H\u001b[6nFinished: 87778 file(s), 32.547 GB; Average Speed:115.8 MB/s.                  \u001b[6n\u001b[1;1H\u001b[6nFinished: 88123 file(s), 32.681 GB; Average Speed:115.46 MB/s.                 \u001b[6n\u001b[1;1H\u001b[6nFinished: 88477 file(s), 32.818 GB; Average Speed:115.13 MB/s.                 \u001b[6n\u001b[1;1H\u001b[6nFinished: 88836 file(s), 32.957 GB; Average Speed:114.81 MB/s.                 \u001b[6n\u001b[1;1H\u001b[6nFinished: 89123 file(s), 33.07 GB; Average Speed:114.41 MB/s.                  \u001b[6n\u001b[1;1H\u001b[6nFinished: 89742 file(s), 33.312 GB; Average Speed:114.45 MB/s.                 \u001b[6n\u001b[1;1H\u001b[6nFinished: 89956 file(s), 33.396 GB; Average Speed:113.96 MB/s.                 \u001b[6n\u001b[1;1H\u001b[6nFinished: 90444 file(s), 33.587 GB; Average Speed:113.83 MB/s.                 \u001b[6n\u001b[1;1H\u001b[6nFinished: 91017 file(s), 33.813 GB; Average Speed:113.83 MB/s.                 \u001b[6n\u001b[1;1H\u001b[6nFinished: 91444 file(s), 33.975 GB; Average Speed:113.61 MB/s.                 \u001b[6n\u001b[1;1H\u001b[6nFinished: 91844 file(s), 34.131 GB; Average Speed:113.37 MB/s.                 \u001b[6n\u001b[1;1H\u001b[6nFinished: 92165 file(s), 34.256 GB; Average Speed:113.04 MB/s.                 \u001b[6n\u001b[1;1H\u001b[6nFinished: 92399 file(s), 34.349 GB; Average Speed:112.6 MB/s.                  \u001b[6n\u001b[1;1H\u001b[6nFinished: 92633 file(s), 34.442 GB; Average Speed:112.17 MB/s.                 \u001b[6n\u001b[1;1H\u001b[6nFinished: 92888 file(s), 34.541 GB; Average Speed:111.76 MB/s.                 \u001b[6n\u001b[1;1H\u001b[6nFinished: 93171 file(s), 34.652 GB; Average Speed:111.4 MB/s.                  \u001b[6n\u001b[1;1H\u001b[6nFinished: 93528 file(s), 34.787 GB; Average Speed:111.12 MB/s.                 \u001b[6n\u001b[1;1H\u001b[6nFinished: 93916 file(s), 34.932 GB; Average Speed:110.87 MB/s.                 \u001b[6n\u001b[1;1H\u001b[6nFinished: 94302 file(s), 35.082 GB; Average Speed:110.65 MB/s.                 \u001b[6n\u001b[1;1H\u001b[6nFinished: 94699 file(s), 35.237 GB; Average Speed:110.44 MB/s.                 \u001b[6n\u001b[1;1H\u001b[6nFinished: 95073 file(s), 35.383 GB; Average Speed:110.21 MB/s.                 \u001b[6n\u001b[1;1H\u001b[6nFinished: 95447 file(s), 35.528 GB; Average Speed:109.97 MB/s.                 \u001b[6n\u001b[1;1H\u001b[6nFinished: 95721 file(s), 35.637 GB; Average Speed:109.63 MB/s.                 \u001b[6n\u001b[1;1H\u001b[6nFinished: 96051 file(s), 35.768 GB; Average Speed:109.36 MB/s.                 \u001b[6n\u001b[1;1H\u001b[6nFinished: 96328 file(s), 35.876 GB; Average Speed:109.03 MB/s.                 \u001b[6n\u001b[1;1H\u001b[6nFinished: 96647 file(s), 36.002 GB; Average Speed:108.75 MB/s.                 \u001b[6n\u001b[1;1H\u001b[6nFinished: 97066 file(s), 36.165 GB; Average Speed:108.59 MB/s.                 \u001b[6n\u001b[1;1H\u001b[6nFinished: 97464 file(s), 36.322 GB; Average Speed:108.4 MB/s.                  \u001b[6n\u001b[1;1H\u001b[6nFinished: 97855 file(s), 36.478 GB; Average Speed:108.22 MB/s.                 \u001b[6n\u001b[1;1H\u001b[6nFinished: 98266 file(s), 36.637 GB; Average Speed:108.06 MB/s.                 \u001b[6n\u001b[1;1H\u001b[6nFinished: 98596 file(s), 36.767 GB; Average Speed:107.8 MB/s.                  \u001b[6n\u001b[1;1H\u001b[6nFinished: 98866 file(s), 36.872 GB; Average Speed:107.48 MB/s.                 \u001b[6n\u001b[1;1H\u001b[6nFinished: 99191 file(s), 36.998 GB; Average Speed:107.22 MB/s.                 \u001b[6n\u001b[1;1H\u001b[6nFinished: 99556 file(s), 37.14 GB; Average Speed:107.01 MB/s.                  \u001b[6n\u001b[1;1H\u001b[6nFinished: 99898 file(s), 37.273 GB; Average Speed:106.78 MB/s.                 \u001b[6n\u001b[1;1H\u001b[6nFinished: 100332 file(s), 37.441 GB; Average Speed:106.65 MB/s.                \u001b[6n\u001b[1;1H\u001b[6nFinished: 100718 file(s), 37.591 GB; Average Speed:106.47 MB/s.                \u001b[6n"
     ]
    },
    {
     "name": "stdout",
     "output_type": "stream",
     "text": [
      "\u001b[1;1H\u001b[6nFinished: 101175 file(s), 37.77 GB; Average Speed:106.38 MB/s.                 \u001b[6n\u001b[1;1H\u001b[6nFinished: 101504 file(s), 37.899 GB; Average Speed:106.14 MB/s.                \u001b[6n\u001b[1;1H\u001b[6nFinished: 101907 file(s), 38.054 GB; Average Speed:105.98 MB/s.                \u001b[6n\u001b[1;1H\u001b[6nFinished: 102304 file(s), 38.208 GB; Average Speed:105.82 MB/s.                \u001b[6n\u001b[1;1H\u001b[6nFinished: 102676 file(s), 38.354 GB; Average Speed:105.64 MB/s.                \u001b[6n\u001b[1;1H\u001b[6nFinished: 103084 file(s), 38.508 GB; Average Speed:105.48 MB/s.                \u001b[6n\u001b[1;1H\u001b[6nFinished: 103486 file(s), 38.664 GB; Average Speed:105.34 MB/s.                \u001b[6n\u001b[1;1H\u001b[6nFinished: 103662 file(s), 38.732 GB; Average Speed:104.95 MB/s.                \u001b[6n\u001b[1;1H\u001b[6nFinished: 104206 file(s), 38.943 GB; Average Speed:104.95 MB/s.                \u001b[6n\u001b[1;1H\u001b[6nFinished: 104684 file(s), 39.129 GB; Average Speed:104.89 MB/s.                \u001b[6n\u001b[1;1H\u001b[6nFinished: 105165 file(s), 39.315 GB; Average Speed:104.82 MB/s.                \u001b[6n\u001b[1;1H\u001b[6nFinished: 105600 file(s), 39.48 GB; Average Speed:104.7 MB/s.                  \u001b[6n\u001b[1;1H\u001b[6nFinished: 105979 file(s), 39.622 GB; Average Speed:104.53 MB/s.                \u001b[6n\u001b[1;1H\u001b[6nFinished: 106314 file(s), 39.749 GB; Average Speed:104.31 MB/s.                \u001b[6n\u001b[1;1H\u001b[6nFinished: 106690 file(s), 39.893 GB; Average Speed:104.14 MB/s.                \u001b[6n\u001b[1;1H\u001b[6nFinished: 107070 file(s), 40.038 GB; Average Speed:103.98 MB/s.                \u001b[6n\u001b[1;1H\u001b[6nFinished: 107425 file(s), 40.175 GB; Average Speed:103.79 MB/s.                \u001b[6n\u001b[1;1H\u001b[6nFinished: 107818 file(s), 40.326 GB; Average Speed:103.65 MB/s.                \u001b[6n\u001b[1;1H\u001b[6nFinished: 108258 file(s), 40.493 GB; Average Speed:103.55 MB/s.                \u001b[6n\u001b[1;1H\u001b[6nFinished: 108605 file(s), 40.626 GB; Average Speed:103.36 MB/s.                \u001b[6n\u001b[1;1H\u001b[6nFinished: 109001 file(s), 40.778 GB; Average Speed:103.22 MB/s.                \u001b[6n\u001b[1;1H\u001b[6nFinished: 109451 file(s), 40.949 GB; Average Speed:103.13 MB/s.                \u001b[6n\u001b[1;1H\u001b[6nFinished: 109722 file(s), 41.053 GB; Average Speed:102.88 MB/s.                \u001b[6n\u001b[1;1H\u001b[6nFinished: 110237 file(s), 41.25 GB; Average Speed:102.85 MB/s.                 \u001b[6n\u001b[1;1H\u001b[6nFinished: 110661 file(s), 41.411 GB; Average Speed:102.74 MB/s.                \u001b[6n\u001b[1;1H\u001b[6nFinished: 110991 file(s), 41.536 GB; Average Speed:102.54 MB/s.                \u001b[6n\u001b[1;1H\u001b[6nFinished: 111357 file(s), 41.676 GB; Average Speed:102.38 MB/s.                \u001b[6n\u001b[1;1H\u001b[6nFinished: 111745 file(s), 41.821 GB; Average Speed:102.24 MB/s.                \u001b[6n\u001b[1;1H\u001b[6nFinished: 112108 file(s), 41.958 GB; Average Speed:102.07 MB/s.                \u001b[6n\u001b[1;1H\u001b[6nFinished: 112120 file(s), 41.963 GB; Average Speed:101.59 MB/s.                \u001b[6n\u001b[1;1H\u001b[6n                                                                               \u001b[6n\u001b[1;1HFinished 112120 of total 112120 file(s).\n",
      "\u001b[6n                                                                               \u001b[6n\u001b[1;1H[2019/11/17 21:19:59] Transfer summary:\n",
      "-----------------\n",
      "Total files transferred: 112120\n",
      "Transfer successfully:   112120\n",
      "Transfer skipped:        0\n",
      "Transfer failed:         0\n",
      "Elapsed time:            00.00:07:07\n"
     ]
    }
   ],
   "source": [
    "if not copy_NIH_compressed_data_FLAG:\n",
    "    source_container = 'https://'+os.getenv('sa_name')+'.blob.core.windows.net/'+os.getenv('sa_container_name_images')\n",
    "    dest_local_dir = os.path.join(nih_chest_xray_data_dir, 'images')\n",
    "\n",
    "    !azcopy --quiet \\\n",
    "        --source {source_container}  \\\n",
    "        --destination {dest_local_dir} \\\n",
    "        --source-key {storage_account_key} \\\n",
    "        --recursive"
   ]
  },
  {
   "cell_type": "code",
   "execution_count": 14,
   "metadata": {},
   "outputs": [
    {
     "name": "stdout",
     "output_type": "stream",
     "text": [
      "[NbConvertApp] Converting notebook 001_get_data_B.ipynb to html\n",
      "[NbConvertApp] Writing 291207 bytes to 001_get_data_B.html\n"
     ]
    }
   ],
   "source": [
    " \n",
    "!jupyter nbconvert --to html 001_get_data_B.ipynb"
   ]
  },
  {
   "cell_type": "code",
   "execution_count": null,
   "metadata": {},
   "outputs": [],
   "source": []
  }
 ],
 "metadata": {
  "kernelspec": {
   "display_name": "Python [default]",
   "language": "python",
   "name": "python3"
  },
  "language_info": {
   "codemirror_mode": {
    "name": "ipython",
    "version": 3
   },
   "file_extension": ".py",
   "mimetype": "text/x-python",
   "name": "python",
   "nbconvert_exporter": "python",
   "pygments_lexer": "ipython3",
   "version": "3.5.5"
  }
 },
 "nbformat": 4,
 "nbformat_minor": 2
}
