{
 "cells": [
  {
   "cell_type": "markdown",
   "metadata": {},
   "source": [
    "##### Copyright (C) Microsoft Corporation.  \n",
    "see license file for details \n",
    "\n",
    "\n",
    "## Copies data from blob to local host\n",
    "\n",
    "\n",
    "downloads to local disk data from Azure Data Storage containers (see in cell below the local and Azure storage containers structure)"
   ]
  },
  {
   "cell_type": "code",
   "execution_count": 1,
   "metadata": {},
   "outputs": [],
   "source": [
    "# Local data structure:\n",
    "#     /data_dir/chestxray/ChestX-ray8/  \n",
    "#         BBox_List_2017.csv         \n",
    "#         Data_Entry_2017.csv  \n",
    "#         blacklist.csv\n",
    "#         ChestXray-NIHCC/  \n",
    "#             /tmp/  \n",
    "#                 images_01.tar.gz    \n",
    "#                 images_03.tar.gz    \n",
    "#                 images_05.tar.gz   \n",
    "#                 images_07.tar.gz   \n",
    "#                 images_09.tar.gz   \n",
    "#                 images_11.tar.gz  \n",
    "#                 images_02.tar.gz   \n",
    "#                 images_04.tar.gz   \n",
    "#                 images_06.tar.gz   \n",
    "#                 images_08.tar.gz   \n",
    "#                 images_10.tar.gz   \n",
    "#                 images_12.tar.gz\n",
    "#             /images/\n",
    "#                   00000001_000.png\n",
    "#                   00000001_001.png\n",
    "#                   ... 112120 png images\n",
    "# \n",
    "#    Azure Data Storage container structure:\n",
    "#       container nihchestxrayimages\n",
    "#                   00000001_000.png\n",
    "#                   00000001_001.png\n",
    "#                   ... 112120 png image files, total 41.96 GiB\n",
    "#       container nihchestxraydatacompressed:\n",
    "#                   images_01.tar.gz\n",
    "#                   ... 12 files, total 41.98 GiB\n",
    "#       container nihchestxraydata\n",
    "#                   BBox_List_2017.csv\n",
    "#                   blacklist.csv\n",
    "#                   Data_Entry_2017.csv"
   ]
  },
  {
   "cell_type": "code",
   "execution_count": 2,
   "metadata": {},
   "outputs": [],
   "source": [
    "# Allow multiple displays per cell\n",
    "\n",
    "from IPython.core.interactiveshell import InteractiveShell\n",
    "InteractiveShell.ast_node_interactivity = \"all\" "
   ]
  },
  {
   "cell_type": "code",
   "execution_count": 3,
   "metadata": {},
   "outputs": [],
   "source": [
    "%load_ext autoreload\n",
    "%autoreload 2"
   ]
  },
  {
   "cell_type": "code",
   "execution_count": 4,
   "metadata": {},
   "outputs": [],
   "source": [
    "%reload_ext dotenv\n",
    "dotenv_file_path='./../not_shared/general.env'"
   ]
  },
  {
   "cell_type": "code",
   "execution_count": 5,
   "metadata": {},
   "outputs": [],
   "source": [
    "import os, platform\n",
    "import sys\n",
    "import urllib.request"
   ]
  },
  {
   "cell_type": "code",
   "execution_count": 6,
   "metadata": {},
   "outputs": [
    {
     "data": {
      "text/plain": [
       "'Linux-4.15.0-1063-azure-x86_64-with-debian-stretch-sid'"
      ]
     },
     "execution_count": 6,
     "metadata": {},
     "output_type": "execute_result"
    },
    {
     "data": {
      "text/plain": [
       "'/datadrive01/prj/AzureChestXRayNoAML/code/01_DataPrep'"
      ]
     },
     "execution_count": 6,
     "metadata": {},
     "output_type": "execute_result"
    }
   ],
   "source": [
    "platform.platform()\n",
    "os.getcwd()"
   ]
  },
  {
   "cell_type": "code",
   "execution_count": 7,
   "metadata": {},
   "outputs": [
    {
     "data": {
      "text/plain": [
       "['/datadrive01/prj/AzureChestXRayNoAML/code/01_DataPrep/../src']"
      ]
     },
     "execution_count": 7,
     "metadata": {},
     "output_type": "execute_result"
    },
    {
     "data": {
      "text/plain": [
       "[None]"
      ]
     },
     "execution_count": 7,
     "metadata": {},
     "output_type": "execute_result"
    },
    {
     "name": "stderr",
     "output_type": "stream",
     "text": [
      "/data/anaconda/envs/py35/lib/python3.5/importlib/_bootstrap.py:222: RuntimeWarning: numpy.dtype size changed, may indicate binary incompatibility. Expected 96, got 88\n",
      "  return f(*args, **kwds)\n",
      "/data/anaconda/envs/py35/lib/python3.5/importlib/_bootstrap.py:222: RuntimeWarning: numpy.dtype size changed, may indicate binary incompatibility. Expected 96, got 88\n",
      "  return f(*args, **kwds)\n"
     ]
    }
   ],
   "source": [
    "# import utlity functions\n",
    "\n",
    "paths_to_append = [os.path.join(os.getcwd(), os.path.join(*(['..','src'])))]\n",
    "paths_to_append\n",
    "def add_path_to_sys_path(path_to_append):\n",
    "    if not (any(path_to_append in paths for paths in sys.path)):\n",
    "        sys.path.append(path_to_append)\n",
    "[add_path_to_sys_path(crt_path) for crt_path in paths_to_append]\n",
    "\n",
    "import azure_chestxray_utils"
   ]
  },
  {
   "cell_type": "code",
   "execution_count": 8,
   "metadata": {},
   "outputs": [
    {
     "data": {
      "text/plain": [
       "'/data_dir/chestxray/ChestX-ray8/ChestXray-NIHCC'"
      ]
     },
     "execution_count": 8,
     "metadata": {},
     "output_type": "execute_result"
    },
    {
     "name": "stdout",
     "output_type": "stream",
     "text": [
      "total 3900\r\n",
      "drwxrwxr-x 2 loginvm022 loginvm022 3989504 Sep  4  2017 images\r\n",
      "drwxrwxrwx 2 root       root          4096 Nov 16 05:48 tmp\r\n"
     ]
    }
   ],
   "source": [
    "# create the file path variables \n",
    "# create nih_chest_xray_data_dir (in container dir mapped to a host dir for data persistence), \n",
    "# where data will be copied from blob\n",
    "\n",
    "prj_consts = azure_chestxray_utils.chestxray_consts()\n",
    "\n",
    "nih_chest_xray_data_dir=os.path.join(os.path.join(*([os.sep]+prj_consts.BASE_INPUT_DIR_list)), \n",
    "                                     os.path.join(*(prj_consts.ChestXray_IMAGES_DIR_list)))\n",
    "os.makedirs(nih_chest_xray_data_dir, exist_ok=True)\n",
    "\n",
    "nih_chest_xray_data_dir\n",
    "!ls -l {nih_chest_xray_data_dir}"
   ]
  },
  {
   "cell_type": "code",
   "execution_count": 9,
   "metadata": {},
   "outputs": [
    {
     "data": {
      "text/plain": [
       "['azcopy 7.2.0-netcore Copyright (c) 2018 Microsoft Corp. All Rights Reserved.',\n",
       " '------------------------------------------------------------------------------',\n",
       " '# azcopy is designed for high-performance uploading, downloading, and copying',\n",
       " 'data to and from Microsoft Azure Blob, and File storage.',\n",
       " '',\n",
       " '# Command Line Usage:',\n",
       " '    azcopy --source <source> --destination <destination> [options]',\n",
       " '',\n",
       " '# Options:']"
      ]
     },
     "execution_count": 9,
     "metadata": {},
     "output_type": "execute_result"
    }
   ],
   "source": [
    "#check azcopy is available. Uncomment second line to print _response_ if needed\n",
    "\n",
    "response = !azcopy\n",
    "response[1:10]"
   ]
  },
  {
   "cell_type": "code",
   "execution_count": 10,
   "metadata": {},
   "outputs": [],
   "source": [
    "%dotenv $dotenv_file_path\n",
    "\n",
    "storage_account_key = os.getenv('sa_key')"
   ]
  },
  {
   "cell_type": "markdown",
   "metadata": {},
   "source": [
    "###### Copy meta-data  \n",
    " - NIH Chest Xray: BBox_List_2017.csv, Data_Entry_2017.csv  \n",
    " - Azure Chest Xray: blacklist.csv   "
   ]
  },
  {
   "cell_type": "code",
   "execution_count": 11,
   "metadata": {},
   "outputs": [
    {
     "name": "stdout",
     "output_type": "stream",
     "text": [
      "\u001b[?1h\u001b=[2019/11/17 22:16:33.224+00:00] >>>>>>>>>>>>>>>>\n",
      "[2019/11/17 22:16:33.232+00:00][VERBOSE] Finished: 0 file(s), 0 B; Average Speed:0 B/s.\n",
      "[2019/11/17 22:16:33.236+00:00][VERBOSE] 7.2.0 : azcopy --quiet --source https://ghiordanazrchestxraysa.blob.core.windows.net/nihchestxraydata --destination /data_dir/chestxray/ChestX-ray8/ChestXray-NIHCC/.. --source-key ****** --verbose --include BBox_List_2017.csv\n",
      "[2019/11/17 22:16:33.310+00:00][VERBOSE] Attempt to parse address 'https://ghiordanazrchestxraysa.blob.core.windows.net/nihchestxraydata' to a directory as a candidate location succeeded.\n",
      "[2019/11/17 22:16:33.311+00:00][VERBOSE] Source is interpreted as a Cloud blob directory: https://ghiordanazrchestxraysa.blob.core.windows.net/nihchestxraydata.\n",
      "[2019/11/17 22:16:33.313+00:00][VERBOSE] Attempt to parse address '/data_dir/chestxray/ChestX-ray8/ChestXray-NIHCC/..' to a directory as a candidate location succeeded.\n",
      "[2019/11/17 22:16:33.315+00:00][VERBOSE] Destination is interpreted as a Local directory: /data_dir/chestxray/ChestX-ray8/.\n",
      "[2019/11/17 22:16:33.767+00:00][VERBOSE] Start transfer: https://ghiordanazrchestxraysa.blob.core.windows.net/nihchestxraydata/BBox_List_2017.csv => /data_dir/chestxray/ChestX-ray8/BBox_List_2017.csv\n",
      "[2019/11/17 22:16:33.965+00:00][VERBOSE] Finished transfer: https://ghiordanazrchestxraysa.blob.core.windows.net/nihchestxraydata/BBox_List_2017.csv => /data_dir/chestxray/ChestX-ray8/BBox_List_2017.csv\n",
      "\u001b[6n                                                                               \u001b[6n\u001b[1;1HFinished 1 of total 1 file(s).\n",
      "\u001b[6n                                                                               \u001b[6n\u001b[1;1H[2019/11/17 22:16:36] Transfer summary:\n",
      "-----------------\n",
      "Total files transferred: 1\n",
      "Transfer successfully:   1\n",
      "Transfer skipped:        0\n",
      "Transfer failed:         0\n",
      "Elapsed time:            00.00:00:02\n",
      "\u001b[?1h\u001b=[2019/11/17 22:16:38.366+00:00] >>>>>>>>>>>>>>>>\n",
      "[2019/11/17 22:16:38.375+00:00][VERBOSE] Finished: 0 file(s), 0 B; Average Speed:0 B/s.\n",
      "[2019/11/17 22:16:38.379+00:00][VERBOSE] 7.2.0 : azcopy --quiet --source https://ghiordanazrchestxraysa.blob.core.windows.net/nihchestxraydata --destination /data_dir/chestxray/ChestX-ray8/ChestXray-NIHCC/.. --source-key ****** --verbose --include Data_Entry_2017.csv\n",
      "[2019/11/17 22:16:38.452+00:00][VERBOSE] Attempt to parse address 'https://ghiordanazrchestxraysa.blob.core.windows.net/nihchestxraydata' to a directory as a candidate location succeeded.\n",
      "[2019/11/17 22:16:38.454+00:00][VERBOSE] Source is interpreted as a Cloud blob directory: https://ghiordanazrchestxraysa.blob.core.windows.net/nihchestxraydata.\n",
      "[2019/11/17 22:16:38.455+00:00][VERBOSE] Attempt to parse address '/data_dir/chestxray/ChestX-ray8/ChestXray-NIHCC/..' to a directory as a candidate location succeeded.\n",
      "[2019/11/17 22:16:38.457+00:00][VERBOSE] Destination is interpreted as a Local directory: /data_dir/chestxray/ChestX-ray8/.\n",
      "[2019/11/17 22:16:38.889+00:00][VERBOSE] Start transfer: https://ghiordanazrchestxraysa.blob.core.windows.net/nihchestxraydata/Data_Entry_2017.csv => /data_dir/chestxray/ChestX-ray8/Data_Entry_2017.csv\n",
      "[2019/11/17 22:16:39.197+00:00][VERBOSE] Finished transfer: https://ghiordanazrchestxraysa.blob.core.windows.net/nihchestxraydata/Data_Entry_2017.csv => /data_dir/chestxray/ChestX-ray8/Data_Entry_2017.csv\n",
      "\u001b[6n                                                                               \u001b[6n\u001b[1;1HFinished 1 of total 1 file(s).\n",
      "\u001b[6n                                                                               \u001b[6n\u001b[1;1H[2019/11/17 22:16:41] Transfer summary:\n",
      "-----------------\n",
      "Total files transferred: 1\n",
      "Transfer successfully:   1\n",
      "Transfer skipped:        0\n",
      "Transfer failed:         0\n",
      "Elapsed time:            00.00:00:03\n",
      "\u001b[?1h\u001b=[2019/11/17 22:16:43.617+00:00] >>>>>>>>>>>>>>>>\n",
      "[2019/11/17 22:16:43.626+00:00][VERBOSE] Finished: 0 file(s), 0 B; Average Speed:0 B/s.\n",
      "[2019/11/17 22:16:43.630+00:00][VERBOSE] 7.2.0 : azcopy --quiet --source https://ghiordanazrchestxraysa.blob.core.windows.net/nihchestxraydata --destination /data_dir/chestxray/ChestX-ray8/ChestXray-NIHCC/.. --source-key ****** --verbose --include blacklist.csv\n",
      "[2019/11/17 22:16:43.705+00:00][VERBOSE] Attempt to parse address 'https://ghiordanazrchestxraysa.blob.core.windows.net/nihchestxraydata' to a directory as a candidate location succeeded.\n",
      "[2019/11/17 22:16:43.706+00:00][VERBOSE] Source is interpreted as a Cloud blob directory: https://ghiordanazrchestxraysa.blob.core.windows.net/nihchestxraydata.\n",
      "[2019/11/17 22:16:43.708+00:00][VERBOSE] Attempt to parse address '/data_dir/chestxray/ChestX-ray8/ChestXray-NIHCC/..' to a directory as a candidate location succeeded.\n",
      "[2019/11/17 22:16:43.710+00:00][VERBOSE] Destination is interpreted as a Local directory: /data_dir/chestxray/ChestX-ray8/.\n",
      "[2019/11/17 22:16:44.146+00:00][VERBOSE] Start transfer: https://ghiordanazrchestxraysa.blob.core.windows.net/nihchestxraydata/blacklist.csv => /data_dir/chestxray/ChestX-ray8/blacklist.csv\n",
      "[2019/11/17 22:16:44.332+00:00][VERBOSE] Finished transfer: https://ghiordanazrchestxraysa.blob.core.windows.net/nihchestxraydata/blacklist.csv => /data_dir/chestxray/ChestX-ray8/blacklist.csv\n",
      "\u001b[6n                                                                               \u001b[6n\u001b[1;1HFinished 1 of total 1 file(s).\n",
      "\u001b[6n                                                                               \u001b[6n\u001b[1;1H[2019/11/17 22:16:46] Transfer summary:\n",
      "-----------------\n",
      "Total files transferred: 1\n",
      "Transfer successfully:   1\n",
      "Transfer skipped:        0\n",
      "Transfer failed:         0\n",
      "Elapsed time:            00.00:00:02\n"
     ]
    }
   ],
   "source": [
    "# copy data to local host dir\n",
    "source_container = 'https://'+os.getenv('sa_name')+'.blob.core.windows.net/'+os.getenv('sa_container_name')\n",
    "dest_local_dir = os.path.join(nih_chest_xray_data_dir, '..')\n",
    "\n",
    "!azcopy --quiet \\\n",
    "    --source {source_container}  \\\n",
    "    --destination {dest_local_dir} \\\n",
    "    --source-key {storage_account_key} \\\n",
    "    --verbose \\\n",
    "    --include \"BBox_List_2017.csv\"\n",
    "\n",
    "!azcopy --quiet \\\n",
    "    --source {source_container}  \\\n",
    "    --destination {dest_local_dir} \\\n",
    "    --source-key {storage_account_key} \\\n",
    "    --verbose \\\n",
    "    --include \"Data_Entry_2017.csv\"\n",
    "\n",
    "!azcopy --quiet \\\n",
    "    --source {source_container}  \\\n",
    "    --destination {dest_local_dir} \\\n",
    "    --source-key {storage_account_key} \\\n",
    "    --verbose \\\n",
    "    --include \"blacklist.csv\""
   ]
  },
  {
   "cell_type": "markdown",
   "metadata": {},
   "source": [
    "###### Copy NIH Chest Xray  compressed image data\n",
    "Make:\n",
    "```\n",
    "copy_NIH_compressed_data_FLAG = False\n",
    "``` \n",
    "to skip next 2 cells and use the following cells to download uncompressed images.\n",
    "\n",
    "Make:\n",
    "```\n",
    "copy_NIH_compressed_data_FLAG = True\n",
    "```\n",
    "if you want to download compressed data and uncompress locally in the next 2 cells. "
   ]
  },
  {
   "cell_type": "code",
   "execution_count": 12,
   "metadata": {},
   "outputs": [],
   "source": [
    "copy_NIH_compressed_data_FLAG = False\n",
    "\n",
    "if copy_NIH_compressed_data_FLAG:\n",
    "    tmp_dir = os.path.join(nih_chest_xray_data_dir, 'tmp')\n",
    "    tmp_dir\n",
    "    os.makedirs(tmp_dir, exist_ok=True)\n",
    "\n",
    "    compressed_data_container = 'https://'+os.getenv('sa_name')+'.blob.core.windows.net/'+os.getenv('sa_container_name_compressed_data')\n",
    "\n",
    "    answer = !azcopy --quiet \\\n",
    "    --source {compressed_data_container}  \\\n",
    "    --destination {tmp_dir} \\\n",
    "    --source-key {crt_key} \\\n",
    "    --recursive \\\n",
    "    --verbose \\\n",
    "    --include \"images_\"\n",
    "    \n",
    "    print(answer[-7:])\n",
    "    "
   ]
  },
  {
   "cell_type": "markdown",
   "metadata": {},
   "source": [
    "The azcopy download process above will run for several minutes. \n",
    "\n",
    "Make sure you have these file sizes when it finishes:  \n",
    "total __44023372__  \n",
    "-rw-r--r-- 1 1000 users __2008470987__ Sep 26 17:19 images_001.tar.gz  \n",
    "-rw-r--r-- 1 1000 users __3952623504__ Sep 26 19:05 images_002.tar.gz  \n",
    "-rw-r--r-- 1 1000 users __3929234850__ Sep 26 17:22 images_003.tar.gz  \n",
    "-rw-r--r-- 1 1000 users __3838903983__ Sep 26 17:25 images_004.tar.gz  \n",
    "-rw-r--r-- 1 1000 users __3935496531__ Sep 26 17:22 images_005.tar.gz  \n",
    "-rw-r--r-- 1 1000 users __3986301172__ Sep 26 17:25 images_006.tar.gz  \n",
    "-rw-r--r-- 1 1000 users __4016328426__ Sep 26 19:05 images_007.tar.gz  \n",
    "-rw-r--r-- 1 1000 users __4018347353__ Sep 26 19:05 images_008.tar.gz  \n",
    "-rw-r--r-- 1 1000 users __4111327929__ Sep 26 19:05 images_009.tar.gz  \n",
    "-rw-r--r-- 1 1000 users __4181556296__ Sep 26 19:05 images_010.tar.gz  \n",
    "-rw-r--r-- 1 1000 users __4187084020__ Sep 26 19:05 images_011.tar.gz  \n",
    "-rw-r--r-- 1 1000 users __2914187733__ Sep 26 17:21 images_012.tar.gz  \n",
    "  \n",
    "If the unzipping process below does not end up with __112120__ .png images, you may need to repeat the download process for the above 12 .tar.gz files."
   ]
  },
  {
   "cell_type": "markdown",
   "metadata": {},
   "source": [
    "The uncompressiing process below will run for several minutes.\n",
    "\n",
    "While it runs, you can monitor the progress by ssh-ing \n",
    "into your compute context machine and running:   \n",
    "find /data_dir/chestxray/ChestX-ray8/ChestXray-NIHCC/images  -type f | wc -l  \n",
    "\n",
    "The final number of images is:  \n",
    "__112120__  \n",
    "\n"
   ]
  },
  {
   "cell_type": "code",
   "execution_count": 13,
   "metadata": {},
   "outputs": [],
   "source": [
    "if copy_NIH_compressed_data_FLAG:\n",
    "    print(nih_chest_xray_data_dir)\n",
    "    print(tmp_dir)\n",
    "    !ls -l $tmp_dir\n",
    "    # !find $nih_chest_xray_data_dir -type f | wc -l\n",
    "\n",
    "    old_crt_dir = os.getcwd()\n",
    "    os.chdir(nih_chest_xray_data_dir)\n",
    "    !pwd    \n",
    "    !ls -l $tmp_dir/*.tar.gz \n",
    "    allImages = ! cat $tmp_dir/*.tar.gz | tar -zxf - -i\n",
    "    # !for file in $tmp_dir/*.tar.gz; do tar -zxf $file; done\n",
    "    os.chdir(old_crt_dir)\n",
    "    !pwd"
   ]
  },
  {
   "cell_type": "markdown",
   "metadata": {},
   "source": [
    "##### Download uncomressed data (112120 .png images like 00000001_000.png) to local host dir"
   ]
  },
  {
   "cell_type": "code",
   "execution_count": 14,
   "metadata": {},
   "outputs": [
    {
     "name": "stdout",
     "output_type": "stream",
     "text": [
      "\u001b[?1h\u001b=\u001b[6nFinished: 0 file(s), 0 B; Average Speed:0 B/s.                                 \u001b[6n\u001b[1;1H\u001b[6nFinished: 0 file(s), 0 B; Average Speed:0 B/s.                                 \u001b[6n\u001b[1;1H\u001b[6nFinished: 0 file(s), 0 B; Average Speed:0 B/s.                                 \u001b[6n\u001b[1;1H\u001b[6nFinished: 0 file(s), 0 B; Average Speed:0 B/s.                                 \u001b[6n\u001b[1;1H\u001b[6nFinished: 0 file(s), 444.867 KB; Average Speed:47.56 KB/s.                     \u001b[6n\u001b[1;1H\u001b[6nFinished: 1957 file(s), 756.698 MB; Average Speed:66.44 MB/s.                  \u001b[6n\u001b[1;1H\u001b[6nFinished: 3972 file(s), 1.493 GB; Average Speed:113.75 MB/s.                   \u001b[6n\u001b[1;1H\u001b[6nFinished: 6003 file(s), 2.244 GB; Average Speed:148.34 MB/s.                   \u001b[6n\u001b[1;1H\u001b[6nFinished: 8048 file(s), 2.99 GB; Average Speed:174.56 MB/s.                    \u001b[6n\u001b[1;1H\u001b[6nFinished: 10244 file(s), 3.801 GB; Average Speed:198.74 MB/s.                  \u001b[6n\u001b[1;1H\u001b[6nFinished: 12113 file(s), 4.492 GB; Average Speed:212.66 MB/s.                  \u001b[6n\u001b[1;1H\u001b[6nFinished: 14293 file(s), 5.288 GB; Average Speed:228.53 MB/s.                  \u001b[6n\u001b[1;1H\u001b[6nFinished: 16440 file(s), 6.073 GB; Average Speed:241.73 MB/s.                  \u001b[6n\u001b[1;1H\u001b[6nFinished: 18538 file(s), 6.848 GB; Average Speed:252.49 MB/s.                  \u001b[6n\u001b[1;1H\u001b[6nFinished: 20424 file(s), 7.537 GB; Average Speed:258.77 MB/s.                  \u001b[6n\u001b[1;1H\u001b[6nFinished: 22436 file(s), 8.277 GB; Average Speed:265.94 MB/s.                  \u001b[6n\u001b[1;1H\u001b[6nFinished: 24569 file(s), 9.055 GB; Average Speed:273.34 MB/s.                  \u001b[6n\u001b[1;1H\u001b[6nFinished: 26585 file(s), 9.78 GB; Average Speed:278.42 MB/s.                   \u001b[6n\u001b[1;1H\u001b[6nFinished: 28794 file(s), 10.581 GB; Average Speed:285.01 MB/s.                 \u001b[6n\u001b[1;1H\u001b[6nFinished: 30910 file(s), 11.334 GB; Average Speed:289.71 MB/s.                 \u001b[6n\u001b[1;1H\u001b[6nFinished: 30929 file(s), 11.341 GB; Average Speed:275.79 MB/s.                 \u001b[6n\u001b[1;1H\u001b[6nFinished: 31675 file(s), 11.604 GB; Average Speed:269.1 MB/s.                  \u001b[6n\u001b[1;1H\u001b[6nFinished: 32478 file(s), 11.892 GB; Average Speed:263.55 MB/s.                 \u001b[6n\u001b[1;1H\u001b[6nFinished: 33847 file(s), 12.375 GB; Average Speed:262.61 MB/s.                 \u001b[6n\u001b[1;1H\u001b[6nFinished: 34463 file(s), 12.595 GB; Average Speed:256.39 MB/s.                 \u001b[6n\u001b[1;1H\u001b[6nFinished: 35449 file(s), 12.941 GB; Average Speed:253.13 MB/s.                 \u001b[6n\u001b[1;1H\u001b[6nFinished: 36506 file(s), 13.314 GB; Average Speed:250.62 MB/s.                 \u001b[6n\u001b[1;1H\u001b[6nFinished: 37775 file(s), 13.776 GB; Average Speed:249.92 MB/s.                 \u001b[6n\u001b[1;1H\u001b[6nFinished: 39406 file(s), 14.37 GB; Average Speed:251.57 MB/s.                  \u001b[6n\u001b[1;1H\u001b[6nFinished: 40247 file(s), 14.68 GB; Average Speed:248.29 MB/s.                  \u001b[6n\u001b[1;1H\u001b[6nFinished: 40832 file(s), 14.901 GB; Average Speed:243.75 MB/s.                 \u001b[6n\u001b[1;1H\u001b[6nFinished: 42823 file(s), 15.641 GB; Average Speed:247.79 MB/s.                 \u001b[6n\u001b[1;1H\u001b[6nFinished: 43598 file(s), 15.932 GB; Average Speed:244.64 MB/s.                 \u001b[6n\u001b[1;1H\u001b[6nFinished: 44493 file(s), 16.264 GB; Average Speed:242.29 MB/s.                 \u001b[6n\u001b[1;1H\u001b[6nFinished: 44558 file(s), 16.289 GB; Average Speed:235.65 MB/s.                 \u001b[6n\u001b[1;1H\u001b[6nFinished: 45342 file(s), 16.572 GB; Average Speed:232.99 MB/s.                 \u001b[6n\u001b[1;1H\u001b[6nFinished: 45846 file(s), 16.758 GB; Average Speed:229.17 MB/s.                 \u001b[6n\u001b[1;1H\u001b[6nFinished: 46097 file(s), 16.853 GB; Average Speed:224.34 MB/s.                 \u001b[6n\u001b[1;1H\u001b[6nFinished: 46604 file(s), 17.044 GB; Average Speed:221 MB/s.                    \u001b[6n\u001b[1;1H\u001b[6nFinished: 46732 file(s), 17.091 GB; Average Speed:216.01 MB/s.                 \u001b[6n\u001b[1;1H\u001b[6nFinished: 47677 file(s), 17.441 GB; Average Speed:214.99 MB/s.                 \u001b[6n\u001b[1;1H\u001b[6nFinished: 48357 file(s), 17.695 GB; Average Speed:212.88 MB/s.                 \u001b[6n\u001b[1;1H\u001b[6nFinished: 48746 file(s), 17.842 GB; Average Speed:209.6 MB/s.                  \u001b[6n\u001b[1;1H\u001b[6nFinished: 49253 file(s), 18.029 GB; Average Speed:206.94 MB/s.                 \u001b[6n\u001b[1;1H\u001b[6nFinished: 50658 file(s), 18.553 GB; Average Speed:208.16 MB/s.                 \u001b[6n\u001b[1;1H\u001b[6nFinished: 52180 file(s), 19.121 GB; Average Speed:209.84 MB/s.                 \u001b[6n\u001b[1;1H\u001b[6nFinished: 53230 file(s), 19.509 GB; Average Speed:209.5 MB/s.                  \u001b[6n\u001b[1;1H\u001b[6nFinished: 53656 file(s), 19.67 GB; Average Speed:206.78 MB/s.                  \u001b[6n\u001b[1;1H\u001b[6nFinished: 54102 file(s), 19.828 GB; Average Speed:204.15 MB/s.                 \u001b[6n\u001b[1;1H\u001b[6nFinished: 54453 file(s), 19.955 GB; Average Speed:201.31 MB/s.                 \u001b[6n\u001b[1;1H\u001b[6nFinished: 55013 file(s), 20.161 GB; Average Speed:199.37 MB/s.                 \u001b[6n\u001b[1;1H\u001b[6nFinished: 55402 file(s), 20.308 GB; Average Speed:196.93 MB/s.                 \u001b[6n\u001b[1;1H\u001b[6nFinished: 55727 file(s), 20.43 GB; Average Speed:194.35 MB/s.                  \u001b[6n\u001b[1;1H\u001b[6nFinished: 56117 file(s), 20.57 GB; Average Speed:192.02 MB/s.                  \u001b[6n\u001b[1;1H\u001b[6nFinished: 56452 file(s), 20.695 GB; Average Speed:189.64 MB/s.                 \u001b[6n\u001b[1;1H\u001b[6nFinished: 56707 file(s), 20.791 GB; Average Speed:187.1 MB/s.                  \u001b[6n\u001b[1;1H\u001b[6nFinished: 57132 file(s), 20.949 GB; Average Speed:185.19 MB/s.                 \u001b[6n\u001b[1;1H\u001b[6nFinished: 57610 file(s), 21.127 GB; Average Speed:183.52 MB/s.                 \u001b[6n\u001b[1;1H\u001b[6nFinished: 57868 file(s), 21.223 GB; Average Speed:181.2 MB/s.                  \u001b[6n\u001b[1;1H\u001b[6nFinished: 58672 file(s), 21.528 GB; Average Speed:180.72 MB/s.                 \u001b[6n\u001b[1;1H\u001b[6nFinished: 59091 file(s), 21.688 GB; Average Speed:179.05 MB/s.                 \u001b[6n\u001b[1;1H\u001b[6nFinished: 59361 file(s), 21.789 GB; Average Speed:176.97 MB/s.                 \u001b[6n\u001b[1;1H\u001b[6nFinished: 59424 file(s), 21.812 GB; Average Speed:174.32 MB/s.                 \u001b[6n\u001b[1;1H\u001b[6nFinished: 59425 file(s), 21.812 GB; Average Speed:171.58 MB/s.                 \u001b[6n\u001b[1;1H\u001b[6nFinished: 59567 file(s), 21.866 GB; Average Speed:169.33 MB/s.                 \u001b[6n\u001b[1;1H\u001b[6nFinished: 60819 file(s), 22.336 GB; Average Speed:170.34 MB/s.                 \u001b[6n\u001b[1;1H\u001b[6nFinished: 61177 file(s), 22.469 GB; Average Speed:168.78 MB/s.                 \u001b[6n\u001b[1;1H\u001b[6nFinished: 61910 file(s), 22.744 GB; Average Speed:168.32 MB/s.                 \u001b[6n\u001b[1;1H\u001b[6nFinished: 62311 file(s), 22.895 GB; Average Speed:166.96 MB/s.                 \u001b[6n\u001b[1;1H\u001b[6nFinished: 62485 file(s), 22.957 GB; Average Speed:165.01 MB/s.                 \u001b[6n\u001b[1;1H\u001b[6nFinished: 62636 file(s), 23.017 GB; Average Speed:163.1 MB/s.                  \u001b[6n\u001b[1;1H\u001b[6nFinished: 62734 file(s), 23.052 GB; Average Speed:161.06 MB/s.                 \u001b[6n\u001b[1;1H\u001b[6nFinished: 62852 file(s), 23.097 GB; Average Speed:159.15 MB/s.                 \u001b[6n\u001b[1;1H\u001b[6nFinished: 62924 file(s), 23.125 GB; Average Speed:157.18 MB/s.                 \u001b[6n\u001b[1;1H\u001b[6nFinished: 63007 file(s), 23.155 GB; Average Speed:155.27 MB/s.                 \u001b[6n\u001b[1;1H\u001b[6nFinished: 63155 file(s), 23.209 GB; Average Speed:153.57 MB/s.                 \u001b[6n\u001b[1;1H\u001b[6nFinished: 63321 file(s), 23.267 GB; Average Speed:151.95 MB/s.                 \u001b[6n\u001b[1;1H\u001b[6nFinished: 63459 file(s), 23.319 GB; Average Speed:150.32 MB/s.                 \u001b[6n\u001b[1;1H\u001b[6nFinished: 63613 file(s), 23.377 GB; Average Speed:148.78 MB/s.                 \u001b[6n\u001b[1;1H\u001b[6nFinished: 63761 file(s), 23.435 GB; Average Speed:147.27 MB/s.                 \u001b[6n\u001b[1;1H\u001b[6nFinished: 63965 file(s), 23.507 GB; Average Speed:145.9 MB/s.                  \u001b[6n\u001b[1;1H\u001b[6nFinished: 64146 file(s), 23.574 GB; Average Speed:144.52 MB/s.                 \u001b[6n\u001b[1;1H\u001b[6nFinished: 64371 file(s), 23.658 GB; Average Speed:143.28 MB/s.                 \u001b[6n\u001b[1;1H\u001b[6nFinished: 64638 file(s), 23.758 GB; Average Speed:142.16 MB/s.                 \u001b[6n\u001b[1;1H\u001b[6nFinished: 65072 file(s), 23.922 GB; Average Speed:141.45 MB/s.                 \u001b[6n\u001b[1;1H\u001b[6nFinished: 65604 file(s), 24.122 GB; Average Speed:140.96 MB/s.                 \u001b[6n\u001b[1;1H\u001b[6nFinished: 66221 file(s), 24.355 GB; Average Speed:140.68 MB/s.                 \u001b[6n\u001b[1;1H\u001b[6nFinished: 66841 file(s), 24.582 GB; Average Speed:140.37 MB/s.                 \u001b[6n\u001b[1;1H\u001b[6n"
     ]
    },
    {
     "name": "stdout",
     "output_type": "stream",
     "text": [
      "Finished: 67086 file(s), 24.675 GB; Average Speed:139.31 MB/s.                 \u001b[6n\u001b[1;1H\u001b[6nFinished: 67529 file(s), 24.843 GB; Average Speed:138.69 MB/s.                 \u001b[6n\u001b[1;1H\u001b[6nFinished: 67924 file(s), 24.989 GB; Average Speed:137.97 MB/s.                 \u001b[6n\u001b[1;1H\u001b[6nFinished: 68269 file(s), 25.119 GB; Average Speed:137.17 MB/s.                 \u001b[6n\u001b[1;1H\u001b[6nFinished: 68623 file(s), 25.252 GB; Average Speed:136.41 MB/s.                 \u001b[6n\u001b[1;1H\u001b[6nFinished: 69027 file(s), 25.403 GB; Average Speed:135.76 MB/s.                 \u001b[6n\u001b[1;1H\u001b[6nFinished: 69415 file(s), 25.551 GB; Average Speed:135.1 MB/s.                  \u001b[6n\u001b[1;1H\u001b[6nFinished: 69894 file(s), 25.729 GB; Average Speed:134.62 MB/s.                 \u001b[6n\u001b[1;1H\u001b[6nFinished: 70054 file(s), 25.787 GB; Average Speed:133.53 MB/s.                 \u001b[6n\u001b[1;1H\u001b[6nFinished: 70658 file(s), 26.016 GB; Average Speed:133.33 MB/s.                 \u001b[6n\u001b[1;1H\u001b[6nFinished: 71034 file(s), 26.152 GB; Average Speed:132.67 MB/s.                 \u001b[6n\u001b[1;1H\u001b[6nFinished: 71576 file(s), 26.356 GB; Average Speed:132.36 MB/s.                 \u001b[6n\u001b[1;1H\u001b[6nFinished: 71976 file(s), 26.507 GB; Average Speed:131.8 MB/s.                  \u001b[6n\u001b[1;1H\u001b[6nFinished: 72240 file(s), 26.608 GB; Average Speed:130.99 MB/s.                 \u001b[6n\u001b[1;1H\u001b[6nFinished: 72646 file(s), 26.759 GB; Average Speed:130.45 MB/s.                 \u001b[6n\u001b[1;1H\u001b[6nFinished: 73037 file(s), 26.903 GB; Average Speed:129.89 MB/s.                 \u001b[6n\u001b[1;1H\u001b[6nFinished: 73418 file(s), 27.047 GB; Average Speed:129.34 MB/s.                 \u001b[6n\u001b[1;1H\u001b[6nFinished: 73860 file(s), 27.213 GB; Average Speed:128.9 MB/s.                  \u001b[6n\u001b[1;1H\u001b[6nFinished: 74392 file(s), 27.408 GB; Average Speed:128.6 MB/s.                  \u001b[6n\u001b[1;1H\u001b[6nFinished: 74860 file(s), 27.583 GB; Average Speed:128.22 MB/s.                 \u001b[6n\u001b[1;1H\u001b[6nFinished: 75121 file(s), 27.68 GB; Average Speed:127.48 MB/s.                  \u001b[6n\u001b[1;1H\u001b[6nFinished: 75644 file(s), 27.878 GB; Average Speed:127.23 MB/s.                 \u001b[6n\u001b[1;1H\u001b[6nFinished: 75975 file(s), 28.001 GB; Average Speed:126.63 MB/s.                 \u001b[6n\u001b[1;1H\u001b[6nFinished: 76320 file(s), 28.133 GB; Average Speed:126.09 MB/s.                 \u001b[6n\u001b[1;1H\u001b[6nFinished: 76649 file(s), 28.256 GB; Average Speed:125.52 MB/s.                 \u001b[6n\u001b[1;1H\u001b[6nFinished: 76985 file(s), 28.383 GB; Average Speed:124.97 MB/s.                 \u001b[6n\u001b[1;1H\u001b[6nFinished: 77395 file(s), 28.533 GB; Average Speed:124.53 MB/s.                 \u001b[6n\u001b[1;1H\u001b[6nFinished: 77773 file(s), 28.679 GB; Average Speed:124.09 MB/s.                 \u001b[6n\u001b[1;1H\u001b[6nFinished: 78224 file(s), 28.853 GB; Average Speed:123.77 MB/s.                 \u001b[6n\u001b[1;1H\u001b[6nFinished: 78485 file(s), 28.954 GB; Average Speed:123.14 MB/s.                 \u001b[6n\u001b[1;1H\u001b[6nFinished: 78937 file(s), 29.124 GB; Average Speed:122.82 MB/s.                 \u001b[6n\u001b[1;1H\u001b[6nFinished: 79313 file(s), 29.268 GB; Average Speed:122.4 MB/s.                  \u001b[6n\u001b[1;1H\u001b[6nFinished: 79531 file(s), 29.351 GB; Average Speed:121.73 MB/s.                 \u001b[6n\u001b[1;1H\u001b[6nFinished: 79856 file(s), 29.473 GB; Average Speed:121.23 MB/s.                 \u001b[6n\u001b[1;1H\u001b[6nFinished: 80218 file(s), 29.611 GB; Average Speed:120.8 MB/s.                  \u001b[6n\u001b[1;1H\u001b[6nFinished: 80547 file(s), 29.737 GB; Average Speed:120.33 MB/s.                 \u001b[6n\u001b[1;1H\u001b[6nFinished: 80984 file(s), 29.906 GB; Average Speed:120.04 MB/s.                 \u001b[6n\u001b[1;1H\u001b[6nFinished: 81461 file(s), 30.085 GB; Average Speed:119.8 MB/s.                  \u001b[6n\u001b[1;1H\u001b[6nFinished: 81770 file(s), 30.205 GB; Average Speed:119.33 MB/s.                 \u001b[6n\u001b[1;1H\u001b[6nFinished: 82066 file(s), 30.32 GB; Average Speed:118.84 MB/s.                  \u001b[6n\u001b[1;1H\u001b[6nFinished: 82599 file(s), 30.525 GB; Average Speed:118.72 MB/s.                 \u001b[6n\u001b[1;1H\u001b[6nFinished: 82747 file(s), 30.581 GB; Average Speed:118.02 MB/s.                 \u001b[6n\u001b[1;1H\u001b[6nFinished: 83182 file(s), 30.75 GB; Average Speed:117.76 MB/s.                  \u001b[6n\u001b[1;1H\u001b[6nFinished: 83576 file(s), 30.902 GB; Average Speed:117.45 MB/s.                 \u001b[6n\u001b[1;1H\u001b[6nFinished: 83951 file(s), 31.05 GB; Average Speed:117.12 MB/s.                  \u001b[6n\u001b[1;1H\u001b[6nFinished: 84284 file(s), 31.18 GB; Average Speed:116.72 MB/s.                  \u001b[6n\u001b[1;1H\u001b[6nFinished: 84772 file(s), 31.372 GB; Average Speed:116.57 MB/s.                 \u001b[6n\u001b[1;1H\u001b[6nFinished: 84964 file(s), 31.448 GB; Average Speed:115.99 MB/s.                 \u001b[6n\u001b[1;1H\u001b[6nFinished: 85296 file(s), 31.578 GB; Average Speed:115.62 MB/s.                 \u001b[6n\u001b[1;1H\u001b[6nFinished: 85842 file(s), 31.792 GB; Average Speed:115.56 MB/s.                 \u001b[6n\u001b[1;1H\u001b[6nFinished: 86378 file(s), 31.999 GB; Average Speed:115.47 MB/s.                 \u001b[6n\u001b[1;1H\u001b[6nFinished: 86648 file(s), 32.106 GB; Average Speed:115.02 MB/s.                 \u001b[6n\u001b[1;1H\u001b[6nFinished: 87035 file(s), 32.257 GB; Average Speed:114.74 MB/s.                 \u001b[6n\u001b[1;1H\u001b[6nFinished: 87338 file(s), 32.375 GB; Average Speed:114.35 MB/s.                 \u001b[6n\u001b[1;1H\u001b[6nFinished: 87686 file(s), 32.511 GB; Average Speed:114.03 MB/s.                 \u001b[6n\u001b[1;1H\u001b[6nFinished: 88229 file(s), 32.721 GB; Average Speed:113.96 MB/s.                 \u001b[6n\u001b[1;1H\u001b[6nFinished: 88716 file(s), 32.911 GB; Average Speed:113.83 MB/s.                 \u001b[6n\u001b[1;1H\u001b[6nFinished: 88982 file(s), 33.014 GB; Average Speed:113.4 MB/s.                  \u001b[6n\u001b[1;1H\u001b[6nFinished: 89350 file(s), 33.16 GB; Average Speed:113.13 MB/s.                  \u001b[6n\u001b[1;1H\u001b[6nFinished: 89579 file(s), 33.247 GB; Average Speed:112.66 MB/s.                 \u001b[6n\u001b[1;1H\u001b[6nFinished: 89885 file(s), 33.368 GB; Average Speed:112.3 MB/s.                  \u001b[6n\u001b[1;1H\u001b[6nFinished: 90322 file(s), 33.54 GB; Average Speed:112.13 MB/s.                  \u001b[6n\u001b[1;1H\u001b[6nFinished: 90764 file(s), 33.713 GB; Average Speed:111.96 MB/s.                 \u001b[6n\u001b[1;1H\u001b[6nFinished: 91142 file(s), 33.861 GB; Average Speed:111.71 MB/s.                 \u001b[6n\u001b[1;1H\u001b[6nFinished: 91377 file(s), 33.952 GB; Average Speed:111.27 MB/s.                 \u001b[6n\u001b[1;1H\u001b[6nFinished: 91928 file(s), 34.164 GB; Average Speed:111.24 MB/s.                 \u001b[6n\u001b[1;1H\u001b[6nFinished: 92216 file(s), 34.277 GB; Average Speed:110.88 MB/s.                 \u001b[6n\u001b[1;1H\u001b[6nFinished: 92483 file(s), 34.382 GB; Average Speed:110.51 MB/s.                 \u001b[6n\u001b[1;1H\u001b[6nFinished: 92982 file(s), 34.577 GB; Average Speed:110.43 MB/s.                 \u001b[6n\u001b[1;1H\u001b[6nFinished: 93248 file(s), 34.683 GB; Average Speed:110.06 MB/s.                 \u001b[6n\u001b[1;1H\u001b[6nFinished: 93815 file(s), 34.892 GB; Average Speed:110.03 MB/s.                 \u001b[6n\u001b[1;1H\u001b[6nFinished: 94204 file(s), 35.043 GB; Average Speed:109.81 MB/s.                 \u001b[6n\u001b[1;1H\u001b[6nFinished: 94538 file(s), 35.174 GB; Average Speed:109.53 MB/s.                 \u001b[6n\u001b[1;1H\u001b[6nFinished: 95045 file(s), 35.371 GB; Average Speed:109.47 MB/s.                 \u001b[6n\u001b[1;1H\u001b[6nFinished: 95274 file(s), 35.462 GB; Average Speed:109.07 MB/s.                 \u001b[6n\u001b[1;1H\u001b[6nFinished: 95824 file(s), 35.677 GB; Average Speed:109.06 MB/s.                 \u001b[6n\u001b[1;1H\u001b[6nFinished: 96082 file(s), 35.78 GB; Average Speed:108.71 MB/s.                  \u001b[6n\u001b[1;1H\u001b[6nFinished: 96387 file(s), 35.9 GB; Average Speed:108.42 MB/s.                   \u001b[6n\u001b[1;1H\u001b[6nFinished: 96805 file(s), 36.063 GB; Average Speed:108.26 MB/s.                 \u001b[6n\u001b[1;1H\u001b[6nFinished: 96944 file(s), 36.117 GB; Average Speed:107.77 MB/s.                 \u001b[6n\u001b[1;1H\u001b[6nFinished: 97517 file(s), 36.343 GB; Average Speed:107.8 MB/s.                  \u001b[6n\u001b[1;1H\u001b[6nFinished: 97983 file(s), 36.528 GB; Average Speed:107.71 MB/s.                 \u001b[6n\u001b[1;1H\u001b[6nFinished: 98295 file(s), 36.649 GB; Average Speed:107.44 MB/s.                 \u001b[6n\u001b[1;1H\u001b[6nFinished: 98695 file(s), 36.805 GB; Average Speed:107.27 MB/s.                 \u001b[6n\u001b[1;1H\u001b[6nFinished: 99040 file(s), 36.94 GB; Average Speed:107.03 MB/s.                  \u001b[6n\u001b[1;1H\u001b[6nFinished: 99700 file(s), 37.196 GB; Average Speed:107.15 MB/s.                 \u001b[6n\u001b[1;1H\u001b[6nFinished: 100318 file(s), 37.435 GB; Average Speed:107.23 MB/s.                \u001b[6n\u001b[1;1H\u001b[6nFinished: 100646 file(s), 37.563 GB; Average Speed:106.98 MB/s.                \u001b[6n\u001b[1;1H\u001b[6nFinished: 101080 file(s), 37.733 GB; Average Speed:106.85 MB/s.                \u001b[6n"
     ]
    },
    {
     "name": "stdout",
     "output_type": "stream",
     "text": [
      "\u001b[1;1H\u001b[6nFinished: 101349 file(s), 37.838 GB; Average Speed:106.55 MB/s.                \u001b[6n\u001b[1;1H\u001b[6nFinished: 101771 file(s), 38.001 GB; Average Speed:106.41 MB/s.                \u001b[6n\u001b[1;1H\u001b[6nFinished: 102190 file(s), 38.164 GB; Average Speed:106.27 MB/s.                \u001b[6n\u001b[1;1H\u001b[6nFinished: 102647 file(s), 38.342 GB; Average Speed:106.18 MB/s.                \u001b[6n\u001b[1;1H\u001b[6nFinished: 103055 file(s), 38.497 GB; Average Speed:106.02 MB/s.                \u001b[6n\u001b[1;1H\u001b[6nFinished: 103536 file(s), 38.683 GB; Average Speed:105.94 MB/s.                \u001b[6n\u001b[1;1H\u001b[6nFinished: 104058 file(s), 38.885 GB; Average Speed:105.92 MB/s.                \u001b[6n\u001b[1;1H\u001b[6nFinished: 104556 file(s), 39.079 GB; Average Speed:105.87 MB/s.                \u001b[6n\u001b[1;1H\u001b[6nFinished: 105013 file(s), 39.256 GB; Average Speed:105.78 MB/s.                \u001b[6n\u001b[1;1H\u001b[6nFinished: 105478 file(s), 39.433 GB; Average Speed:105.68 MB/s.                \u001b[6n\u001b[1;1H\u001b[6nFinished: 105829 file(s), 39.566 GB; Average Speed:105.47 MB/s.                \u001b[6n\u001b[1;1H\u001b[6nFinished: 106131 file(s), 39.68 GB; Average Speed:105.22 MB/s.                 \u001b[6n\u001b[1;1H\u001b[6nFinished: 106460 file(s), 39.805 GB; Average Speed:104.99 MB/s.                \u001b[6n\u001b[1;1H\u001b[6nFinished: 106822 file(s), 39.943 GB; Average Speed:104.8 MB/s.                 \u001b[6n\u001b[1;1H\u001b[6nFinished: 107198 file(s), 40.088 GB; Average Speed:104.63 MB/s.                \u001b[6n\u001b[1;1H\u001b[6nFinished: 107611 file(s), 40.246 GB; Average Speed:104.5 MB/s.                 \u001b[6n\u001b[1;1H\u001b[6nFinished: 108085 file(s), 40.427 GB; Average Speed:104.43 MB/s.                \u001b[6n\u001b[1;1H\u001b[6nFinished: 108506 file(s), 40.588 GB; Average Speed:104.3 MB/s.                 \u001b[6n\u001b[1;1H\u001b[6nFinished: 108923 file(s), 40.748 GB; Average Speed:104.18 MB/s.                \u001b[6n\u001b[1;1H\u001b[6nFinished: 109285 file(s), 40.886 GB; Average Speed:104 MB/s.                   \u001b[6n\u001b[1;1H\u001b[6nFinished: 109585 file(s), 41.001 GB; Average Speed:103.77 MB/s.                \u001b[6n\u001b[1;1H\u001b[6nFinished: 109877 file(s), 41.113 GB; Average Speed:103.53 MB/s.                \u001b[6n\u001b[1;1H\u001b[6nFinished: 110281 file(s), 41.267 GB; Average Speed:103.39 MB/s.                \u001b[6n\u001b[1;1H\u001b[6nFinished: 110722 file(s), 41.435 GB; Average Speed:103.3 MB/s.                 \u001b[6n\u001b[1;1H\u001b[6nFinished: 111156 file(s), 41.599 GB; Average Speed:103.19 MB/s.                \u001b[6n\u001b[1;1H\u001b[6nFinished: 111633 file(s), 41.781 GB; Average Speed:103.13 MB/s.                \u001b[6n\u001b[1;1H\u001b[6nFinished: 112062 file(s), 41.942 GB; Average Speed:103.02 MB/s.                \u001b[6n\u001b[1;1H\u001b[6nFinished: 112119 file(s), 41.963 GB; Average Speed:102.57 MB/s.                \u001b[6n\u001b[1;1H\u001b[6nFinished: 112120 file(s), 41.963 GB; Average Speed:102.07 MB/s.                \u001b[6n\u001b[1;1H\u001b[6n                                                                               \u001b[6n\u001b[1;1HFinished 112120 of total 112120 file(s).\n",
      "\u001b[6n                                                                               \u001b[6n\u001b[1;1H[2019/11/17 22:23:53] Transfer summary:\n",
      "-----------------\n",
      "Total files transferred: 112120\n",
      "Transfer successfully:   112120\n",
      "Transfer skipped:        0\n",
      "Transfer failed:         0\n",
      "Elapsed time:            00.00:07:05\n"
     ]
    }
   ],
   "source": [
    "if not copy_NIH_compressed_data_FLAG:\n",
    "    source_container = 'https://'+os.getenv('sa_name')+'.blob.core.windows.net/'+os.getenv('sa_container_name_images')\n",
    "    dest_local_dir = os.path.join(nih_chest_xray_data_dir, 'images')\n",
    "\n",
    "    !azcopy --quiet \\\n",
    "        --source {source_container}  \\\n",
    "        --destination {dest_local_dir} \\\n",
    "        --source-key {storage_account_key} \\\n",
    "        --recursive"
   ]
  },
  {
   "cell_type": "code",
   "execution_count": 15,
   "metadata": {},
   "outputs": [
    {
     "name": "stdout",
     "output_type": "stream",
     "text": [
      "[NbConvertApp] Converting notebook 001_get_data_B.ipynb to html\n",
      "[NbConvertApp] Writing 286135 bytes to 001_get_data_B.html\n"
     ]
    }
   ],
   "source": [
    " \n",
    "!jupyter nbconvert --to html 001_get_data_B.ipynb"
   ]
  },
  {
   "cell_type": "code",
   "execution_count": null,
   "metadata": {},
   "outputs": [],
   "source": []
  }
 ],
 "metadata": {
  "kernelspec": {
   "display_name": "Python 3",
   "language": "python",
   "name": "python3"
  },
  "language_info": {
   "codemirror_mode": {
    "name": "ipython",
    "version": 3
   },
   "file_extension": ".py",
   "mimetype": "text/x-python",
   "name": "python",
   "nbconvert_exporter": "python",
   "pygments_lexer": "ipython3",
   "version": "3.6.3"
  }
 },
 "nbformat": 4,
 "nbformat_minor": 2
}
