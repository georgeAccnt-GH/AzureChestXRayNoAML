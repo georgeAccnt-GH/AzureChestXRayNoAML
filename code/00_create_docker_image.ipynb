{
 "cells": [
  {
   "cell_type": "code",
   "execution_count": 27,
   "metadata": {},
   "outputs": [],
   "source": [
    "# Allow multiple displays per cell\n",
    "from IPython.core.interactiveshell import InteractiveShell\n",
    "InteractiveShell.ast_node_interactivity = \"all\""
   ]
  },
  {
   "cell_type": "code",
   "execution_count": 28,
   "metadata": {},
   "outputs": [
    {
     "name": "stdout",
     "output_type": "stream",
     "text": [
      "The dotenv extension is already loaded. To reload it, use:\n",
      "  %reload_ext dotenv\n"
     ]
    }
   ],
   "source": [
    "%load_ext dotenv"
   ]
  },
  {
   "cell_type": "code",
   "execution_count": 29,
   "metadata": {},
   "outputs": [],
   "source": [
    "import os"
   ]
  },
  {
   "cell_type": "code",
   "execution_count": 30,
   "metadata": {},
   "outputs": [
    {
     "name": "stdout",
     "output_type": "stream",
     "text": [
      "/datadrive01/prj/AzureChestXRayNoAML/code\n",
      "total 692\n",
      "-rwxrwxr-x 1 loginvm001 loginvm001 409251 Jan 26 03:32 00_create_docker_image.html\n",
      "-rwxrwxr-x 1 loginvm001 loginvm001  15270 Jan 26 03:32 00_create_docker_image.ipynb\n",
      "drwxrwxr-x 2 loginvm001 loginvm001   4096 Jan 24 17:52 01_DataPrep\n",
      "drwxrwxr-x 2 loginvm001 loginvm001   4096 Jan 24 17:52 02_Model\n",
      "drwxrwxr-x 2 loginvm001 loginvm001   4096 Jan 24 17:52 docker_history\n",
      "-rwxrwxr-x 1 loginvm001 loginvm001 256265 Jan 24 17:52 edit_python_files.html\n",
      "-rwxrwxr-x 1 loginvm001 loginvm001   6867 Jan 24 17:52 edit_python_files.ipynb\n",
      "drwxrwxr-x 2 loginvm001 loginvm001   4096 Jan 24 17:52 src\n"
     ]
    }
   ],
   "source": [
    "!pwd\n",
    "!ls -l ./"
   ]
  },
  {
   "cell_type": "code",
   "execution_count": 41,
   "metadata": {},
   "outputs": [
    {
     "name": "stdout",
     "output_type": "stream",
     "text": [
      "Overwriting .env\n"
     ]
    }
   ],
   "source": [
    "%%writefile .env\n",
    "# This cell is tagged `parameters`\n",
    "# Please modify the values below as you see fit\n",
    "\n",
    "# Your docker login and image repository name\n",
    "docker_login = 'georgedockeraccount'\n",
    "image_tag = \"/chestxray-no-aml-gpu-root-account\"\n",
    "image_version = '1.0.2'"
   ]
  },
  {
   "cell_type": "code",
   "execution_count": 40,
   "metadata": {},
   "outputs": [
    {
     "data": {
      "text/plain": [
       "'1.0.1'"
      ]
     },
     "execution_count": 40,
     "metadata": {},
     "output_type": "execute_result"
    }
   ],
   "source": [
    "%dotenv\n",
    "os.getenv('image_version')\n",
    "dockerfile_name = 'dockerfile'+ '_' + os.getenv('image_version')"
   ]
  },
  {
   "cell_type": "code",
   "execution_count": 33,
   "metadata": {},
   "outputs": [
    {
     "name": "stdout",
     "output_type": "stream",
     "text": [
      "Overwriting ./../docker/dockerfile_1.0.1\n"
     ]
    }
   ],
   "source": [
    "%%writefile ./../docker/$dockerfile_name\n",
    "\n",
    "FROM nvidia/cuda:9.0-cudnn7-devel\n",
    "#FROM nvidia/cuda:9.0-cudnn7-devel-ubuntu16.04\n",
    "\n",
    "MAINTAINER George Iordanescu <ghiordan@microsoft.com>\n",
    "#based on https://github.com/keras-team/keras/blob/master/docker/Dockerfile\n",
    "\n",
    "# Install system packages\n",
    "RUN apt-get update && apt-get install -y --no-install-recommends \\\n",
    "      apt-utils \\\n",
    "      bzip2 \\\n",
    "      g++ \\\n",
    "      git \\\n",
    "      graphviz \\\n",
    "      libgl1-mesa-glx \\\n",
    "      libhdf5-dev \\\n",
    "      openmpi-bin \\\n",
    "      wget \\\n",
    "      ssh \\\n",
    "      rsync && \\\n",
    "    rm -rf /var/lib/apt/lists/*\n",
    "\n",
    "# Install conda\n",
    "ENV CONDA_DIR /opt/conda\n",
    "ENV PATH $CONDA_DIR/bin:$PATH\n",
    "\n",
    "RUN wget --quiet --no-check-certificate https://repo.continuum.io/miniconda/Miniconda3-4.2.12-Linux-x86_64.sh && \\\n",
    "    echo \"c59b3dd3cad550ac7596e0d599b91e75d88826db132e4146030ef471bb434e9a *Miniconda3-4.2.12-Linux-x86_64.sh\" | sha256sum -c - && \\\n",
    "    /bin/bash /Miniconda3-4.2.12-Linux-x86_64.sh -f -b -p $CONDA_DIR && \\\n",
    "    rm Miniconda3-4.2.12-Linux-x86_64.sh && \\\n",
    "    echo export PATH=$CONDA_DIR/bin:'$PATH' > /etc/profile.d/conda.sh \n",
    "        \n",
    "#https://docs.microsoft.com/en-us/azure/storage/common/storage-use-azcopy-linux\n",
    "# https://docs.microsoft.com/en-us/azure/storage/common/storage-use-azcopy-linux#download-and-install-azcopy\n",
    "# https://www.microsoft.com/net/download/linux-package-manager/ubuntu16-04/runtime-2.1.2\n",
    "RUN wget -q https://packages.microsoft.com/config/ubuntu/16.04/packages-microsoft-prod.deb && \\\n",
    "    dpkg -i packages-microsoft-prod.deb && \\ \n",
    "    apt-get install  -y --no-install-recommends apt-transport-https && \\\n",
    "    apt-get update && \\\n",
    "    apt-get install  -y --no-install-recommends aspnetcore-runtime-2.1  && \\\n",
    "    mkdir /tmp/azcopy && \\\n",
    "    wget -O /tmp/azcopy/azcopy.tar.gz https://aka.ms/downloadazcopyprlinux &&  \\\n",
    "    tar -xf /tmp/azcopy/azcopy.tar.gz -C /tmp/azcopy &&  \\\n",
    "    /tmp/azcopy/install.sh && \\\n",
    "    rm -rf /tmp/azcopy\n",
    "\n",
    "# Install Python packages and keras\n",
    "# ENV NB_USER keras\n",
    "# ENV NB_UID 1000\n",
    "\n",
    "# RUN useradd -m -s /bin/bash -N -u $NB_UID $NB_USER && \\\n",
    "#     chown $NB_USER $CONDA_DIR -R && \\\n",
    "#     mkdir -p /src && \\\n",
    "#     chown $NB_USER /src\n",
    "\n",
    "# USER $NB_USER\n",
    "RUN mkdir -p /sr\n",
    "\n",
    "ARG python_version=3.6\n",
    "\n",
    "# tensorflow-gpu 1.10.1 has requirement numpy<=1.14.5,>=1.13.3, but you'll have numpy 1.15.2 which is incompatible.\n",
    "RUN conda install -y python=${python_version} && \\\n",
    "    pip install --upgrade pip && \\\n",
    "    pip install \\\n",
    "      sklearn_pandas \\\n",
    "      scikit-image \\\n",
    "      tensorflow-gpu \\\n",
    "      tensorflow-tensorboard \\\n",
    "      matplotlib \\\n",
    "      numpy==1.14.5 && \\\n",
    "    conda install \\\n",
    "      bcolz \\\n",
    "      h5py \\\n",
    "      matplotlib \\\n",
    "      mkl \\\n",
    "      nose \\\n",
    "      notebook=5.6.0 \\\n",
    "      opencv \\\n",
    "      Pillow \\\n",
    "      pandas \\\n",
    "      pydot \\\n",
    "      pygpu \\\n",
    "      pyyaml \\\n",
    "      requests \\\n",
    "      scikit-learn \\\n",
    "      six \\\n",
    "      tqdm && \\\n",
    "    conda install -c conda-forge imageio && \\\n",
    "    git clone git://github.com/keras-team/keras.git /src && pip install -e /src[tests] && \\\n",
    "    pip install git+git://github.com/keras-team/keras.git && \\\n",
    "    pip install git+https://github.com/aleju/imgaug && \\\n",
    "    pip install git+https://www.github.com/keras-team/keras-contrib.git && \\\n",
    "    pip install http://download.pytorch.org/whl/cu90/torch-0.4.0-cp36-cp36m-linux_x86_64.whl \\\n",
    "      torchvision && \\\n",
    "    conda clean -yt     \n",
    "\n",
    "#ADD theanorc /home/keras/.theanorc\n",
    "\n",
    "ENV PYTHONPATH='/src/:$PYTHONPATH'\n",
    "\n",
    "WORKDIR /src\n",
    "\n",
    "EXPOSE 8888\n",
    "\n",
    "# CMD jupyter notebook --port=8888 --ip=0.0.0.0\n"
   ]
  },
  {
   "cell_type": "code",
   "execution_count": 34,
   "metadata": {},
   "outputs": [
    {
     "data": {
      "text/plain": [
       "'georgedockeraccount/chestxray-no-aml-gpu-root-account:1.0.1'"
      ]
     },
     "execution_count": 34,
     "metadata": {},
     "output_type": "execute_result"
    },
    {
     "data": {
      "text/plain": [
       "'./../docker/dockerfile_1.0.1'"
      ]
     },
     "execution_count": 34,
     "metadata": {},
     "output_type": "execute_result"
    }
   ],
   "source": [
    "%dotenv\n",
    "docker_image_name = os.getenv('docker_login') + os.getenv('image_tag') + ':' + os.getenv('image_version')\n",
    "docker_file_location = os.path.join(*(['.', '..','docker', dockerfile_name]))\n",
    "working_path = '.'\n",
    "\n",
    "docker_image_name\n",
    "docker_file_location"
   ]
  },
  {
   "cell_type": "code",
   "execution_count": 35,
   "metadata": {},
   "outputs": [],
   "source": [
    "!mkdir -p ./docker_history\n",
    "!cp $docker_file_location ./docker_history/"
   ]
  },
  {
   "cell_type": "code",
   "execution_count": 36,
   "metadata": {},
   "outputs": [
    {
     "name": "stdout",
     "output_type": "stream",
     "text": [
      "docker build -t georgedockeraccount/chestxray-no-aml-gpu-root-account:1.0.1 -f ./../docker/dockerfile_1.0.1 .\n",
      "Sending build context to Docker daemon  5.023MB\n",
      "Step 1/13 : FROM nvidia/cuda:9.0-cudnn7-devel\n",
      " ---> afc5ab1e9a0d\n",
      "Step 2/13 : MAINTAINER George Iordanescu <ghiordan@microsoft.com>\n",
      " ---> Using cache\n",
      " ---> 69afd8783ecc\n",
      "Step 3/13 : RUN apt-get update && apt-get install -y --no-install-recommends       apt-utils       bzip2       g++       git       graphviz       libgl1-mesa-glx       libhdf5-dev       openmpi-bin       wget       ssh       rsync &&     rm -rf /var/lib/apt/lists/*\n",
      " ---> Using cache\n",
      " ---> 934e4d56a2f5\n",
      "Step 4/13 : ENV CONDA_DIR /opt/conda\n",
      " ---> Using cache\n",
      " ---> eeb8740afbf1\n",
      "Step 5/13 : ENV PATH $CONDA_DIR/bin:$PATH\n",
      " ---> Using cache\n",
      " ---> 2cecb2d2db98\n",
      "Step 6/13 : RUN wget --quiet --no-check-certificate https://repo.continuum.io/miniconda/Miniconda3-4.2.12-Linux-x86_64.sh &&     echo \"c59b3dd3cad550ac7596e0d599b91e75d88826db132e4146030ef471bb434e9a *Miniconda3-4.2.12-Linux-x86_64.sh\" | sha256sum -c - &&     /bin/bash /Miniconda3-4.2.12-Linux-x86_64.sh -f -b -p $CONDA_DIR &&     rm Miniconda3-4.2.12-Linux-x86_64.sh &&     echo export PATH=$CONDA_DIR/bin:'$PATH' > /etc/profile.d/conda.sh\n",
      " ---> Using cache\n",
      " ---> 2244f6eee58b\n",
      "Step 7/13 : RUN wget -q https://packages.microsoft.com/config/ubuntu/16.04/packages-microsoft-prod.deb &&     dpkg -i packages-microsoft-prod.deb &&     apt-get install  -y --no-install-recommends apt-transport-https &&     apt-get update &&     apt-get install  -y --no-install-recommends aspnetcore-runtime-2.1  &&     mkdir /tmp/azcopy &&     wget -O /tmp/azcopy/azcopy.tar.gz https://aka.ms/downloadazcopyprlinux &&      tar -xf /tmp/azcopy/azcopy.tar.gz -C /tmp/azcopy &&      /tmp/azcopy/install.sh &&     rm -rf /tmp/azcopy\n",
      " ---> Using cache\n",
      " ---> 941bab87171c\n",
      "Step 8/13 : RUN mkdir -p /sr\n",
      " ---> Using cache\n",
      " ---> 5ea5ade3ff9e\n",
      "Step 9/13 : ARG python_version=3.6\n",
      " ---> Using cache\n",
      " ---> 4d3e939414b9\n",
      "Step 10/13 : RUN conda install -y python=${python_version} &&     pip install --upgrade pip &&     pip install       sklearn_pandas       scikit-image       tensorflow-gpu       tensorflow-tensorboard       matplotlib       numpy==1.14.5 &&     conda install       bcolz       h5py       matplotlib       mkl       nose       notebook=5.6.0       opencv       Pillow       pandas       pydot       pygpu       pyyaml       requests       scikit-learn       six       tqdm &&     conda install -c conda-forge imageio &&     git clone git://github.com/keras-team/keras.git /src && pip install -e /src[tests] &&     pip install git+git://github.com/keras-team/keras.git &&     pip install git+https://github.com/aleju/imgaug &&     pip install git+https://www.github.com/keras-team/keras-contrib.git &&     pip install http://download.pytorch.org/whl/cu90/torch-0.4.0-cp36-cp36m-linux_x86_64.whl       torchvision &&     conda clean -yt\n",
      " ---> Using cache\n",
      " ---> d9723385be7d\n",
      "Step 11/13 : ENV PYTHONPATH='/src/:$PYTHONPATH'\n",
      " ---> Using cache\n",
      " ---> 9420887c2c42\n",
      "Step 12/13 : WORKDIR /src\n",
      " ---> Using cache\n",
      " ---> d2bfad3f9b49\n",
      "Step 13/13 : EXPOSE 8888\n",
      " ---> Using cache\n",
      " ---> 73570d309bcc\n",
      "Successfully built 73570d309bcc\n",
      "Successfully tagged georgedockeraccount/chestxray-no-aml-gpu-root-account:1.0.1\n"
     ]
    }
   ],
   "source": [
    "!echo docker build -t $docker_image_name -f $docker_file_location $working_path\n",
    "!docker build -t $docker_image_name -f $docker_file_location $working_path"
   ]
  },
  {
   "cell_type": "code",
   "execution_count": 37,
   "metadata": {},
   "outputs": [
    {
     "name": "stdout",
     "output_type": "stream",
     "text": [
      "The push refers to repository [docker.io/georgedockeraccount/chestxray-no-aml-gpu-root-account]\n",
      "\n",
      "\u001b[1B4dd5d846: Preparing \n",
      "\u001b[1B500cdad0: Preparing \n",
      "\u001b[1Bd9c85619: Preparing \n",
      "\u001b[1B08bfc7f5: Preparing \n",
      "\u001b[1B255199c7: Preparing \n",
      "\u001b[1B39f3990e: Preparing \n",
      "\u001b[1B347e5346: Preparing \n",
      "\u001b[1B9e5e9701: Preparing \n",
      "\u001b[1B51016399: Preparing \n",
      "\u001b[1Bb658aaf0: Preparing \n",
      "\u001b[1Ba9c7c79e: Preparing \n",
      "\u001b[1Ba8049aa6: Preparing \n",
      "\u001b[1B9c0f8a0b: Preparing \n",
      "\u001b[1B8ccd260b: Preparing \n",
      "\u001b[1B91f0ffec: Layer already exists \u001b[14A\u001b[1K\u001b[K\u001b[7A\u001b[1K\u001b[K\u001b[6A\u001b[1K\u001b[K\u001b[2A\u001b[1K\u001b[K\u001b[1A\u001b[1K\u001b[K1.0.1: digest: sha256:21b40a4a52af54931a57a00af6d25ecdbbcd75cff48aa0e9137b261e7640ce31 size: 3475\n"
     ]
    }
   ],
   "source": [
    "!docker push $docker_image_name"
   ]
  },
  {
   "cell_type": "code",
   "execution_count": 38,
   "metadata": {},
   "outputs": [
    {
     "name": "stdout",
     "output_type": "stream",
     "text": [
      "nvidia-docker run -i -t -p 10003:8888 -v $(pwd):/local_dir:rw georgedockeraccount/chestxray-no-aml-gpu-root-account:1.0.1 /bin/bash -c \"/opt/conda/bin/jupyter notebook --notebook-dir=/local_dir --ip=* --port=8888 --no-browser --allow-root\"\r\n"
     ]
    }
   ],
   "source": [
    "!echo nvidia-docker run -i -t -p 10003:8888 -v '$(pwd)':/local_dir:rw $docker_image_name /bin/bash -c '\"/opt/conda/bin/jupyter notebook --notebook-dir=/local_dir --ip='*' --port=8888 --no-browser --allow-root\"'"
   ]
  },
  {
   "cell_type": "code",
   "execution_count": 39,
   "metadata": {},
   "outputs": [
    {
     "name": "stdout",
     "output_type": "stream",
     "text": [
      "[NbConvertApp] Converting notebook 00_create_docker_image.ipynb to html\n",
      "[NbConvertApp] Writing 267620 bytes to 00_create_docker_image.html\n"
     ]
    }
   ],
   "source": [
    "!jupyter nbconvert --to html 00_create_docker_image.ipynb"
   ]
  },
  {
   "cell_type": "code",
   "execution_count": null,
   "metadata": {},
   "outputs": [],
   "source": []
  }
 ],
 "metadata": {
  "kernelspec": {
   "display_name": "Python [conda env:py35]",
   "language": "python",
   "name": "conda-env-py35-py"
  },
  "language_info": {
   "codemirror_mode": {
    "name": "ipython",
    "version": 3
   },
   "file_extension": ".py",
   "mimetype": "text/x-python",
   "name": "python",
   "nbconvert_exporter": "python",
   "pygments_lexer": "ipython3",
   "version": "3.5.5"
  }
 },
 "nbformat": 4,
 "nbformat_minor": 2
}
