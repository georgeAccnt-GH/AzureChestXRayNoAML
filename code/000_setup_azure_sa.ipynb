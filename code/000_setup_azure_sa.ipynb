{
 "cells": [
  {
   "cell_type": "markdown",
   "metadata": {},
   "source": [
    "Copyright (C) Microsoft Corporation.  \n",
    "see license file for details \n",
    "\n",
    "### Sets up basic Azure resources for the project\n",
    "\n",
    "Uncomment lines as needed to:  \n",
    " - set up the project subscription, resource group and so on  \n",
    " - create storage account and containers  \n",
    " - save necessary info info in __dotenv_file_path__  \n",
    "  "
   ]
  },
  {
   "cell_type": "code",
   "execution_count": 1,
   "metadata": {},
   "outputs": [],
   "source": [
    "# Allow multiple displays per cell\n",
    "from IPython.core.interactiveshell import InteractiveShell\n",
    "InteractiveShell.ast_node_interactivity = \"all\""
   ]
  },
  {
   "cell_type": "code",
   "execution_count": 2,
   "metadata": {},
   "outputs": [],
   "source": [
    "import os\n",
    "import platform,  dotenv"
   ]
  },
  {
   "cell_type": "code",
   "execution_count": 3,
   "metadata": {},
   "outputs": [
    {
     "data": {
      "text/plain": [
       "'Linux-4.15.0-1063-azure-x86_64-with-debian-stretch-sid'"
      ]
     },
     "execution_count": 3,
     "metadata": {},
     "output_type": "execute_result"
    },
    {
     "data": {
      "text/plain": [
       "'/datadrive01/prj/AzureChestXRayNoAML/code'"
      ]
     },
     "execution_count": 3,
     "metadata": {},
     "output_type": "execute_result"
    }
   ],
   "source": [
    "platform.platform()\n",
    "os.getcwd()"
   ]
  },
  {
   "cell_type": "code",
   "execution_count": 4,
   "metadata": {},
   "outputs": [],
   "source": [
    "subscription_id = \"...\"\n",
    "resource_group = \"...\"\n",
    "sa_name='...'\n",
    "sa_container_name='nihchestxraydata'\n",
    "sa_container_name_compressed_data='nihchestxraydatacompressed'\n",
    "sa_container_name_images='nihchestxrayimages'\n",
    "rsg_region = \"eastus\"\n",
    "docker_login = 'georgedockeraccount'\n",
    "docker_password = ''\n",
    "image_tag = \"/chestxray-no-aml-gpu-root-account\"\n",
    "image_version = '1.0.4'"
   ]
  },
  {
   "cell_type": "code",
   "execution_count": 5,
   "metadata": {},
   "outputs": [],
   "source": [
    "# !az login\n",
    "response01 = ! az account list --all --refresh -o table\n",
    "response02 = ! az account set --subscription $subscription_id\n",
    "response03 = ! az account list -o table\n",
    "\n",
    "# response01\n",
    "# response02\n",
    "# response03"
   ]
  },
  {
   "cell_type": "code",
   "execution_count": 6,
   "metadata": {},
   "outputs": [
    {
     "data": {
      "text/plain": [
       "'az storage account create --name ... --resource-group ... --location eastus --sku Standard_ZRS --encryption blob'"
      ]
     },
     "execution_count": 6,
     "metadata": {},
     "output_type": "execute_result"
    }
   ],
   "source": [
    "cli_command = 'az storage account create ' +\\\n",
    "    '--name '+ sa_name + ' '+ \\\n",
    "    '--resource-group '+resource_group + ' '+ \\\n",
    "    '--location '+ rsg_region + ' '+ \\\n",
    "    '--sku Standard_ZRS '+ \\\n",
    "    '--encryption blob'\n",
    "\n",
    "cli_command\n",
    "# !$cli_command"
   ]
  },
  {
   "cell_type": "code",
   "execution_count": 7,
   "metadata": {},
   "outputs": [
    {
     "data": {
      "text/plain": [
       "'az storage account keys list --account-name ... --resource-group ... --output table'"
      ]
     },
     "execution_count": 7,
     "metadata": {},
     "output_type": "execute_result"
    }
   ],
   "source": [
    "cli_command = 'az storage account keys list ' +\\\n",
    "    '--account-name ' + sa_name + ' '+ \\\n",
    "    '--resource-group '+resource_group + ' '+ \\\n",
    "    '--output table'\n",
    "cli_command\n",
    "# response = !$cli_command\n",
    "# response"
   ]
  },
  {
   "cell_type": "code",
   "execution_count": 8,
   "metadata": {},
   "outputs": [
    {
     "data": {
      "text/plain": [
       "'./../not_shared/general.env'"
      ]
     },
     "execution_count": 8,
     "metadata": {},
     "output_type": "execute_result"
    }
   ],
   "source": [
    "dotenv_file_path = './../not_shared/' \n",
    "os.makedirs(dotenv_file_path, exist_ok=True)\n",
    "dotenv_file_path = os.path.join(dotenv_file_path, 'general.env')\n",
    "dotenv_file_path\n",
    "! sudo touch $dotenv_file_path"
   ]
  },
  {
   "cell_type": "code",
   "execution_count": 9,
   "metadata": {},
   "outputs": [],
   "source": [
    "sa_key1 = \"...\""
   ]
  },
  {
   "cell_type": "code",
   "execution_count": 10,
   "metadata": {},
   "outputs": [
    {
     "data": {
      "text/plain": [
       "'az storage container create --account-name ... --name nihchestxraydata'"
      ]
     },
     "execution_count": 10,
     "metadata": {},
     "output_type": "execute_result"
    }
   ],
   "source": [
    "cli_command = 'az storage container create ' +\\\n",
    "'--account-name ' + sa_name + ' '+ \\\n",
    "'--name ' + sa_container_name\n",
    "cli_command\n",
    "# response = !$cli_command\n",
    "# response"
   ]
  },
  {
   "cell_type": "code",
   "execution_count": 11,
   "metadata": {},
   "outputs": [],
   "source": [
    "# response = dotenv.set_key(dotenv_file_path, 'subscription_id', subscription_id)\n",
    "# response = dotenv.set_key(dotenv_file_path, 'resource_group', resource_group)\n",
    "# response = dotenv.set_key(dotenv_file_path, 'sa_name', sa_name)\n",
    "# response = dotenv.set_key(dotenv_file_path, 'rsg_region', rsg_region)\n",
    "# response = dotenv.set_key(dotenv_file_path, 'sa_key', sa_key1)\n",
    "# response = dotenv.set_key(dotenv_file_path, 'sa_container_name', sa_container_name)\n",
    "# response = dotenv.set_key(dotenv_file_path, 'docker_login', docker_login)\n",
    "# response = dotenv.set_key(dotenv_file_path, 'docker_password', docker_password)\n",
    "# response = dotenv.set_key(dotenv_file_path, 'image_tag', image_tag)\n",
    "# response = dotenv.set_key(dotenv_file_path, 'image_version', image_version)\n",
    "# response = dotenv.set_key(dotenv_file_path, 'sa_container_name_compressed_data', sa_container_name_compressed_data)\n",
    "# response = dotenv.set_key(dotenv_file_path, 'sa_container_name_images', sa_container_name_images)"
   ]
  },
  {
   "cell_type": "code",
   "execution_count": 12,
   "metadata": {},
   "outputs": [],
   "source": [
    "%load_ext dotenv\n",
    "%dotenv $dotenv_file_path -o"
   ]
  },
  {
   "cell_type": "code",
   "execution_count": 13,
   "metadata": {},
   "outputs": [
    {
     "data": {
      "text/plain": [
       "'az storage container create --account-name ghiordanazrchestxraysa --name nihchestxraydatacompressed'"
      ]
     },
     "execution_count": 13,
     "metadata": {},
     "output_type": "execute_result"
    },
    {
     "name": "stdout",
     "output_type": "stream",
     "text": [
      "{\r\n",
      "  \"created\": false\r\n",
      "}\r\n",
      "\u001b[0m"
     ]
    },
    {
     "data": {
      "text/plain": [
       "'az storage container create --account-name ghiordanazrchestxraysa --name nihchestxrayimages'"
      ]
     },
     "execution_count": 13,
     "metadata": {},
     "output_type": "execute_result"
    },
    {
     "name": "stdout",
     "output_type": "stream",
     "text": [
      "{\n",
      "  \"created\": true\n",
      "}\n",
      "\u001b[0m"
     ]
    }
   ],
   "source": [
    "cli_command = 'az storage container create ' +\\\n",
    "'--account-name ' + os.getenv('sa_name') + ' '+ \\\n",
    "'--name ' + os.getenv('sa_container_name_compressed_data')\n",
    "cli_command\n",
    "!$cli_command\n",
    "\n",
    "cli_command = 'az storage container create ' +\\\n",
    "'--account-name ' + os.getenv('sa_name') + ' '+ \\\n",
    "'--name ' + os.getenv('sa_container_name_images')\n",
    "cli_command\n",
    "!$cli_command"
   ]
  },
  {
   "cell_type": "code",
   "execution_count": null,
   "metadata": {},
   "outputs": [],
   "source": []
  }
 ],
 "metadata": {
  "kernelspec": {
   "display_name": "Python [conda env:py35]",
   "language": "python",
   "name": "conda-env-py35-py"
  },
  "language_info": {
   "codemirror_mode": {
    "name": "ipython",
    "version": 3
   },
   "file_extension": ".py",
   "mimetype": "text/x-python",
   "name": "python",
   "nbconvert_exporter": "python",
   "pygments_lexer": "ipython3",
   "version": "3.5.5"
  }
 },
 "nbformat": 4,
 "nbformat_minor": 2
}
